{
  "nbformat": 4,
  "nbformat_minor": 0,
  "metadata": {
    "kernelspec": {
      "name": "python3",
      "display_name": "Python 3"
    },
    "language_info": {
      "codemirror_mode": {
        "name": "ipython",
        "version": 3
      },
      "file_extension": ".py",
      "mimetype": "text/x-python",
      "name": "python",
      "nbconvert_exporter": "python",
      "pygments_lexer": "ipython3",
      "version": "3.6.5"
    },
    "colab": {
      "name": "CrimePrediction-EDA & Ensemble",
      "provenance": [],
      "collapsed_sections": []
    },
    "accelerator": "GPU"
  },
  "cells": [
    {
      "cell_type": "code",
      "metadata": {
        "id": "dezQ7fMO2b-9",
        "colab_type": "code",
        "colab": {}
      },
      "source": [
        "#Import Libraries\n",
        "import numpy as np \n",
        "import pandas as pd\n",
        "import matplotlib.pyplot as plt\n",
        "import seaborn as sns\n",
        "import missingno as msno\n",
        "#Import data preprocessing, data split, metrics libraries\n",
        "from sklearn.model_selection import train_test_split\n",
        "from sklearn.preprocessing import MinMaxScaler\n",
        "from sklearn import metrics\n",
        "from sklearn.metrics import mean_squared_error, r2_score, mean_absolute_error,explained_variance_score\n",
        "#import ensemble learners\n",
        "from sklearn.ensemble import RandomForestRegressor\n",
        "import xgboost as xgbo\n",
        "#import cross validation libraries\n",
        "from sklearn import model_selection\n",
        "from sklearn.model_selection import KFold\n",
        "#Import statistical libraries to plot distribution of data\n",
        "from scipy import stats\n",
        "from scipy.stats import norm, skew\n",
        "#import warnings to supress if any\n",
        "import warnings\n",
        "warnings.filterwarnings('ignore')\n",
        "#Common settings for sns plots\n",
        "sns.set(style='white', context='notebook', palette='deep',font_scale=1)\n",
        "#import files to colab\n",
        "from google.colab import files "
      ],
      "execution_count": 0,
      "outputs": []
    },
    {
      "cell_type": "code",
      "metadata": {
        "id": "czYB63QO2k8g",
        "colab_type": "code",
        "outputId": "1813a2de-9296-4245-b67c-cfc86558944d",
        "colab": {
          "resources": {
            "http://localhost:8080/nbextensions/google.colab/files.js": {
              "data": "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",
              "ok": true,
              "headers": [
                [
                  "content-type",
                  "application/javascript"
                ]
              ],
              "status": 200,
              "status_text": ""
            }
          },
          "base_uri": "https://localhost:8080/",
          "height": 75
        }
      },
      "source": [
        "\n",
        "uploaded = files.upload() "
      ],
      "execution_count": 4,
      "outputs": [
        {
          "output_type": "display_data",
          "data": {
            "text/html": [
              "\n",
              "     <input type=\"file\" id=\"files-3bdd0b47-329a-44ac-bdf7-261f004d66f8\" name=\"files[]\" multiple disabled />\n",
              "     <output id=\"result-3bdd0b47-329a-44ac-bdf7-261f004d66f8\">\n",
              "      Upload widget is only available when the cell has been executed in the\n",
              "      current browser session. Please rerun this cell to enable.\n",
              "      </output>\n",
              "      <script src=\"/nbextensions/google.colab/files.js\"></script> "
            ],
            "text/plain": [
              "<IPython.core.display.HTML object>"
            ]
          },
          "metadata": {
            "tags": []
          }
        },
        {
          "output_type": "stream",
          "text": [
            "Saving CrimeMerged.csv to CrimeMerged.csv\n"
          ],
          "name": "stdout"
        }
      ]
    },
    {
      "cell_type": "code",
      "metadata": {
        "id": "_QdOunMp2b_B",
        "colab_type": "code",
        "colab": {
          "base_uri": "https://localhost:8080/",
          "height": 526
        },
        "outputId": "c074b135-2726-4f72-e6c1-90b1da5d673c"
      },
      "source": [
        "crime = pd.read_csv('CrimeMerged.csv')\n",
        "crime.shape #(33565, 28)\n",
        "crime.dtypes\n",
        "#Convert all categories to object datatype\n",
        "crime.Year = crime.Year.astype(object)\n",
        "crime.Month = crime.Month.astype(object)\n",
        "crime.WEEKDAY = crime.WEEKDAY.astype(object)\n",
        "crime.Holiday = crime.Holiday.astype(object) \n",
        "crime = crime.drop(columns='Day') # Drop unwanted column\n",
        "crime.isna().sum() #Check for NA values"
      ],
      "execution_count": 5,
      "outputs": [
        {
          "output_type": "execute_result",
          "data": {
            "text/plain": [
              "geohash                         0\n",
              "Primary_Type                    0\n",
              "Year                            0\n",
              "Month                           0\n",
              "WEEKDAY                         0\n",
              "Holiday                         0\n",
              "Time                            0\n",
              "crimescount                     0\n",
              "NearestPoliceDist               0\n",
              "NearestSpeedCamDist             0\n",
              "NearestRedCamDist               0\n",
              "SpeedCamCount                   0\n",
              "RedCamCount                     0\n",
              "Avg_Misconduct_Rate             0\n",
              "Avg_Suspension_Rate             0\n",
              "Avg_Student_Attendance_Rate     0\n",
              "Avg_Teacher_Attendance_Rate     0\n",
              "Avg_Suspension_Days             0\n",
              "SchoolCount                     0\n",
              "Avg_Dropout_Rate                0\n",
              "Avg_FreshmanTrack_Rate          0\n",
              "Avg_CollegeEnrollment_Rate      0\n",
              "Avg_College_Persistence_Rate    0\n",
              "Mobility_Rate_Pct               0\n",
              "avgTemp                         0\n",
              "prcp                            0\n",
              "wind                            0\n",
              "dtype: int64"
            ]
          },
          "metadata": {
            "tags": []
          },
          "execution_count": 5
        }
      ]
    },
    {
      "cell_type": "code",
      "metadata": {
        "id": "O9bT5sG52b_N",
        "colab_type": "code",
        "outputId": "647c8873-7230-4f14-ec1e-7f8eaa2fea02",
        "colab": {
          "base_uri": "https://localhost:8080/",
          "height": 526
        }
      },
      "source": [
        "crime.dtypes"
      ],
      "execution_count": 6,
      "outputs": [
        {
          "output_type": "execute_result",
          "data": {
            "text/plain": [
              "geohash                          object\n",
              "Primary_Type                     object\n",
              "Year                             object\n",
              "Month                            object\n",
              "WEEKDAY                          object\n",
              "Holiday                          object\n",
              "Time                             object\n",
              "crimescount                       int64\n",
              "NearestPoliceDist               float64\n",
              "NearestSpeedCamDist             float64\n",
              "NearestRedCamDist               float64\n",
              "SpeedCamCount                   float64\n",
              "RedCamCount                     float64\n",
              "Avg_Misconduct_Rate             float64\n",
              "Avg_Suspension_Rate             float64\n",
              "Avg_Student_Attendance_Rate     float64\n",
              "Avg_Teacher_Attendance_Rate     float64\n",
              "Avg_Suspension_Days             float64\n",
              "SchoolCount                     float64\n",
              "Avg_Dropout_Rate                float64\n",
              "Avg_FreshmanTrack_Rate          float64\n",
              "Avg_CollegeEnrollment_Rate      float64\n",
              "Avg_College_Persistence_Rate    float64\n",
              "Mobility_Rate_Pct               float64\n",
              "avgTemp                         float64\n",
              "prcp                            float64\n",
              "wind                            float64\n",
              "dtype: object"
            ]
          },
          "metadata": {
            "tags": []
          },
          "execution_count": 6
        }
      ]
    },
    {
      "cell_type": "code",
      "metadata": {
        "id": "MzQvDwhQ2b_P",
        "colab_type": "code",
        "outputId": "b20b4277-197d-4bf4-a853-b614efd8b55b",
        "colab": {
          "base_uri": "https://localhost:8080/",
          "height": 218
        }
      },
      "source": [
        "crime.head()"
      ],
      "execution_count": 7,
      "outputs": [
        {
          "output_type": "execute_result",
          "data": {
            "text/html": [
              "<div>\n",
              "<style scoped>\n",
              "    .dataframe tbody tr th:only-of-type {\n",
              "        vertical-align: middle;\n",
              "    }\n",
              "\n",
              "    .dataframe tbody tr th {\n",
              "        vertical-align: top;\n",
              "    }\n",
              "\n",
              "    .dataframe thead th {\n",
              "        text-align: right;\n",
              "    }\n",
              "</style>\n",
              "<table border=\"1\" class=\"dataframe\">\n",
              "  <thead>\n",
              "    <tr style=\"text-align: right;\">\n",
              "      <th></th>\n",
              "      <th>geohash</th>\n",
              "      <th>Primary_Type</th>\n",
              "      <th>Year</th>\n",
              "      <th>Month</th>\n",
              "      <th>WEEKDAY</th>\n",
              "      <th>Holiday</th>\n",
              "      <th>Time</th>\n",
              "      <th>crimescount</th>\n",
              "      <th>NearestPoliceDist</th>\n",
              "      <th>NearestSpeedCamDist</th>\n",
              "      <th>NearestRedCamDist</th>\n",
              "      <th>SpeedCamCount</th>\n",
              "      <th>RedCamCount</th>\n",
              "      <th>Avg_Misconduct_Rate</th>\n",
              "      <th>Avg_Suspension_Rate</th>\n",
              "      <th>Avg_Student_Attendance_Rate</th>\n",
              "      <th>Avg_Teacher_Attendance_Rate</th>\n",
              "      <th>Avg_Suspension_Days</th>\n",
              "      <th>SchoolCount</th>\n",
              "      <th>Avg_Dropout_Rate</th>\n",
              "      <th>Avg_FreshmanTrack_Rate</th>\n",
              "      <th>Avg_CollegeEnrollment_Rate</th>\n",
              "      <th>Avg_College_Persistence_Rate</th>\n",
              "      <th>Mobility_Rate_Pct</th>\n",
              "      <th>avgTemp</th>\n",
              "      <th>prcp</th>\n",
              "      <th>wind</th>\n",
              "    </tr>\n",
              "  </thead>\n",
              "  <tbody>\n",
              "    <tr>\n",
              "      <th>0</th>\n",
              "      <td>dp3sy</td>\n",
              "      <td>ASSAULT</td>\n",
              "      <td>2015</td>\n",
              "      <td>1</td>\n",
              "      <td>0</td>\n",
              "      <td>False</td>\n",
              "      <td>afternoon</td>\n",
              "      <td>3</td>\n",
              "      <td>4.16</td>\n",
              "      <td>2.52</td>\n",
              "      <td>3.93</td>\n",
              "      <td>0.0</td>\n",
              "      <td>0.0</td>\n",
              "      <td>41.23</td>\n",
              "      <td>10.12</td>\n",
              "      <td>92.83</td>\n",
              "      <td>94.57</td>\n",
              "      <td>2.81</td>\n",
              "      <td>5.0</td>\n",
              "      <td>4.57</td>\n",
              "      <td>85.48</td>\n",
              "      <td>51.93</td>\n",
              "      <td>65.79</td>\n",
              "      <td>26.88</td>\n",
              "      <td>59.418065</td>\n",
              "      <td>33.283226</td>\n",
              "      <td>34.589677</td>\n",
              "    </tr>\n",
              "    <tr>\n",
              "      <th>1</th>\n",
              "      <td>dp3sy</td>\n",
              "      <td>ASSAULT</td>\n",
              "      <td>2015</td>\n",
              "      <td>1</td>\n",
              "      <td>0</td>\n",
              "      <td>False</td>\n",
              "      <td>evening</td>\n",
              "      <td>3</td>\n",
              "      <td>4.16</td>\n",
              "      <td>2.52</td>\n",
              "      <td>3.93</td>\n",
              "      <td>0.0</td>\n",
              "      <td>0.0</td>\n",
              "      <td>41.23</td>\n",
              "      <td>10.12</td>\n",
              "      <td>92.83</td>\n",
              "      <td>94.57</td>\n",
              "      <td>2.81</td>\n",
              "      <td>5.0</td>\n",
              "      <td>4.57</td>\n",
              "      <td>85.48</td>\n",
              "      <td>51.93</td>\n",
              "      <td>65.79</td>\n",
              "      <td>26.88</td>\n",
              "      <td>59.418065</td>\n",
              "      <td>33.283226</td>\n",
              "      <td>34.589677</td>\n",
              "    </tr>\n",
              "    <tr>\n",
              "      <th>2</th>\n",
              "      <td>dp3sy</td>\n",
              "      <td>ASSAULT</td>\n",
              "      <td>2015</td>\n",
              "      <td>1</td>\n",
              "      <td>0</td>\n",
              "      <td>False</td>\n",
              "      <td>morning</td>\n",
              "      <td>2</td>\n",
              "      <td>4.16</td>\n",
              "      <td>2.52</td>\n",
              "      <td>3.93</td>\n",
              "      <td>0.0</td>\n",
              "      <td>0.0</td>\n",
              "      <td>41.23</td>\n",
              "      <td>10.12</td>\n",
              "      <td>92.83</td>\n",
              "      <td>94.57</td>\n",
              "      <td>2.81</td>\n",
              "      <td>5.0</td>\n",
              "      <td>4.57</td>\n",
              "      <td>85.48</td>\n",
              "      <td>51.93</td>\n",
              "      <td>65.79</td>\n",
              "      <td>26.88</td>\n",
              "      <td>59.418065</td>\n",
              "      <td>33.283226</td>\n",
              "      <td>34.589677</td>\n",
              "    </tr>\n",
              "    <tr>\n",
              "      <th>3</th>\n",
              "      <td>dp3sy</td>\n",
              "      <td>ASSAULT</td>\n",
              "      <td>2015</td>\n",
              "      <td>1</td>\n",
              "      <td>0</td>\n",
              "      <td>False</td>\n",
              "      <td>night</td>\n",
              "      <td>2</td>\n",
              "      <td>4.16</td>\n",
              "      <td>2.52</td>\n",
              "      <td>3.93</td>\n",
              "      <td>0.0</td>\n",
              "      <td>0.0</td>\n",
              "      <td>41.23</td>\n",
              "      <td>10.12</td>\n",
              "      <td>92.83</td>\n",
              "      <td>94.57</td>\n",
              "      <td>2.81</td>\n",
              "      <td>5.0</td>\n",
              "      <td>4.57</td>\n",
              "      <td>85.48</td>\n",
              "      <td>51.93</td>\n",
              "      <td>65.79</td>\n",
              "      <td>26.88</td>\n",
              "      <td>59.418065</td>\n",
              "      <td>33.283226</td>\n",
              "      <td>34.589677</td>\n",
              "    </tr>\n",
              "    <tr>\n",
              "      <th>4</th>\n",
              "      <td>dp3sy</td>\n",
              "      <td>ASSAULT</td>\n",
              "      <td>2015</td>\n",
              "      <td>1</td>\n",
              "      <td>1</td>\n",
              "      <td>False</td>\n",
              "      <td>evening</td>\n",
              "      <td>1</td>\n",
              "      <td>4.16</td>\n",
              "      <td>2.52</td>\n",
              "      <td>3.93</td>\n",
              "      <td>0.0</td>\n",
              "      <td>0.0</td>\n",
              "      <td>41.23</td>\n",
              "      <td>10.12</td>\n",
              "      <td>92.83</td>\n",
              "      <td>94.57</td>\n",
              "      <td>2.81</td>\n",
              "      <td>5.0</td>\n",
              "      <td>4.57</td>\n",
              "      <td>85.48</td>\n",
              "      <td>51.93</td>\n",
              "      <td>65.79</td>\n",
              "      <td>26.88</td>\n",
              "      <td>59.418065</td>\n",
              "      <td>33.283226</td>\n",
              "      <td>34.589677</td>\n",
              "    </tr>\n",
              "  </tbody>\n",
              "</table>\n",
              "</div>"
            ],
            "text/plain": [
              "  geohash Primary_Type  Year  ...    avgTemp       prcp       wind\n",
              "0   dp3sy      ASSAULT  2015  ...  59.418065  33.283226  34.589677\n",
              "1   dp3sy      ASSAULT  2015  ...  59.418065  33.283226  34.589677\n",
              "2   dp3sy      ASSAULT  2015  ...  59.418065  33.283226  34.589677\n",
              "3   dp3sy      ASSAULT  2015  ...  59.418065  33.283226  34.589677\n",
              "4   dp3sy      ASSAULT  2015  ...  59.418065  33.283226  34.589677\n",
              "\n",
              "[5 rows x 27 columns]"
            ]
          },
          "metadata": {
            "tags": []
          },
          "execution_count": 7
        }
      ]
    },
    {
      "cell_type": "code",
      "metadata": {
        "id": "7EnuNywI2b_Q",
        "colab_type": "code",
        "outputId": "ad013739-ade6-4070-ebbe-3f688881ad97",
        "colab": {
          "base_uri": "https://localhost:8080/",
          "height": 108
        }
      },
      "source": [
        "crime.Year.value_counts()"
      ],
      "execution_count": 8,
      "outputs": [
        {
          "output_type": "execute_result",
          "data": {
            "text/plain": [
              "2015    8772\n",
              "2018    8366\n",
              "2016    8268\n",
              "2017    8159\n",
              "Name: Year, dtype: int64"
            ]
          },
          "metadata": {
            "tags": []
          },
          "execution_count": 8
        }
      ]
    },
    {
      "cell_type": "code",
      "metadata": {
        "id": "QKIpRlJf2b_S",
        "colab_type": "code",
        "colab": {}
      },
      "source": [
        "narcotics = crime.copy()"
      ],
      "execution_count": 0,
      "outputs": []
    },
    {
      "cell_type": "code",
      "metadata": {
        "id": "YCDf5D8_2b_a",
        "colab_type": "code",
        "outputId": "6f768f08-02b3-44da-9985-9870d3a5fa70",
        "colab": {
          "base_uri": "https://localhost:8080/",
          "height": 537
        }
      },
      "source": [
        "#We will plot our dependent variable, crime rate for its distribution and outliers\n",
        "sns.set(font_scale=1)\n",
        "narcotics['crimescount'].plot(kind='hist')\n",
        "plt.show() #Right skewed which means positively skewed\n",
        "narcotics.boxplot(column=['crimescount'],return_type='axes')\n",
        "#we will check whether log transformation changes the skewness"
      ],
      "execution_count": 12,
      "outputs": [
        {
          "output_type": "display_data",
          "data": {
            "image/png": "[encoded data removed]",
            "text/plain": [
              "<Figure size 432x288 with 1 Axes>"
            ]
          },
          "metadata": {
            "tags": []
          }
        },
        {
          "output_type": "execute_result",
          "data": {
            "text/plain": [
              "<matplotlib.axes._subplots.AxesSubplot at 0x7f960254af28>"
            ]
          },
          "metadata": {
            "tags": []
          },
          "execution_count": 12
        },
        {
          "output_type": "display_data",
          "data": {
            "image/png": "[encoded data removed]",
            "text/plain": [
              "<Figure size 432x288 with 1 Axes>"
            ]
          },
          "metadata": {
            "tags": []
          }
        }
      ]
    },
    {
      "cell_type": "code",
      "metadata": {
        "id": "-LAgTuc22b_k",
        "colab_type": "code",
        "outputId": "9a455451-d9b5-4492-da6f-06b736debccc",
        "colab": {
          "base_uri": "https://localhost:8080/",
          "height": 537
        }
      },
      "source": [
        "#After log transformation, check the distribution\n",
        "narcotics['crimelog'] = np.log1p(narcotics['crimescount'])\n",
        "narcotics['crimelog'].plot(kind='hist')\n",
        "plt.show() #Right skewed which means positively skewed\n",
        "narcotics.boxplot(column=['crimelog'],return_type='axes')\n",
        "#Even after log transformation, not much of a change\n",
        "#Since ensemble learners RF & XGB do not carry any assumption about distribution, we will use the original crime count variable"
      ],
      "execution_count": 13,
      "outputs": [
        {
          "output_type": "display_data",
          "data": {
            "image/png": "[encoded data removed]",
            "text/plain": [
              "<Figure size 432x288 with 1 Axes>"
            ]
          },
          "metadata": {
            "tags": []
          }
        },
        {
          "output_type": "execute_result",
          "data": {
            "text/plain": [
              "<matplotlib.axes._subplots.AxesSubplot at 0x7f9602401898>"
            ]
          },
          "metadata": {
            "tags": []
          },
          "execution_count": 13
        },
        {
          "output_type": "display_data",
          "data": {
            "image/png": "[encoded data removed]",
            "text/plain": [
              "<Figure size 432x288 with 1 Axes>"
            ]
          },
          "metadata": {
            "tags": []
          }
        }
      ]
    },
    {
      "cell_type": "code",
      "metadata": {
        "id": "pf39zlQT2b_m",
        "colab_type": "code",
        "outputId": "cfb3456c-f180-413a-f85d-083aec873539",
        "colab": {
          "base_uri": "https://localhost:8080/",
          "height": 218
        }
      },
      "source": [
        "narcotics.head()"
      ],
      "execution_count": 14,
      "outputs": [
        {
          "output_type": "execute_result",
          "data": {
            "text/html": [
              "<div>\n",
              "<style scoped>\n",
              "    .dataframe tbody tr th:only-of-type {\n",
              "        vertical-align: middle;\n",
              "    }\n",
              "\n",
              "    .dataframe tbody tr th {\n",
              "        vertical-align: top;\n",
              "    }\n",
              "\n",
              "    .dataframe thead th {\n",
              "        text-align: right;\n",
              "    }\n",
              "</style>\n",
              "<table border=\"1\" class=\"dataframe\">\n",
              "  <thead>\n",
              "    <tr style=\"text-align: right;\">\n",
              "      <th></th>\n",
              "      <th>geohash</th>\n",
              "      <th>Primary_Type</th>\n",
              "      <th>Year</th>\n",
              "      <th>Month</th>\n",
              "      <th>WEEKDAY</th>\n",
              "      <th>Holiday</th>\n",
              "      <th>Time</th>\n",
              "      <th>crimescount</th>\n",
              "      <th>NearestPoliceDist</th>\n",
              "      <th>NearestSpeedCamDist</th>\n",
              "      <th>NearestRedCamDist</th>\n",
              "      <th>SpeedCamCount</th>\n",
              "      <th>RedCamCount</th>\n",
              "      <th>Avg_Misconduct_Rate</th>\n",
              "      <th>Avg_Suspension_Rate</th>\n",
              "      <th>Avg_Student_Attendance_Rate</th>\n",
              "      <th>Avg_Teacher_Attendance_Rate</th>\n",
              "      <th>Avg_Suspension_Days</th>\n",
              "      <th>SchoolCount</th>\n",
              "      <th>Avg_Dropout_Rate</th>\n",
              "      <th>Avg_FreshmanTrack_Rate</th>\n",
              "      <th>Avg_CollegeEnrollment_Rate</th>\n",
              "      <th>Avg_College_Persistence_Rate</th>\n",
              "      <th>Mobility_Rate_Pct</th>\n",
              "      <th>avgTemp</th>\n",
              "      <th>prcp</th>\n",
              "      <th>wind</th>\n",
              "      <th>crimelog</th>\n",
              "    </tr>\n",
              "  </thead>\n",
              "  <tbody>\n",
              "    <tr>\n",
              "      <th>0</th>\n",
              "      <td>dp3sy</td>\n",
              "      <td>ASSAULT</td>\n",
              "      <td>2015</td>\n",
              "      <td>1</td>\n",
              "      <td>0</td>\n",
              "      <td>False</td>\n",
              "      <td>afternoon</td>\n",
              "      <td>3</td>\n",
              "      <td>4.16</td>\n",
              "      <td>2.52</td>\n",
              "      <td>3.93</td>\n",
              "      <td>0.0</td>\n",
              "      <td>0.0</td>\n",
              "      <td>41.23</td>\n",
              "      <td>10.12</td>\n",
              "      <td>92.83</td>\n",
              "      <td>94.57</td>\n",
              "      <td>2.81</td>\n",
              "      <td>5.0</td>\n",
              "      <td>4.57</td>\n",
              "      <td>85.48</td>\n",
              "      <td>51.93</td>\n",
              "      <td>65.79</td>\n",
              "      <td>26.88</td>\n",
              "      <td>59.418065</td>\n",
              "      <td>33.283226</td>\n",
              "      <td>34.589677</td>\n",
              "      <td>1.386294</td>\n",
              "    </tr>\n",
              "    <tr>\n",
              "      <th>1</th>\n",
              "      <td>dp3sy</td>\n",
              "      <td>ASSAULT</td>\n",
              "      <td>2015</td>\n",
              "      <td>1</td>\n",
              "      <td>0</td>\n",
              "      <td>False</td>\n",
              "      <td>evening</td>\n",
              "      <td>3</td>\n",
              "      <td>4.16</td>\n",
              "      <td>2.52</td>\n",
              "      <td>3.93</td>\n",
              "      <td>0.0</td>\n",
              "      <td>0.0</td>\n",
              "      <td>41.23</td>\n",
              "      <td>10.12</td>\n",
              "      <td>92.83</td>\n",
              "      <td>94.57</td>\n",
              "      <td>2.81</td>\n",
              "      <td>5.0</td>\n",
              "      <td>4.57</td>\n",
              "      <td>85.48</td>\n",
              "      <td>51.93</td>\n",
              "      <td>65.79</td>\n",
              "      <td>26.88</td>\n",
              "      <td>59.418065</td>\n",
              "      <td>33.283226</td>\n",
              "      <td>34.589677</td>\n",
              "      <td>1.386294</td>\n",
              "    </tr>\n",
              "    <tr>\n",
              "      <th>2</th>\n",
              "      <td>dp3sy</td>\n",
              "      <td>ASSAULT</td>\n",
              "      <td>2015</td>\n",
              "      <td>1</td>\n",
              "      <td>0</td>\n",
              "      <td>False</td>\n",
              "      <td>morning</td>\n",
              "      <td>2</td>\n",
              "      <td>4.16</td>\n",
              "      <td>2.52</td>\n",
              "      <td>3.93</td>\n",
              "      <td>0.0</td>\n",
              "      <td>0.0</td>\n",
              "      <td>41.23</td>\n",
              "      <td>10.12</td>\n",
              "      <td>92.83</td>\n",
              "      <td>94.57</td>\n",
              "      <td>2.81</td>\n",
              "      <td>5.0</td>\n",
              "      <td>4.57</td>\n",
              "      <td>85.48</td>\n",
              "      <td>51.93</td>\n",
              "      <td>65.79</td>\n",
              "      <td>26.88</td>\n",
              "      <td>59.418065</td>\n",
              "      <td>33.283226</td>\n",
              "      <td>34.589677</td>\n",
              "      <td>1.098612</td>\n",
              "    </tr>\n",
              "    <tr>\n",
              "      <th>3</th>\n",
              "      <td>dp3sy</td>\n",
              "      <td>ASSAULT</td>\n",
              "      <td>2015</td>\n",
              "      <td>1</td>\n",
              "      <td>0</td>\n",
              "      <td>False</td>\n",
              "      <td>night</td>\n",
              "      <td>2</td>\n",
              "      <td>4.16</td>\n",
              "      <td>2.52</td>\n",
              "      <td>3.93</td>\n",
              "      <td>0.0</td>\n",
              "      <td>0.0</td>\n",
              "      <td>41.23</td>\n",
              "      <td>10.12</td>\n",
              "      <td>92.83</td>\n",
              "      <td>94.57</td>\n",
              "      <td>2.81</td>\n",
              "      <td>5.0</td>\n",
              "      <td>4.57</td>\n",
              "      <td>85.48</td>\n",
              "      <td>51.93</td>\n",
              "      <td>65.79</td>\n",
              "      <td>26.88</td>\n",
              "      <td>59.418065</td>\n",
              "      <td>33.283226</td>\n",
              "      <td>34.589677</td>\n",
              "      <td>1.098612</td>\n",
              "    </tr>\n",
              "    <tr>\n",
              "      <th>4</th>\n",
              "      <td>dp3sy</td>\n",
              "      <td>ASSAULT</td>\n",
              "      <td>2015</td>\n",
              "      <td>1</td>\n",
              "      <td>1</td>\n",
              "      <td>False</td>\n",
              "      <td>evening</td>\n",
              "      <td>1</td>\n",
              "      <td>4.16</td>\n",
              "      <td>2.52</td>\n",
              "      <td>3.93</td>\n",
              "      <td>0.0</td>\n",
              "      <td>0.0</td>\n",
              "      <td>41.23</td>\n",
              "      <td>10.12</td>\n",
              "      <td>92.83</td>\n",
              "      <td>94.57</td>\n",
              "      <td>2.81</td>\n",
              "      <td>5.0</td>\n",
              "      <td>4.57</td>\n",
              "      <td>85.48</td>\n",
              "      <td>51.93</td>\n",
              "      <td>65.79</td>\n",
              "      <td>26.88</td>\n",
              "      <td>59.418065</td>\n",
              "      <td>33.283226</td>\n",
              "      <td>34.589677</td>\n",
              "      <td>0.693147</td>\n",
              "    </tr>\n",
              "  </tbody>\n",
              "</table>\n",
              "</div>"
            ],
            "text/plain": [
              "  geohash Primary_Type  Year Month  ...    avgTemp       prcp       wind  crimelog\n",
              "0   dp3sy      ASSAULT  2015     1  ...  59.418065  33.283226  34.589677  1.386294\n",
              "1   dp3sy      ASSAULT  2015     1  ...  59.418065  33.283226  34.589677  1.386294\n",
              "2   dp3sy      ASSAULT  2015     1  ...  59.418065  33.283226  34.589677  1.098612\n",
              "3   dp3sy      ASSAULT  2015     1  ...  59.418065  33.283226  34.589677  1.098612\n",
              "4   dp3sy      ASSAULT  2015     1  ...  59.418065  33.283226  34.589677  0.693147\n",
              "\n",
              "[5 rows x 28 columns]"
            ]
          },
          "metadata": {
            "tags": []
          },
          "execution_count": 14
        }
      ]
    },
    {
      "cell_type": "code",
      "metadata": {
        "id": "RMJQbQ5o2b_s",
        "colab_type": "code",
        "colab": {}
      },
      "source": [
        "#Defining plots for multiple visualizations\n",
        "def multiplot(data,features,plottype,nrows,ncols,figsize,y=None,colorize=False):\n",
        "    \"\"\" This function draw a multi plot for 3 types of plots [\"regplot\",\"distplot\",\"coutplot\"]\"\"\"\n",
        "    n = 0\n",
        "    plt.figure(1)\n",
        "    fig, axes = plt.subplots(nrows, ncols, figsize=figsize)\n",
        "    \n",
        "    if colorize:\n",
        "        colors = sns.color_palette(n_colors=(nrows*ncols))\n",
        "    else :\n",
        "        colors = [None]*(nrows*ncols)\n",
        "        \n",
        "    for row in range(ncols):\n",
        "        for col in range(nrows):\n",
        "            \n",
        "            if plottype == 'regplot':\n",
        "                if y == None:\n",
        "                    raise ValueError('y value is needed with regplot type')\n",
        "                \n",
        "                sns.regplot(data = data, x = features[n], y = y ,ax=axes[row,col], color = colors[n])\n",
        "                correlation = np.corrcoef(data[features[n]],data[y])[0,1]\n",
        "                axes[row,col].set_title(\"Correlation {:.2f}\".format(correlation))\n",
        "            \n",
        "            elif plottype == 'distplot':\n",
        "                sns.distplot(a = data[features[n]],ax = axes[row,col],color=colors[n])\n",
        "                skewness = data[features[n]].skew()\n",
        "                axes[row,col].legend([\"Skew : {:.2f}\".format(skewness)])\n",
        "            \n",
        "            elif plottype in ['countplot']:\n",
        "                g = sns.countplot(x = data[features[n]], y = y, ax = axes[row,col],color = colors[n])\n",
        "                g = plt.setp(g.get_xticklabels(), rotation=45)\n",
        "                \n",
        "            n += 1\n",
        "    plt.tight_layout()\n",
        "    plt.show()\n",
        "    plt.gcf().clear()"
      ],
      "execution_count": 0,
      "outputs": []
    },
    {
      "cell_type": "code",
      "metadata": {
        "id": "H-ZpBUQz2b_u",
        "colab_type": "code",
        "outputId": "6748d33a-c042-4038-80bb-7ea7afe63f0e",
        "colab": {
          "base_uri": "https://localhost:8080/",
          "height": 430
        }
      },
      "source": [
        "#Check correlations\n",
        "narcotics.corr()\n",
        "sns.set(font_scale=1)\n",
        "g = sns.heatmap(narcotics.corr())"
      ],
      "execution_count": 16,
      "outputs": [
        {
          "output_type": "display_data",
          "data": {
            "image/png": "[encoded data removed]",
            "text/plain": [
              "<Figure size 432x288 with 2 Axes>"
            ]
          },
          "metadata": {
            "tags": []
          }
        }
      ]
    },
    {
      "cell_type": "code",
      "metadata": {
        "id": "de8IDYIi2b_x",
        "colab_type": "code",
        "outputId": "f5837a69-9549-46a1-c1a2-e61b29493007",
        "colab": {
          "base_uri": "https://localhost:8080/",
          "height": 379
        }
      },
      "source": [
        "#Data shows weak linear correlation \n",
        "narcotics_new = narcotics.drop(columns='crimelog')\n",
        "corrmat =narcotics_new.corr()\n",
        "#Display variables having correlation value above 0.15\n",
        "top_corr_features = corrmat.index[abs(corrmat[\"crimescount\"])>0.15]\n",
        "g = sns.heatmap(narcotics_new[top_corr_features].corr(),annot=True,cmap=\"Blues\",annot_kws={\"color\": 'black'})"
      ],
      "execution_count": 17,
      "outputs": [
        {
          "output_type": "display_data",
          "data": {
            "image/png": "[encoded data removed]",
            "text/plain": [
              "<Figure size 432x288 with 2 Axes>"
            ]
          },
          "metadata": {
            "tags": []
          }
        }
      ]
    },
    {
      "cell_type": "code",
      "metadata": {
        "id": "Mb0r5R6G2b_z",
        "colab_type": "code",
        "outputId": "7d671eeb-9404-41e8-9b4e-251d68e3fcdd",
        "colab": {
          "base_uri": "https://localhost:8080/",
          "height": 365
        }
      },
      "source": [
        "#We will use the log scale to plot the factor plots\n",
        "g = sns.factorplot(x=\"SpeedCamCount\",y=\"crimelog\",data=narcotics,kind='box',aspect=2.5)"
      ],
      "execution_count": 18,
      "outputs": [
        {
          "output_type": "display_data",
          "data": {
            "image/png": "[encoded data removed]",
            "text/plain": [
              "<Figure size 900x360 with 1 Axes>"
            ]
          },
          "metadata": {
            "tags": []
          }
        }
      ]
    },
    {
      "cell_type": "code",
      "metadata": {
        "id": "nYRx4s9k2b_1",
        "colab_type": "code",
        "outputId": "670abf19-ebda-4125-c4f6-1977926a0bea",
        "colab": {
          "base_uri": "https://localhost:8080/",
          "height": 365
        }
      },
      "source": [
        "g = sns.factorplot(x=\"WEEKDAY\",y=\"crimelog\",data=narcotics,kind='box',aspect=2)\n",
        "#Shows weekend has more crime count"
      ],
      "execution_count": 20,
      "outputs": [
        {
          "output_type": "display_data",
          "data": {
            "image/png": "[encoded data removed]",
            "text/plain": [
              "<Figure size 720x360 with 1 Axes>"
            ]
          },
          "metadata": {
            "tags": []
          }
        }
      ]
    },
    {
      "cell_type": "code",
      "metadata": {
        "id": "svxUgcD-2b_2",
        "colab_type": "code",
        "outputId": "ea1004af-7257-4669-cc2a-b43231b6c7b3",
        "colab": {
          "base_uri": "https://localhost:8080/",
          "height": 365
        }
      },
      "source": [
        "g = sns.factorplot(x=\"Month\",y=\"crimelog\",data=narcotics,kind='box',aspect=2)\n",
        "#High in first quarter"
      ],
      "execution_count": 33,
      "outputs": [
        {
          "output_type": "display_data",
          "data": {
            "image/png": "[encoded data removed]",
            "text/plain": [
              "<Figure size 720x360 with 1 Axes>"
            ]
          },
          "metadata": {
            "tags": []
          }
        }
      ]
    },
    {
      "cell_type": "code",
      "metadata": {
        "id": "wI3P_PM42b_4",
        "colab_type": "code",
        "outputId": "92220c38-dbd7-4411-a595-13e554199dfe",
        "colab": {
          "base_uri": "https://localhost:8080/",
          "height": 365
        }
      },
      "source": [
        "g = sns.factorplot(x=\"Time\",y=\"crimelog\",data=narcotics,kind='box',aspect=2.5)\n",
        "#High in evening and afternoon compared to morning and night"
      ],
      "execution_count": 34,
      "outputs": [
        {
          "output_type": "display_data",
          "data": {
            "image/png": "[encoded data removed]",
            "text/plain": [
              "<Figure size 900x360 with 1 Axes>"
            ]
          },
          "metadata": {
            "tags": []
          }
        }
      ]
    },
    {
      "cell_type": "code",
      "metadata": {
        "id": "rINV8ZWm2b_6",
        "colab_type": "code",
        "outputId": "4172cfee-5537-4bbc-ff52-343bd96280cc",
        "colab": {
          "base_uri": "https://localhost:8080/",
          "height": 437
        }
      },
      "source": [
        "g = sns.jointplot(x = narcotics['SchoolCount'], y = narcotics['crimescount'],kind=\"reg\")"
      ],
      "execution_count": 28,
      "outputs": [
        {
          "output_type": "display_data",
          "data": {
            "image/png": "[encoded data removed]",
            "text/plain": [
              "<Figure size 432x432 with 3 Axes>"
            ]
          },
          "metadata": {
            "tags": []
          }
        }
      ]
    },
    {
      "cell_type": "code",
      "metadata": {
        "id": "Q17MCg5_2b_8",
        "colab_type": "code",
        "colab": {}
      },
      "source": [
        "#sns.pairplot(narcotics) #takes a lot of time, hence commented"
      ],
      "execution_count": 0,
      "outputs": []
    },
    {
      "cell_type": "code",
      "metadata": {
        "id": "nSJtGwBO2b_-",
        "colab_type": "code",
        "outputId": "2a82702b-2440-408e-d65e-6ea41da5d265",
        "colab": {
          "base_uri": "https://localhost:8080/",
          "height": 285
        }
      },
      "source": [
        "g = sns.distplot(narcotics['crimescount'],color=\"red\")\n",
        "g = g.legend(['Skewness : {:.2f}'.format(narcotics['crimescount'].skew())],loc='best')\n",
        "#Distribution in the form of distribution plot using sns"
      ],
      "execution_count": 27,
      "outputs": [
        {
          "output_type": "display_data",
          "data": {
            "image/png": "[encoded data removed]",
            "text/plain": [
              "<Figure size 432x288 with 1 Axes>"
            ]
          },
          "metadata": {
            "tags": []
          }
        }
      ]
    },
    {
      "cell_type": "code",
      "metadata": {
        "id": "y8sKrPqY2cAA",
        "colab_type": "code",
        "outputId": "9e7e2f8a-0165-4fd3-e232-1bcdda19eedf",
        "colab": {
          "base_uri": "https://localhost:8080/",
          "height": 199
        }
      },
      "source": [
        "narcotics.columns"
      ],
      "execution_count": 35,
      "outputs": [
        {
          "output_type": "execute_result",
          "data": {
            "text/plain": [
              "Index(['geohash', 'Primary_Type', 'Year', 'Month', 'WEEKDAY', 'Holiday',\n",
              "       'Time', 'crimescount', 'NearestPoliceDist', 'NearestSpeedCamDist',\n",
              "       'NearestRedCamDist', 'SpeedCamCount', 'RedCamCount',\n",
              "       'Avg_Misconduct_Rate', 'Avg_Suspension_Rate',\n",
              "       'Avg_Student_Attendance_Rate', 'Avg_Teacher_Attendance_Rate',\n",
              "       'Avg_Suspension_Days', 'SchoolCount', 'Avg_Dropout_Rate',\n",
              "       'Avg_FreshmanTrack_Rate', 'Avg_CollegeEnrollment_Rate',\n",
              "       'Avg_College_Persistence_Rate', 'Mobility_Rate_Pct', 'avgTemp', 'prcp',\n",
              "       'wind', 'crimelog'],\n",
              "      dtype='object')"
            ]
          },
          "metadata": {
            "tags": []
          },
          "execution_count": 35
        }
      ]
    },
    {
      "cell_type": "code",
      "metadata": {
        "id": "pJw5PDM-2cAE",
        "colab_type": "code",
        "outputId": "aae4b905-c3f1-4c7f-be54-a4241a7badb2",
        "colab": {
          "base_uri": "https://localhost:8080/",
          "height": 474
        }
      },
      "source": [
        "feats = ['NearestPoliceDist', 'NearestSpeedCamDist', 'NearestRedCamDist',\n",
        "       'SpeedCamCount', 'RedCamCount']\n",
        "\n",
        "multiplot(data = narcotics,features = feats,plottype = \"regplot\",nrows = 2, ncols = 2,\n",
        "          figsize = (10,6),y = \"crimescount\", colorize = True)"
      ],
      "execution_count": 36,
      "outputs": [
        {
          "output_type": "display_data",
          "data": {
            "text/plain": [
              "<Figure size 432x288 with 0 Axes>"
            ]
          },
          "metadata": {
            "tags": []
          }
        },
        {
          "output_type": "display_data",
          "data": {
            "image/png": "[encoded data removed]",
            "text/plain": [
              "<Figure size 720x432 with 4 Axes>"
            ]
          },
          "metadata": {
            "tags": []
          }
        },
        {
          "output_type": "display_data",
          "data": {
            "text/plain": [
              "<Figure size 432x288 with 0 Axes>"
            ]
          },
          "metadata": {
            "tags": []
          }
        }
      ]
    },
    {
      "cell_type": "code",
      "metadata": {
        "id": "Dg5LSUR62cAG",
        "colab_type": "code",
        "outputId": "068b7fc8-7eba-498c-b119-f0028c90096b",
        "colab": {
          "base_uri": "https://localhost:8080/",
          "height": 474
        }
      },
      "source": [
        "feats = ['Avg_Misconduct_Rate',\n",
        "       'Avg_Suspension_Rate', 'Avg_Student_Attendance_Rate',\n",
        "       'Avg_Teacher_Attendance_Rate', 'Avg_Suspension_Days', 'SchoolCount',\n",
        "       'Avg_Dropout_Rate', 'Avg_FreshmanTrack_Rate',\n",
        "       'Avg_CollegeEnrollment_Rate', 'Avg_College_Persistence_Rate',\n",
        "       'Mobility_Rate_Pct']\n",
        "\n",
        "multiplot(data = narcotics,features = feats,plottype = \"regplot\",nrows = 3, ncols = 3,\n",
        "          figsize = (10,6),y = \"crimescount\", colorize = True)"
      ],
      "execution_count": 37,
      "outputs": [
        {
          "output_type": "display_data",
          "data": {
            "text/plain": [
              "<Figure size 432x288 with 0 Axes>"
            ]
          },
          "metadata": {
            "tags": []
          }
        },
        {
          "output_type": "display_data",
          "data": {
            "image/png": "[encoded data removed]",
            "text/plain": [
              "<Figure size 720x432 with 9 Axes>"
            ]
          },
          "metadata": {
            "tags": []
          }
        },
        {
          "output_type": "display_data",
          "data": {
            "text/plain": [
              "<Figure size 432x288 with 0 Axes>"
            ]
          },
          "metadata": {
            "tags": []
          }
        }
      ]
    },
    {
      "cell_type": "code",
      "metadata": {
        "id": "HLoXQ-i92cAK",
        "colab_type": "code",
        "outputId": "414ec070-5611-445e-f509-b72012c10c3b",
        "colab": {
          "base_uri": "https://localhost:8080/",
          "height": 689
        }
      },
      "source": [
        "#all features skewness check\n",
        "features = [ 'NearestPoliceDist', 'NearestSpeedCamDist', 'NearestRedCamDist',\n",
        "       'SpeedCamCount', 'RedCamCount', 'Avg_Misconduct_Rate',\n",
        "       'Avg_Suspension_Rate', 'Avg_Student_Attendance_Rate',\n",
        "       'Avg_Teacher_Attendance_Rate', 'Avg_Suspension_Days', 'SchoolCount',\n",
        "       'Avg_Dropout_Rate', 'Avg_FreshmanTrack_Rate',\n",
        "       'Avg_CollegeEnrollment_Rate', 'Avg_College_Persistence_Rate',\n",
        "       'Mobility_Rate_Pct']\n",
        "multiplot(data = narcotics,features = features,plottype = \"distplot\",\n",
        "          nrows = 4, ncols = 4, figsize = (11,9), colorize = True)"
      ],
      "execution_count": 38,
      "outputs": [
        {
          "output_type": "display_data",
          "data": {
            "text/plain": [
              "<Figure size 432x288 with 0 Axes>"
            ]
          },
          "metadata": {
            "tags": []
          }
        },
        {
          "output_type": "display_data",
          "data": {
            "image/png": "[encoded data removed]",
            "text/plain": [
              "<Figure size 792x648 with 16 Axes>"
            ]
          },
          "metadata": {
            "tags": []
          }
        },
        {
          "output_type": "display_data",
          "data": {
            "text/plain": [
              "<Figure size 432x288 with 0 Axes>"
            ]
          },
          "metadata": {
            "tags": []
          }
        }
      ]
    },
    {
      "cell_type": "code",
      "metadata": {
        "id": "lZjD2vZ92cAa",
        "colab_type": "code",
        "outputId": "68ff6a10-a447-47b6-aa51-f1771c1309d0",
        "colab": {
          "base_uri": "https://localhost:8080/",
          "height": 545
        }
      },
      "source": [
        "plt.figure(1)\n",
        "fig, axes = plt.subplots(1,2,figsize=(15,7))\n",
        "\n",
        "sns.distplot(narcotics[\"crimescount\"],ax = axes[0])\n",
        "sns.distplot(np.log1p(narcotics[\"crimescount\"]),ax = axes[1],color=\"g\")\n",
        "\n",
        "axes[0].legend([\"Skew : {:.2f}\".format(narcotics[\"crimescount\"].skew())])\n",
        "axes[1].legend([\"Skew : {:.2f}\".format(np.log1p(narcotics[\"crimescount\"].skew()))])\n",
        "\n",
        "plt.tight_layout()\n",
        "plt.show()\n",
        "plt.gcf().clear()"
      ],
      "execution_count": 39,
      "outputs": [
        {
          "output_type": "display_data",
          "data": {
            "text/plain": [
              "<Figure size 432x288 with 0 Axes>"
            ]
          },
          "metadata": {
            "tags": []
          }
        },
        {
          "output_type": "display_data",
          "data": {
            "image/png": "[encoded data removed]",
            "text/plain": [
              "<Figure size 1080x504 with 2 Axes>"
            ]
          },
          "metadata": {
            "tags": []
          }
        },
        {
          "output_type": "display_data",
          "data": {
            "text/plain": [
              "<Figure size 432x288 with 0 Axes>"
            ]
          },
          "metadata": {
            "tags": []
          }
        }
      ]
    },
    {
      "cell_type": "markdown",
      "metadata": {
        "id": "GAO5apPEMYxK",
        "colab_type": "text"
      },
      "source": [
        "Without Feature Selection\n"
      ]
    },
    {
      "cell_type": "code",
      "metadata": {
        "id": "YGbyZ7MhMXlz",
        "colab_type": "code",
        "outputId": "9f2c6848-571f-4e94-d4ec-c1c316dee1ca",
        "colab": {
          "base_uri": "https://localhost:8080/",
          "height": 247
        }
      },
      "source": [
        "narcotics = narcotics.drop(columns='crimelog')\n",
        "narcotics_dummies = pd.get_dummies(narcotics)\n",
        "narcotics_dummies.head() #95 columns"
      ],
      "execution_count": 42,
      "outputs": [
        {
          "output_type": "execute_result",
          "data": {
            "text/html": [
              "<div>\n",
              "<style scoped>\n",
              "    .dataframe tbody tr th:only-of-type {\n",
              "        vertical-align: middle;\n",
              "    }\n",
              "\n",
              "    .dataframe tbody tr th {\n",
              "        vertical-align: top;\n",
              "    }\n",
              "\n",
              "    .dataframe thead th {\n",
              "        text-align: right;\n",
              "    }\n",
              "</style>\n",
              "<table border=\"1\" class=\"dataframe\">\n",
              "  <thead>\n",
              "    <tr style=\"text-align: right;\">\n",
              "      <th></th>\n",
              "      <th>crimescount</th>\n",
              "      <th>NearestPoliceDist</th>\n",
              "      <th>NearestSpeedCamDist</th>\n",
              "      <th>NearestRedCamDist</th>\n",
              "      <th>SpeedCamCount</th>\n",
              "      <th>RedCamCount</th>\n",
              "      <th>Avg_Misconduct_Rate</th>\n",
              "      <th>Avg_Suspension_Rate</th>\n",
              "      <th>Avg_Student_Attendance_Rate</th>\n",
              "      <th>Avg_Teacher_Attendance_Rate</th>\n",
              "      <th>Avg_Suspension_Days</th>\n",
              "      <th>SchoolCount</th>\n",
              "      <th>Avg_Dropout_Rate</th>\n",
              "      <th>Avg_FreshmanTrack_Rate</th>\n",
              "      <th>Avg_CollegeEnrollment_Rate</th>\n",
              "      <th>Avg_College_Persistence_Rate</th>\n",
              "      <th>Mobility_Rate_Pct</th>\n",
              "      <th>avgTemp</th>\n",
              "      <th>prcp</th>\n",
              "      <th>wind</th>\n",
              "      <th>geohash_dp3sy</th>\n",
              "      <th>geohash_dp3sz</th>\n",
              "      <th>geohash_dp3t5</th>\n",
              "      <th>geohash_dp3t7</th>\n",
              "      <th>geohash_dp3td</th>\n",
              "      <th>geohash_dp3te</th>\n",
              "      <th>geohash_dp3tf</th>\n",
              "      <th>geohash_dp3tg</th>\n",
              "      <th>geohash_dp3th</th>\n",
              "      <th>geohash_dp3tj</th>\n",
              "      <th>geohash_dp3tk</th>\n",
              "      <th>geohash_dp3tm</th>\n",
              "      <th>geohash_dp3tn</th>\n",
              "      <th>geohash_dp3tp</th>\n",
              "      <th>geohash_dp3tq</th>\n",
              "      <th>geohash_dp3tr</th>\n",
              "      <th>geohash_dp3ts</th>\n",
              "      <th>geohash_dp3tt</th>\n",
              "      <th>geohash_dp3tu</th>\n",
              "      <th>geohash_dp3tv</th>\n",
              "      <th>...</th>\n",
              "      <th>geohash_dp3wh</th>\n",
              "      <th>geohash_dp3wj</th>\n",
              "      <th>geohash_dp3wk</th>\n",
              "      <th>geohash_dp3wm</th>\n",
              "      <th>geohash_dp3wn</th>\n",
              "      <th>geohash_dp3wq</th>\n",
              "      <th>geohash_dp3ws</th>\n",
              "      <th>geohash_dp3wt</th>\n",
              "      <th>geohash_dp3wu</th>\n",
              "      <th>geohash_dp3wv</th>\n",
              "      <th>geohash_dp3x1</th>\n",
              "      <th>geohash_dp3xh</th>\n",
              "      <th>Primary_Type_ASSAULT</th>\n",
              "      <th>Primary_Type_HOMICIDE</th>\n",
              "      <th>Primary_Type_NARCOTICS</th>\n",
              "      <th>Primary_Type_VIOLATIONS</th>\n",
              "      <th>Year_2015</th>\n",
              "      <th>Year_2016</th>\n",
              "      <th>Year_2017</th>\n",
              "      <th>Year_2018</th>\n",
              "      <th>Month_1</th>\n",
              "      <th>Month_2</th>\n",
              "      <th>Month_3</th>\n",
              "      <th>Month_4</th>\n",
              "      <th>Month_5</th>\n",
              "      <th>Month_6</th>\n",
              "      <th>Month_7</th>\n",
              "      <th>Month_8</th>\n",
              "      <th>Month_9</th>\n",
              "      <th>Month_10</th>\n",
              "      <th>Month_11</th>\n",
              "      <th>Month_12</th>\n",
              "      <th>WEEKDAY_0</th>\n",
              "      <th>WEEKDAY_1</th>\n",
              "      <th>Holiday_False</th>\n",
              "      <th>Holiday_True</th>\n",
              "      <th>Time_afternoon</th>\n",
              "      <th>Time_evening</th>\n",
              "      <th>Time_morning</th>\n",
              "      <th>Time_night</th>\n",
              "    </tr>\n",
              "  </thead>\n",
              "  <tbody>\n",
              "    <tr>\n",
              "      <th>0</th>\n",
              "      <td>3</td>\n",
              "      <td>4.16</td>\n",
              "      <td>2.52</td>\n",
              "      <td>3.93</td>\n",
              "      <td>0.0</td>\n",
              "      <td>0.0</td>\n",
              "      <td>41.23</td>\n",
              "      <td>10.12</td>\n",
              "      <td>92.83</td>\n",
              "      <td>94.57</td>\n",
              "      <td>2.81</td>\n",
              "      <td>5.0</td>\n",
              "      <td>4.57</td>\n",
              "      <td>85.48</td>\n",
              "      <td>51.93</td>\n",
              "      <td>65.79</td>\n",
              "      <td>26.88</td>\n",
              "      <td>59.418065</td>\n",
              "      <td>33.283226</td>\n",
              "      <td>34.589677</td>\n",
              "      <td>1</td>\n",
              "      <td>0</td>\n",
              "      <td>0</td>\n",
              "      <td>0</td>\n",
              "      <td>0</td>\n",
              "      <td>0</td>\n",
              "      <td>0</td>\n",
              "      <td>0</td>\n",
              "      <td>0</td>\n",
              "      <td>0</td>\n",
              "      <td>0</td>\n",
              "      <td>0</td>\n",
              "      <td>0</td>\n",
              "      <td>0</td>\n",
              "      <td>0</td>\n",
              "      <td>0</td>\n",
              "      <td>0</td>\n",
              "      <td>0</td>\n",
              "      <td>0</td>\n",
              "      <td>0</td>\n",
              "      <td>...</td>\n",
              "      <td>0</td>\n",
              "      <td>0</td>\n",
              "      <td>0</td>\n",
              "      <td>0</td>\n",
              "      <td>0</td>\n",
              "      <td>0</td>\n",
              "      <td>0</td>\n",
              "      <td>0</td>\n",
              "      <td>0</td>\n",
              "      <td>0</td>\n",
              "      <td>0</td>\n",
              "      <td>0</td>\n",
              "      <td>1</td>\n",
              "      <td>0</td>\n",
              "      <td>0</td>\n",
              "      <td>0</td>\n",
              "      <td>1</td>\n",
              "      <td>0</td>\n",
              "      <td>0</td>\n",
              "      <td>0</td>\n",
              "      <td>1</td>\n",
              "      <td>0</td>\n",
              "      <td>0</td>\n",
              "      <td>0</td>\n",
              "      <td>0</td>\n",
              "      <td>0</td>\n",
              "      <td>0</td>\n",
              "      <td>0</td>\n",
              "      <td>0</td>\n",
              "      <td>0</td>\n",
              "      <td>0</td>\n",
              "      <td>0</td>\n",
              "      <td>1</td>\n",
              "      <td>0</td>\n",
              "      <td>1</td>\n",
              "      <td>0</td>\n",
              "      <td>1</td>\n",
              "      <td>0</td>\n",
              "      <td>0</td>\n",
              "      <td>0</td>\n",
              "    </tr>\n",
              "    <tr>\n",
              "      <th>1</th>\n",
              "      <td>3</td>\n",
              "      <td>4.16</td>\n",
              "      <td>2.52</td>\n",
              "      <td>3.93</td>\n",
              "      <td>0.0</td>\n",
              "      <td>0.0</td>\n",
              "      <td>41.23</td>\n",
              "      <td>10.12</td>\n",
              "      <td>92.83</td>\n",
              "      <td>94.57</td>\n",
              "      <td>2.81</td>\n",
              "      <td>5.0</td>\n",
              "      <td>4.57</td>\n",
              "      <td>85.48</td>\n",
              "      <td>51.93</td>\n",
              "      <td>65.79</td>\n",
              "      <td>26.88</td>\n",
              "      <td>59.418065</td>\n",
              "      <td>33.283226</td>\n",
              "      <td>34.589677</td>\n",
              "      <td>1</td>\n",
              "      <td>0</td>\n",
              "      <td>0</td>\n",
              "      <td>0</td>\n",
              "      <td>0</td>\n",
              "      <td>0</td>\n",
              "      <td>0</td>\n",
              "      <td>0</td>\n",
              "      <td>0</td>\n",
              "      <td>0</td>\n",
              "      <td>0</td>\n",
              "      <td>0</td>\n",
              "      <td>0</td>\n",
              "      <td>0</td>\n",
              "      <td>0</td>\n",
              "      <td>0</td>\n",
              "      <td>0</td>\n",
              "      <td>0</td>\n",
              "      <td>0</td>\n",
              "      <td>0</td>\n",
              "      <td>...</td>\n",
              "      <td>0</td>\n",
              "      <td>0</td>\n",
              "      <td>0</td>\n",
              "      <td>0</td>\n",
              "      <td>0</td>\n",
              "      <td>0</td>\n",
              "      <td>0</td>\n",
              "      <td>0</td>\n",
              "      <td>0</td>\n",
              "      <td>0</td>\n",
              "      <td>0</td>\n",
              "      <td>0</td>\n",
              "      <td>1</td>\n",
              "      <td>0</td>\n",
              "      <td>0</td>\n",
              "      <td>0</td>\n",
              "      <td>1</td>\n",
              "      <td>0</td>\n",
              "      <td>0</td>\n",
              "      <td>0</td>\n",
              "      <td>1</td>\n",
              "      <td>0</td>\n",
              "      <td>0</td>\n",
              "      <td>0</td>\n",
              "      <td>0</td>\n",
              "      <td>0</td>\n",
              "      <td>0</td>\n",
              "      <td>0</td>\n",
              "      <td>0</td>\n",
              "      <td>0</td>\n",
              "      <td>0</td>\n",
              "      <td>0</td>\n",
              "      <td>1</td>\n",
              "      <td>0</td>\n",
              "      <td>1</td>\n",
              "      <td>0</td>\n",
              "      <td>0</td>\n",
              "      <td>1</td>\n",
              "      <td>0</td>\n",
              "      <td>0</td>\n",
              "    </tr>\n",
              "    <tr>\n",
              "      <th>2</th>\n",
              "      <td>2</td>\n",
              "      <td>4.16</td>\n",
              "      <td>2.52</td>\n",
              "      <td>3.93</td>\n",
              "      <td>0.0</td>\n",
              "      <td>0.0</td>\n",
              "      <td>41.23</td>\n",
              "      <td>10.12</td>\n",
              "      <td>92.83</td>\n",
              "      <td>94.57</td>\n",
              "      <td>2.81</td>\n",
              "      <td>5.0</td>\n",
              "      <td>4.57</td>\n",
              "      <td>85.48</td>\n",
              "      <td>51.93</td>\n",
              "      <td>65.79</td>\n",
              "      <td>26.88</td>\n",
              "      <td>59.418065</td>\n",
              "      <td>33.283226</td>\n",
              "      <td>34.589677</td>\n",
              "      <td>1</td>\n",
              "      <td>0</td>\n",
              "      <td>0</td>\n",
              "      <td>0</td>\n",
              "      <td>0</td>\n",
              "      <td>0</td>\n",
              "      <td>0</td>\n",
              "      <td>0</td>\n",
              "      <td>0</td>\n",
              "      <td>0</td>\n",
              "      <td>0</td>\n",
              "      <td>0</td>\n",
              "      <td>0</td>\n",
              "      <td>0</td>\n",
              "      <td>0</td>\n",
              "      <td>0</td>\n",
              "      <td>0</td>\n",
              "      <td>0</td>\n",
              "      <td>0</td>\n",
              "      <td>0</td>\n",
              "      <td>...</td>\n",
              "      <td>0</td>\n",
              "      <td>0</td>\n",
              "      <td>0</td>\n",
              "      <td>0</td>\n",
              "      <td>0</td>\n",
              "      <td>0</td>\n",
              "      <td>0</td>\n",
              "      <td>0</td>\n",
              "      <td>0</td>\n",
              "      <td>0</td>\n",
              "      <td>0</td>\n",
              "      <td>0</td>\n",
              "      <td>1</td>\n",
              "      <td>0</td>\n",
              "      <td>0</td>\n",
              "      <td>0</td>\n",
              "      <td>1</td>\n",
              "      <td>0</td>\n",
              "      <td>0</td>\n",
              "      <td>0</td>\n",
              "      <td>1</td>\n",
              "      <td>0</td>\n",
              "      <td>0</td>\n",
              "      <td>0</td>\n",
              "      <td>0</td>\n",
              "      <td>0</td>\n",
              "      <td>0</td>\n",
              "      <td>0</td>\n",
              "      <td>0</td>\n",
              "      <td>0</td>\n",
              "      <td>0</td>\n",
              "      <td>0</td>\n",
              "      <td>1</td>\n",
              "      <td>0</td>\n",
              "      <td>1</td>\n",
              "      <td>0</td>\n",
              "      <td>0</td>\n",
              "      <td>0</td>\n",
              "      <td>1</td>\n",
              "      <td>0</td>\n",
              "    </tr>\n",
              "    <tr>\n",
              "      <th>3</th>\n",
              "      <td>2</td>\n",
              "      <td>4.16</td>\n",
              "      <td>2.52</td>\n",
              "      <td>3.93</td>\n",
              "      <td>0.0</td>\n",
              "      <td>0.0</td>\n",
              "      <td>41.23</td>\n",
              "      <td>10.12</td>\n",
              "      <td>92.83</td>\n",
              "      <td>94.57</td>\n",
              "      <td>2.81</td>\n",
              "      <td>5.0</td>\n",
              "      <td>4.57</td>\n",
              "      <td>85.48</td>\n",
              "      <td>51.93</td>\n",
              "      <td>65.79</td>\n",
              "      <td>26.88</td>\n",
              "      <td>59.418065</td>\n",
              "      <td>33.283226</td>\n",
              "      <td>34.589677</td>\n",
              "      <td>1</td>\n",
              "      <td>0</td>\n",
              "      <td>0</td>\n",
              "      <td>0</td>\n",
              "      <td>0</td>\n",
              "      <td>0</td>\n",
              "      <td>0</td>\n",
              "      <td>0</td>\n",
              "      <td>0</td>\n",
              "      <td>0</td>\n",
              "      <td>0</td>\n",
              "      <td>0</td>\n",
              "      <td>0</td>\n",
              "      <td>0</td>\n",
              "      <td>0</td>\n",
              "      <td>0</td>\n",
              "      <td>0</td>\n",
              "      <td>0</td>\n",
              "      <td>0</td>\n",
              "      <td>0</td>\n",
              "      <td>...</td>\n",
              "      <td>0</td>\n",
              "      <td>0</td>\n",
              "      <td>0</td>\n",
              "      <td>0</td>\n",
              "      <td>0</td>\n",
              "      <td>0</td>\n",
              "      <td>0</td>\n",
              "      <td>0</td>\n",
              "      <td>0</td>\n",
              "      <td>0</td>\n",
              "      <td>0</td>\n",
              "      <td>0</td>\n",
              "      <td>1</td>\n",
              "      <td>0</td>\n",
              "      <td>0</td>\n",
              "      <td>0</td>\n",
              "      <td>1</td>\n",
              "      <td>0</td>\n",
              "      <td>0</td>\n",
              "      <td>0</td>\n",
              "      <td>1</td>\n",
              "      <td>0</td>\n",
              "      <td>0</td>\n",
              "      <td>0</td>\n",
              "      <td>0</td>\n",
              "      <td>0</td>\n",
              "      <td>0</td>\n",
              "      <td>0</td>\n",
              "      <td>0</td>\n",
              "      <td>0</td>\n",
              "      <td>0</td>\n",
              "      <td>0</td>\n",
              "      <td>1</td>\n",
              "      <td>0</td>\n",
              "      <td>1</td>\n",
              "      <td>0</td>\n",
              "      <td>0</td>\n",
              "      <td>0</td>\n",
              "      <td>0</td>\n",
              "      <td>1</td>\n",
              "    </tr>\n",
              "    <tr>\n",
              "      <th>4</th>\n",
              "      <td>1</td>\n",
              "      <td>4.16</td>\n",
              "      <td>2.52</td>\n",
              "      <td>3.93</td>\n",
              "      <td>0.0</td>\n",
              "      <td>0.0</td>\n",
              "      <td>41.23</td>\n",
              "      <td>10.12</td>\n",
              "      <td>92.83</td>\n",
              "      <td>94.57</td>\n",
              "      <td>2.81</td>\n",
              "      <td>5.0</td>\n",
              "      <td>4.57</td>\n",
              "      <td>85.48</td>\n",
              "      <td>51.93</td>\n",
              "      <td>65.79</td>\n",
              "      <td>26.88</td>\n",
              "      <td>59.418065</td>\n",
              "      <td>33.283226</td>\n",
              "      <td>34.589677</td>\n",
              "      <td>1</td>\n",
              "      <td>0</td>\n",
              "      <td>0</td>\n",
              "      <td>0</td>\n",
              "      <td>0</td>\n",
              "      <td>0</td>\n",
              "      <td>0</td>\n",
              "      <td>0</td>\n",
              "      <td>0</td>\n",
              "      <td>0</td>\n",
              "      <td>0</td>\n",
              "      <td>0</td>\n",
              "      <td>0</td>\n",
              "      <td>0</td>\n",
              "      <td>0</td>\n",
              "      <td>0</td>\n",
              "      <td>0</td>\n",
              "      <td>0</td>\n",
              "      <td>0</td>\n",
              "      <td>0</td>\n",
              "      <td>...</td>\n",
              "      <td>0</td>\n",
              "      <td>0</td>\n",
              "      <td>0</td>\n",
              "      <td>0</td>\n",
              "      <td>0</td>\n",
              "      <td>0</td>\n",
              "      <td>0</td>\n",
              "      <td>0</td>\n",
              "      <td>0</td>\n",
              "      <td>0</td>\n",
              "      <td>0</td>\n",
              "      <td>0</td>\n",
              "      <td>1</td>\n",
              "      <td>0</td>\n",
              "      <td>0</td>\n",
              "      <td>0</td>\n",
              "      <td>1</td>\n",
              "      <td>0</td>\n",
              "      <td>0</td>\n",
              "      <td>0</td>\n",
              "      <td>1</td>\n",
              "      <td>0</td>\n",
              "      <td>0</td>\n",
              "      <td>0</td>\n",
              "      <td>0</td>\n",
              "      <td>0</td>\n",
              "      <td>0</td>\n",
              "      <td>0</td>\n",
              "      <td>0</td>\n",
              "      <td>0</td>\n",
              "      <td>0</td>\n",
              "      <td>0</td>\n",
              "      <td>0</td>\n",
              "      <td>1</td>\n",
              "      <td>1</td>\n",
              "      <td>0</td>\n",
              "      <td>0</td>\n",
              "      <td>1</td>\n",
              "      <td>0</td>\n",
              "      <td>0</td>\n",
              "    </tr>\n",
              "  </tbody>\n",
              "</table>\n",
              "<p>5 rows × 95 columns</p>\n",
              "</div>"
            ],
            "text/plain": [
              "   crimescount  NearestPoliceDist  ...  Time_morning  Time_night\n",
              "0            3               4.16  ...             0           0\n",
              "1            3               4.16  ...             0           0\n",
              "2            2               4.16  ...             1           0\n",
              "3            2               4.16  ...             0           1\n",
              "4            1               4.16  ...             0           0\n",
              "\n",
              "[5 rows x 95 columns]"
            ]
          },
          "metadata": {
            "tags": []
          },
          "execution_count": 42
        }
      ]
    },
    {
      "cell_type": "code",
      "metadata": {
        "id": "kOBGN2FXMXx5",
        "colab_type": "code",
        "colab": {}
      },
      "source": [
        "model_data = narcotics_dummies.values\n",
        "X = model_data[:,1:]\n",
        "Y = model_data[:,0]\n",
        "np.random.seed(67)\n",
        "X_train, X_test, Y_train, Y_test = train_test_split(X, Y, test_size=0.20, random_state=70)"
      ],
      "execution_count": 0,
      "outputs": []
    },
    {
      "cell_type": "code",
      "metadata": {
        "id": "bUs4PtzANOC1",
        "colab_type": "code",
        "colab": {}
      },
      "source": [
        "#list(narcotics_dummies.columns) (Big output cell)"
      ],
      "execution_count": 0,
      "outputs": []
    },
    {
      "cell_type": "code",
      "metadata": {
        "id": "PvCNYnTzMXv2",
        "colab_type": "code",
        "outputId": "4de258d4-ef4d-4240-9ec5-c4be8d827603",
        "colab": {
          "base_uri": "https://localhost:8080/",
          "height": 145
        }
      },
      "source": [
        "#Random Forest for feature selection on data without feature selection\n",
        "feat_labels = ['NearestPoliceDist',\n",
        " 'NearestSpeedCamDist','NearestRedCamDist','SpeedCamCount','RedCamCount','Avg_Misconduct_Rate','Avg_Suspension_Rate','Avg_Student_Attendance_Rate',\n",
        " 'Avg_Teacher_Attendance_Rate','Avg_Suspension_Days','SchoolCount','Avg_Dropout_Rate','Avg_FreshmanTrack_Rate','Avg_CollegeEnrollment_Rate','Avg_College_Persistence_Rate',\n",
        " 'Mobility_Rate_Pct','avgTemp','prcp','wind',\n",
        " 'geohash_dp3sy','geohash_dp3sz','geohash_dp3t5','geohash_dp3t7','geohash_dp3td','geohash_dp3te',\n",
        " 'geohash_dp3tf','geohash_dp3tg','geohash_dp3th','geohash_dp3tj','geohash_dp3tk','geohash_dp3tm',\n",
        " 'geohash_dp3tn','geohash_dp3tp','geohash_dp3tq','geohash_dp3tr','geohash_dp3ts','geohash_dp3tt',\n",
        " 'geohash_dp3tu','geohash_dp3tv','geohash_dp3tw','geohash_dp3tx','geohash_dp3ty','geohash_dp3v0',\n",
        " 'geohash_dp3v2','geohash_dp3w4','geohash_dp3w5','geohash_dp3w6','geohash_dp3w7','geohash_dp3w9',\n",
        " 'geohash_dp3wc','geohash_dp3wd','geohash_dp3we','geohash_dp3wf','geohash_dp3wg','geohash_dp3wh',\n",
        " 'geohash_dp3wj','geohash_dp3wk','geohash_dp3wm','geohash_dp3wn','geohash_dp3wq','geohash_dp3ws',\n",
        " 'geohash_dp3wt','geohash_dp3wu','geohash_dp3wv','geohash_dp3x1','geohash_dp3xh',\n",
        " 'Primary_Type_ASSAULT','Primary_Type_HOMICIDE','Primary_Type_NARCOTICS','Primary_Type_VIOLATIONS','Year_2015','Year_2016','Year_2017','Year_2018',\n",
        " 'Month_1','Month_2','Month_3','Month_4','Month_5','Month_6','Month_7','Month_8','Month_9','Month_10','Month_11','Month_12','WEEKDAY_0','WEEKDAY_1','Holiday_False','Holiday_True',\n",
        " 'Time_afternoon','Time_evening','Time_morning','Time_night']\n",
        "clf = RandomForestRegressor(n_estimators=10, random_state=20, n_jobs=-1)\n",
        "# Train the classifier\n",
        "clf.fit(X_train, Y_train)"
      ],
      "execution_count": 48,
      "outputs": [
        {
          "output_type": "execute_result",
          "data": {
            "text/plain": [
              "RandomForestRegressor(bootstrap=True, criterion='mse', max_depth=None,\n",
              "                      max_features='auto', max_leaf_nodes=None,\n",
              "                      min_impurity_decrease=0.0, min_impurity_split=None,\n",
              "                      min_samples_leaf=1, min_samples_split=2,\n",
              "                      min_weight_fraction_leaf=0.0, n_estimators=10, n_jobs=-1,\n",
              "                      oob_score=False, random_state=20, verbose=0,\n",
              "                      warm_start=False)"
            ]
          },
          "metadata": {
            "tags": []
          },
          "execution_count": 48
        }
      ]
    },
    {
      "cell_type": "code",
      "metadata": {
        "id": "XDcU47fbMXj7",
        "colab_type": "code",
        "outputId": "941845f5-832d-4565-b83d-e1029ac05685",
        "colab": {
          "base_uri": "https://localhost:8080/",
          "height": 108
        }
      },
      "source": [
        "y_pred = clf.predict(X_test)\n",
        "# View The Accuracy Of all features (95 Features) Model\n",
        "print(\"Variance Score is\", explained_variance_score(y_pred,Y_test))\n",
        "print('R2:',clf.score(X_test,Y_test))\n",
        "print('Mean Absolute Error:', metrics.mean_absolute_error(Y_test, y_pred))\n",
        "print('Mean Squared Error:', metrics.mean_squared_error(Y_test, y_pred))\n",
        "print('Root Mean Squared Error:', np.sqrt(metrics.mean_squared_error(Y_test, y_pred)))"
      ],
      "execution_count": 50,
      "outputs": [
        {
          "output_type": "stream",
          "text": [
            "Variance Score is 0.7907655294916491\n",
            "R2: 0.8106969832374175\n",
            "Mean Absolute Error: 1.6482347683598988\n",
            "Mean Squared Error: 7.626843438105169\n",
            "Root Mean Squared Error: 2.76167402821281\n"
          ],
          "name": "stdout"
        }
      ]
    },
    {
      "cell_type": "code",
      "metadata": {
        "id": "9psCKH1sMXhN",
        "colab_type": "code",
        "outputId": "86701fed-2d6a-47da-fa7d-1b52c9208126",
        "colab": {
          "base_uri": "https://localhost:8080/",
          "height": 126
        }
      },
      "source": [
        "#XGBoost\n",
        "xgb = xgbo.XGBRegressor(n_estimators=100, learning_rate=0.1)\n",
        "xgb.fit(X_train,Y_train)\n",
        "predictions = xgb.predict(X_test)\n",
        "print(\"Variance Score is\", explained_variance_score(predictions,Y_test))\n",
        "print(\"R2 \",r2_score(Y_test, predictions))\n",
        "print(\"MAE \", mean_absolute_error(Y_test, predictions))\n",
        "print(\"MSE \",mean_squared_error(Y_test,predictions))\n",
        "print(\"RMSE is\",np.sqrt(mean_squared_error(Y_test,predictions))) "
      ],
      "execution_count": 51,
      "outputs": [
        {
          "output_type": "stream",
          "text": [
            "[19:02:35] WARNING: /workspace/src/objective/regression_obj.cu:152: reg:linear is now deprecated in favor of reg:squarederror.\n",
            "Variance Score is 0.414482912358227\n",
            "R2  0.6879765035086562\n",
            "MAE  2.122428864129659\n",
            "MSE  12.5711380486569\n",
            "RMSE is 3.545580072238801\n"
          ],
          "name": "stdout"
        }
      ]
    },
    {
      "cell_type": "markdown",
      "metadata": {
        "id": "MvRNBMBdP5Ek",
        "colab_type": "text"
      },
      "source": [
        "Top 20 features"
      ]
    },
    {
      "cell_type": "code",
      "metadata": {
        "id": "1U83ROq5MXeq",
        "colab_type": "code",
        "colab": {}
      },
      "source": [
        "X = narcotics_dummies.drop('crimescount',axis=1)\n",
        "Y = narcotics_dummies.crimescount\n",
        "colnames = narcotics_dummies.columns"
      ],
      "execution_count": 0,
      "outputs": []
    },
    {
      "cell_type": "code",
      "metadata": {
        "id": "kriqHD0cRfMX",
        "colab_type": "code",
        "colab": {}
      },
      "source": [
        "from sklearn.preprocessing import MinMaxScaler\n",
        "ranks = {}\n",
        "# Create our function which stores the feature rankings to the ranks dictionary\n",
        "def ranking(ranks, names, order=1):\n",
        "    minmax = MinMaxScaler()\n",
        "    ranks = minmax.fit_transform(order*np.array([ranks]).T).T[0]\n",
        "    ranks = map(lambda x: round(x,2), ranks)\n",
        "    return dict(zip(names, ranks))"
      ],
      "execution_count": 0,
      "outputs": []
    },
    {
      "cell_type": "code",
      "metadata": {
        "id": "a4jKlJ9aP7ZD",
        "colab_type": "code",
        "outputId": "beceef63-73ea-418f-84e4-0bf65f484107",
        "colab": {
          "base_uri": "https://localhost:8080/",
          "height": 1000
        }
      },
      "source": [
        "# Construct our Linear Regression model\n",
        "from sklearn.feature_selection import RFE\n",
        "rr = RandomForestRegressor()\n",
        "rr.fit(X,Y)\n",
        "#stop the search when only the last feature is left\n",
        "rfe = RFE(rr, n_features_to_select=20, verbose =3 )\n",
        "rfe.fit(X,Y)\n",
        "ranks[\"RFE_pub\"] = ranking(list(map(float, rfe.ranking_)), colnames, order=-1)"
      ],
      "execution_count": 0,
      "outputs": [
        {
          "output_type": "stream",
          "text": [
            "Fitting estimator with 94 features.\n",
            "Fitting estimator with 93 features.\n",
            "Fitting estimator with 92 features.\n",
            "Fitting estimator with 91 features.\n",
            "Fitting estimator with 90 features.\n",
            "Fitting estimator with 89 features.\n",
            "Fitting estimator with 88 features.\n",
            "Fitting estimator with 87 features.\n",
            "Fitting estimator with 86 features.\n",
            "Fitting estimator with 85 features.\n",
            "Fitting estimator with 84 features.\n",
            "Fitting estimator with 83 features.\n",
            "Fitting estimator with 82 features.\n",
            "Fitting estimator with 81 features.\n",
            "Fitting estimator with 80 features.\n",
            "Fitting estimator with 79 features.\n",
            "Fitting estimator with 78 features.\n",
            "Fitting estimator with 77 features.\n",
            "Fitting estimator with 76 features.\n",
            "Fitting estimator with 75 features.\n",
            "Fitting estimator with 74 features.\n",
            "Fitting estimator with 73 features.\n",
            "Fitting estimator with 72 features.\n",
            "Fitting estimator with 71 features.\n",
            "Fitting estimator with 70 features.\n",
            "Fitting estimator with 69 features.\n",
            "Fitting estimator with 68 features.\n",
            "Fitting estimator with 67 features.\n",
            "Fitting estimator with 66 features.\n",
            "Fitting estimator with 65 features.\n",
            "Fitting estimator with 64 features.\n",
            "Fitting estimator with 63 features.\n",
            "Fitting estimator with 62 features.\n",
            "Fitting estimator with 61 features.\n",
            "Fitting estimator with 60 features.\n",
            "Fitting estimator with 59 features.\n",
            "Fitting estimator with 58 features.\n",
            "Fitting estimator with 57 features.\n",
            "Fitting estimator with 56 features.\n",
            "Fitting estimator with 55 features.\n",
            "Fitting estimator with 54 features.\n",
            "Fitting estimator with 53 features.\n",
            "Fitting estimator with 52 features.\n",
            "Fitting estimator with 51 features.\n",
            "Fitting estimator with 50 features.\n",
            "Fitting estimator with 49 features.\n",
            "Fitting estimator with 48 features.\n",
            "Fitting estimator with 47 features.\n",
            "Fitting estimator with 46 features.\n",
            "Fitting estimator with 45 features.\n",
            "Fitting estimator with 44 features.\n",
            "Fitting estimator with 43 features.\n",
            "Fitting estimator with 42 features.\n",
            "Fitting estimator with 41 features.\n",
            "Fitting estimator with 40 features.\n",
            "Fitting estimator with 39 features.\n",
            "Fitting estimator with 38 features.\n",
            "Fitting estimator with 37 features.\n",
            "Fitting estimator with 36 features.\n",
            "Fitting estimator with 35 features.\n",
            "Fitting estimator with 34 features.\n",
            "Fitting estimator with 33 features.\n",
            "Fitting estimator with 32 features.\n",
            "Fitting estimator with 31 features.\n",
            "Fitting estimator with 30 features.\n",
            "Fitting estimator with 29 features.\n",
            "Fitting estimator with 28 features.\n",
            "Fitting estimator with 27 features.\n",
            "Fitting estimator with 26 features.\n",
            "Fitting estimator with 25 features.\n",
            "Fitting estimator with 24 features.\n",
            "Fitting estimator with 23 features.\n",
            "Fitting estimator with 22 features.\n",
            "Fitting estimator with 21 features.\n"
          ],
          "name": "stdout"
        }
      ]
    },
    {
      "cell_type": "code",
      "metadata": {
        "id": "8XhYB252QSR9",
        "colab_type": "code",
        "outputId": "f02cb4fb-8556-4233-c160-f17e84842b44",
        "colab": {
          "base_uri": "https://localhost:8080/",
          "height": 1000
        }
      },
      "source": [
        "ranks"
      ],
      "execution_count": 0,
      "outputs": [
        {
          "output_type": "execute_result",
          "data": {
            "text/plain": [
              "{'RFE_pub': {'Avg_CollegeEnrollment_Rate': 0.93,\n",
              "  'Avg_College_Persistence_Rate': 1.0,\n",
              "  'Avg_Dropout_Rate': 0.91,\n",
              "  'Avg_FreshmanTrack_Rate': 0.92,\n",
              "  'Avg_Misconduct_Rate': 0.89,\n",
              "  'Avg_Student_Attendance_Rate': 1.0,\n",
              "  'Avg_Suspension_Days': 1.0,\n",
              "  'Avg_Suspension_Rate': 1.0,\n",
              "  'Avg_Teacher_Attendance_Rate': 0.99,\n",
              "  'Holiday_False': 0.09,\n",
              "  'Holiday_True': 1.0,\n",
              "  'Mobility_Rate_Pct': 1.0,\n",
              "  'Month_1': 0.76,\n",
              "  'Month_10': 0.68,\n",
              "  'Month_11': 0.73,\n",
              "  'Month_12': 1.0,\n",
              "  'Month_2': 0.88,\n",
              "  'Month_3': 0.8,\n",
              "  'Month_4': 0.85,\n",
              "  'Month_5': 0.82,\n",
              "  'Month_6': 0.78,\n",
              "  'Month_7': 0.72,\n",
              "  'Month_8': 0.69,\n",
              "  'Month_9': 0.81,\n",
              "  'NearestPoliceDist': 0.96,\n",
              "  'NearestRedCamDist': 0.86,\n",
              "  'NearestSpeedCamDist': 1.0,\n",
              "  'Primary_Type_ASSAULT': 1.0,\n",
              "  'Primary_Type_HOMICIDE': 1.0,\n",
              "  'Primary_Type_NARCOTICS': 1.0,\n",
              "  'Primary_Type_VIOLATIONS': 0.74,\n",
              "  'RedCamCount': 1.0,\n",
              "  'SchoolCount': 1.0,\n",
              "  'SpeedCamCount': 0.84,\n",
              "  'Time_afternoon': 1.0,\n",
              "  'Time_evening': 0.97,\n",
              "  'Time_morning': 1.0,\n",
              "  'WEEKDAY_0': 1.0,\n",
              "  'WEEKDAY_1': 0.32,\n",
              "  'Year_2015': 0.64,\n",
              "  'Year_2016': 0.62,\n",
              "  'Year_2017': 0.61,\n",
              "  'Year_2018': 0.65,\n",
              "  'avgTemp': 1.0,\n",
              "  'crimescount': 1.0,\n",
              "  'geohash_dp3sy': 0.03,\n",
              "  'geohash_dp3sz': 0.0,\n",
              "  'geohash_dp3t5': 0.15,\n",
              "  'geohash_dp3t7': 0.08,\n",
              "  'geohash_dp3td': 0.3,\n",
              "  'geohash_dp3te': 0.05,\n",
              "  'geohash_dp3tf': 0.24,\n",
              "  'geohash_dp3tg': 0.14,\n",
              "  'geohash_dp3th': 0.43,\n",
              "  'geohash_dp3tj': 0.07,\n",
              "  'geohash_dp3tk': 0.51,\n",
              "  'geohash_dp3tm': 0.57,\n",
              "  'geohash_dp3tn': 0.19,\n",
              "  'geohash_dp3tp': 0.5,\n",
              "  'geohash_dp3tq': 0.41,\n",
              "  'geohash_dp3tr': 0.55,\n",
              "  'geohash_dp3ts': 0.77,\n",
              "  'geohash_dp3tt': 0.58,\n",
              "  'geohash_dp3tu': 0.49,\n",
              "  'geohash_dp3tv': 0.95,\n",
              "  'geohash_dp3tw': 0.38,\n",
              "  'geohash_dp3tx': 0.46,\n",
              "  'geohash_dp3ty': 0.11,\n",
              "  'geohash_dp3v0': 0.2,\n",
              "  'geohash_dp3v2': 0.27,\n",
              "  'geohash_dp3w4': 0.54,\n",
              "  'geohash_dp3w5': 0.47,\n",
              "  'geohash_dp3w6': 0.53,\n",
              "  'geohash_dp3w7': 0.04,\n",
              "  'geohash_dp3w9': 0.18,\n",
              "  'geohash_dp3wc': 0.31,\n",
              "  'geohash_dp3wd': 0.66,\n",
              "  'geohash_dp3we': 0.26,\n",
              "  'geohash_dp3wf': 0.12,\n",
              "  'geohash_dp3wg': 0.59,\n",
              "  'geohash_dp3wh': 0.45,\n",
              "  'geohash_dp3wj': 0.7,\n",
              "  'geohash_dp3wk': 0.42,\n",
              "  'geohash_dp3wm': 0.22,\n",
              "  'geohash_dp3wn': 0.16,\n",
              "  'geohash_dp3wq': 0.36,\n",
              "  'geohash_dp3ws': 0.35,\n",
              "  'geohash_dp3wt': 0.34,\n",
              "  'geohash_dp3wu': 0.28,\n",
              "  'geohash_dp3wv': 0.01,\n",
              "  'geohash_dp3x1': 0.23,\n",
              "  'geohash_dp3xh': 1.0,\n",
              "  'prcp': 1.0,\n",
              "  'wind': 0.39}}"
            ]
          },
          "metadata": {
            "tags": []
          },
          "execution_count": 40
        }
      ]
    },
    {
      "cell_type": "code",
      "metadata": {
        "id": "Wu8CDYjLQHSe",
        "colab_type": "code",
        "colab": {}
      },
      "source": [
        "#Top 20 best features selected by random forest with categorical one hot encoded features\n",
        "#Note that there is a significant loss of categorical features with this approach\n",
        "#NearestPoliceDist,NearestRedCamDist,Avg_Student_Attendance_Rate,Avg_Teacher_Attendance_Rate,SchoolCount,Avg_FreshmanTrack_Rate,Mobility_Rate_Pct,avgTemp,prcp,wind\n",
        "best_rf_20 = narcotics_dummies[['crimescount','Avg_College_Persistence_Rate','Avg_Student_Attendance_Rate','Avg_Suspension_Days','Avg_Suspension_Rate',\n",
        "  'Holiday_True','Mobility_Rate_Pct','Month_12','NearestSpeedCamDist','Primary_Type_ASSAULT','Primary_Type_HOMICIDE','Primary_Type_NARCOTICS',\n",
        "  'RedCamCount','SchoolCount','Time_afternoon','Time_morning','WEEKDAY_0','avgTemp','geohash_dp3xh','prcp']]"
      ],
      "execution_count": 0,
      "outputs": []
    },
    {
      "cell_type": "code",
      "metadata": {
        "id": "AWZ9QDeRQHQS",
        "colab_type": "code",
        "outputId": "192bb006-d1f0-4be9-cdb9-f273c7106229",
        "colab": {
          "base_uri": "https://localhost:8080/",
          "height": 35
        }
      },
      "source": [
        "best_rf_20.shape"
      ],
      "execution_count": 56,
      "outputs": [
        {
          "output_type": "execute_result",
          "data": {
            "text/plain": [
              "(33565, 20)"
            ]
          },
          "metadata": {
            "tags": []
          },
          "execution_count": 56
        }
      ]
    },
    {
      "cell_type": "code",
      "metadata": {
        "id": "5NRxRswBQHMw",
        "colab_type": "code",
        "outputId": "bbcf4c35-80b6-4b11-a0a3-1cdec6560652",
        "colab": {
          "base_uri": "https://localhost:8080/",
          "height": 218
        }
      },
      "source": [
        "best_rf_20.head() #20 columns"
      ],
      "execution_count": 57,
      "outputs": [
        {
          "output_type": "execute_result",
          "data": {
            "text/html": [
              "<div>\n",
              "<style scoped>\n",
              "    .dataframe tbody tr th:only-of-type {\n",
              "        vertical-align: middle;\n",
              "    }\n",
              "\n",
              "    .dataframe tbody tr th {\n",
              "        vertical-align: top;\n",
              "    }\n",
              "\n",
              "    .dataframe thead th {\n",
              "        text-align: right;\n",
              "    }\n",
              "</style>\n",
              "<table border=\"1\" class=\"dataframe\">\n",
              "  <thead>\n",
              "    <tr style=\"text-align: right;\">\n",
              "      <th></th>\n",
              "      <th>crimescount</th>\n",
              "      <th>Avg_College_Persistence_Rate</th>\n",
              "      <th>Avg_Student_Attendance_Rate</th>\n",
              "      <th>Avg_Suspension_Days</th>\n",
              "      <th>Avg_Suspension_Rate</th>\n",
              "      <th>Holiday_True</th>\n",
              "      <th>Mobility_Rate_Pct</th>\n",
              "      <th>Month_12</th>\n",
              "      <th>NearestSpeedCamDist</th>\n",
              "      <th>Primary_Type_ASSAULT</th>\n",
              "      <th>Primary_Type_HOMICIDE</th>\n",
              "      <th>Primary_Type_NARCOTICS</th>\n",
              "      <th>RedCamCount</th>\n",
              "      <th>SchoolCount</th>\n",
              "      <th>Time_afternoon</th>\n",
              "      <th>Time_morning</th>\n",
              "      <th>WEEKDAY_0</th>\n",
              "      <th>avgTemp</th>\n",
              "      <th>geohash_dp3xh</th>\n",
              "      <th>prcp</th>\n",
              "    </tr>\n",
              "  </thead>\n",
              "  <tbody>\n",
              "    <tr>\n",
              "      <th>0</th>\n",
              "      <td>3</td>\n",
              "      <td>65.79</td>\n",
              "      <td>92.83</td>\n",
              "      <td>2.81</td>\n",
              "      <td>10.12</td>\n",
              "      <td>0</td>\n",
              "      <td>26.88</td>\n",
              "      <td>0</td>\n",
              "      <td>2.52</td>\n",
              "      <td>1</td>\n",
              "      <td>0</td>\n",
              "      <td>0</td>\n",
              "      <td>0.0</td>\n",
              "      <td>5.0</td>\n",
              "      <td>1</td>\n",
              "      <td>0</td>\n",
              "      <td>1</td>\n",
              "      <td>59.418065</td>\n",
              "      <td>0</td>\n",
              "      <td>33.283226</td>\n",
              "    </tr>\n",
              "    <tr>\n",
              "      <th>1</th>\n",
              "      <td>3</td>\n",
              "      <td>65.79</td>\n",
              "      <td>92.83</td>\n",
              "      <td>2.81</td>\n",
              "      <td>10.12</td>\n",
              "      <td>0</td>\n",
              "      <td>26.88</td>\n",
              "      <td>0</td>\n",
              "      <td>2.52</td>\n",
              "      <td>1</td>\n",
              "      <td>0</td>\n",
              "      <td>0</td>\n",
              "      <td>0.0</td>\n",
              "      <td>5.0</td>\n",
              "      <td>0</td>\n",
              "      <td>0</td>\n",
              "      <td>1</td>\n",
              "      <td>59.418065</td>\n",
              "      <td>0</td>\n",
              "      <td>33.283226</td>\n",
              "    </tr>\n",
              "    <tr>\n",
              "      <th>2</th>\n",
              "      <td>2</td>\n",
              "      <td>65.79</td>\n",
              "      <td>92.83</td>\n",
              "      <td>2.81</td>\n",
              "      <td>10.12</td>\n",
              "      <td>0</td>\n",
              "      <td>26.88</td>\n",
              "      <td>0</td>\n",
              "      <td>2.52</td>\n",
              "      <td>1</td>\n",
              "      <td>0</td>\n",
              "      <td>0</td>\n",
              "      <td>0.0</td>\n",
              "      <td>5.0</td>\n",
              "      <td>0</td>\n",
              "      <td>1</td>\n",
              "      <td>1</td>\n",
              "      <td>59.418065</td>\n",
              "      <td>0</td>\n",
              "      <td>33.283226</td>\n",
              "    </tr>\n",
              "    <tr>\n",
              "      <th>3</th>\n",
              "      <td>2</td>\n",
              "      <td>65.79</td>\n",
              "      <td>92.83</td>\n",
              "      <td>2.81</td>\n",
              "      <td>10.12</td>\n",
              "      <td>0</td>\n",
              "      <td>26.88</td>\n",
              "      <td>0</td>\n",
              "      <td>2.52</td>\n",
              "      <td>1</td>\n",
              "      <td>0</td>\n",
              "      <td>0</td>\n",
              "      <td>0.0</td>\n",
              "      <td>5.0</td>\n",
              "      <td>0</td>\n",
              "      <td>0</td>\n",
              "      <td>1</td>\n",
              "      <td>59.418065</td>\n",
              "      <td>0</td>\n",
              "      <td>33.283226</td>\n",
              "    </tr>\n",
              "    <tr>\n",
              "      <th>4</th>\n",
              "      <td>1</td>\n",
              "      <td>65.79</td>\n",
              "      <td>92.83</td>\n",
              "      <td>2.81</td>\n",
              "      <td>10.12</td>\n",
              "      <td>0</td>\n",
              "      <td>26.88</td>\n",
              "      <td>0</td>\n",
              "      <td>2.52</td>\n",
              "      <td>1</td>\n",
              "      <td>0</td>\n",
              "      <td>0</td>\n",
              "      <td>0.0</td>\n",
              "      <td>5.0</td>\n",
              "      <td>0</td>\n",
              "      <td>0</td>\n",
              "      <td>0</td>\n",
              "      <td>59.418065</td>\n",
              "      <td>0</td>\n",
              "      <td>33.283226</td>\n",
              "    </tr>\n",
              "  </tbody>\n",
              "</table>\n",
              "</div>"
            ],
            "text/plain": [
              "   crimescount  Avg_College_Persistence_Rate  ...  geohash_dp3xh       prcp\n",
              "0            3                         65.79  ...              0  33.283226\n",
              "1            3                         65.79  ...              0  33.283226\n",
              "2            2                         65.79  ...              0  33.283226\n",
              "3            2                         65.79  ...              0  33.283226\n",
              "4            1                         65.79  ...              0  33.283226\n",
              "\n",
              "[5 rows x 20 columns]"
            ]
          },
          "metadata": {
            "tags": []
          },
          "execution_count": 57
        }
      ]
    },
    {
      "cell_type": "code",
      "metadata": {
        "id": "TlBUkQL7QHLB",
        "colab_type": "code",
        "colab": {}
      },
      "source": [
        "model_data = best_rf_20.values\n",
        "X = model_data[:,1:]\n",
        "Y = model_data[:,0]\n",
        "np.random.seed(80)\n",
        "X_train, X_test, Y_train, Y_test = train_test_split(X, Y, test_size=0.20, random_state=20)"
      ],
      "execution_count": 0,
      "outputs": []
    },
    {
      "cell_type": "code",
      "metadata": {
        "id": "UPO8nSH-bPaX",
        "colab_type": "code",
        "outputId": "5591e655-ca1c-4da4-dc3e-edbf272a2cd3",
        "colab": {
          "base_uri": "https://localhost:8080/",
          "height": 145
        }
      },
      "source": [
        "feat_labels = [\n",
        " 'Avg_College_Persistence_Rate','Avg_Student_Attendance_Rate','Avg_Suspension_Days','Avg_Suspension_Rate',\n",
        "  'Holiday_True','Mobility_Rate_Pct','Month_12','NearestSpeedCamDist','Primary_Type_ASSAULT','Primary_Type_HOMICIDE','Primary_Type_NARCOTICS',\n",
        "  'RedCamCount','SchoolCount','Time_afternoon','Time_morning','WEEKDAY_0','avgTemp','geohash_dp3xh','prcp'      ]\n",
        "clf = RandomForestRegressor(n_estimators=10, random_state=20, n_jobs=-1)\n",
        "# Train the classifier\n",
        "clf.fit(X_train, Y_train)"
      ],
      "execution_count": 59,
      "outputs": [
        {
          "output_type": "execute_result",
          "data": {
            "text/plain": [
              "RandomForestRegressor(bootstrap=True, criterion='mse', max_depth=None,\n",
              "                      max_features='auto', max_leaf_nodes=None,\n",
              "                      min_impurity_decrease=0.0, min_impurity_split=None,\n",
              "                      min_samples_leaf=1, min_samples_split=2,\n",
              "                      min_weight_fraction_leaf=0.0, n_estimators=10, n_jobs=-1,\n",
              "                      oob_score=False, random_state=20, verbose=0,\n",
              "                      warm_start=False)"
            ]
          },
          "metadata": {
            "tags": []
          },
          "execution_count": 59
        }
      ]
    },
    {
      "cell_type": "code",
      "metadata": {
        "id": "SqNJI34SQHHL",
        "colab_type": "code",
        "outputId": "4983aa61-e0ab-4547-8171-2237c85cd7f8",
        "colab": {
          "base_uri": "https://localhost:8080/",
          "height": 108
        }
      },
      "source": [
        "y_pred = clf.predict(X_test)\n",
        "# View The Accuracy Of best features (20 Features) Model\n",
        "print(\"Variance Score is\", explained_variance_score(y_pred,Y_test))\n",
        "print('R2 is',clf.score(X_test,Y_test))\n",
        "print('Mean Absolute Error:', metrics.mean_absolute_error(Y_test, y_pred))\n",
        "print('Mean Squared Error:', metrics.mean_squared_error(Y_test, y_pred))\n",
        "print('Root Mean Squared Error:', np.sqrt(metrics.mean_squared_error(Y_test, y_pred)))"
      ],
      "execution_count": 60,
      "outputs": [
        {
          "output_type": "stream",
          "text": [
            "Variance Score is 0.35911689488229814\n",
            "R2 is 0.5477283980463119\n",
            "Mean Absolute Error: 2.3999276516306907\n",
            "Mean Squared Error: 25.012265374904384\n",
            "Root Mean Squared Error: 5.001226387087909\n"
          ],
          "name": "stdout"
        }
      ]
    },
    {
      "cell_type": "code",
      "metadata": {
        "id": "vXHqT41dRM8C",
        "colab_type": "code",
        "outputId": "a0e8ef46-ab9e-474a-bad0-31358f3e0d08",
        "colab": {
          "base_uri": "https://localhost:8080/",
          "height": 126
        }
      },
      "source": [
        "#XGBoost with best 20 features\n",
        "xgb = xgbo.XGBRegressor(n_estimators=100, learning_rate=0.1)\n",
        "xgb.fit(X_train,Y_train)\n",
        "predictions = xgb.predict(X_test)\n",
        "print(\"Variance Score is\", explained_variance_score(predictions,Y_test))\n",
        "print(\"R2 \",r2_score(Y_test, predictions))\n",
        "print(\"MAE \", mean_absolute_error(Y_test, predictions))\n",
        "print(\"MSE \",mean_squared_error(Y_test,predictions))\n",
        "print(\"RMSE is\",np.sqrt(mean_squared_error(Y_test,predictions))) "
      ],
      "execution_count": 61,
      "outputs": [
        {
          "output_type": "stream",
          "text": [
            "[19:06:03] WARNING: /workspace/src/objective/regression_obj.cu:152: reg:linear is now deprecated in favor of reg:squarederror.\n",
            "Variance Score is -0.11712854137191275\n",
            "R2  0.5660820021783242\n",
            "MAE  2.516335295983581\n",
            "MSE  23.99724427883557\n",
            "RMSE is 4.898698222878765\n"
          ],
          "name": "stdout"
        }
      ]
    },
    {
      "cell_type": "code",
      "metadata": {
        "id": "m4vdFH_HcLTu",
        "colab_type": "code",
        "colab": {}
      },
      "source": [
        "#Extract only numeric columns\n",
        "narcotics_num = narcotics.select_dtypes(include=['int64','float64'])\n",
        "crime = narcotics_num.drop(['crimescount'], axis=1)\n",
        "X = crime.as_matrix()\n",
        "Y = narcotics_num.crimescount.values\n",
        "colnames = crime.columns"
      ],
      "execution_count": 0,
      "outputs": []
    },
    {
      "cell_type": "code",
      "metadata": {
        "id": "ydp7fNYB2cAr",
        "colab_type": "code",
        "outputId": "211f88ae-960f-4503-cf64-a3bd016f0ccc",
        "colab": {
          "base_uri": "https://localhost:8080/",
          "height": 181
        }
      },
      "source": [
        "# Construct our Random Forest Regression model\n",
        "from sklearn.feature_selection import RFE\n",
        "rr = RandomForestRegressor()\n",
        "rr.fit(X,Y)\n",
        "#stop the search when only the last feature is left\n",
        "rfe = RFE(rr, n_features_to_select=10, verbose =3 )\n",
        "rfe.fit(X,Y)\n",
        "ranks[\"RFE_pub\"] = ranking(list(map(float, rfe.ranking_)), colnames, order=-1)"
      ],
      "execution_count": 63,
      "outputs": [
        {
          "output_type": "stream",
          "text": [
            "Fitting estimator with 19 features.\n",
            "Fitting estimator with 18 features.\n",
            "Fitting estimator with 17 features.\n",
            "Fitting estimator with 16 features.\n",
            "Fitting estimator with 15 features.\n",
            "Fitting estimator with 14 features.\n",
            "Fitting estimator with 13 features.\n",
            "Fitting estimator with 12 features.\n",
            "Fitting estimator with 11 features.\n"
          ],
          "name": "stdout"
        }
      ]
    },
    {
      "cell_type": "code",
      "metadata": {
        "id": "KZWJzIOzr0xX",
        "colab_type": "code",
        "outputId": "dcb10e02-0384-4c0a-dc53-8b44880290ba",
        "colab": {
          "base_uri": "https://localhost:8080/",
          "height": 363
        }
      },
      "source": [
        "ranks"
      ],
      "execution_count": 64,
      "outputs": [
        {
          "output_type": "execute_result",
          "data": {
            "text/plain": [
              "{'RFE_pub': {'Avg_CollegeEnrollment_Rate': 0.67,\n",
              "  'Avg_College_Persistence_Rate': 0.44,\n",
              "  'Avg_Dropout_Rate': 0.11,\n",
              "  'Avg_FreshmanTrack_Rate': 0.56,\n",
              "  'Avg_Misconduct_Rate': 0.89,\n",
              "  'Avg_Student_Attendance_Rate': 1.0,\n",
              "  'Avg_Suspension_Days': 0.78,\n",
              "  'Avg_Suspension_Rate': 0.33,\n",
              "  'Avg_Teacher_Attendance_Rate': 1.0,\n",
              "  'Mobility_Rate_Pct': 1.0,\n",
              "  'NearestPoliceDist': 1.0,\n",
              "  'NearestRedCamDist': 1.0,\n",
              "  'NearestSpeedCamDist': 0.22,\n",
              "  'RedCamCount': 1.0,\n",
              "  'SchoolCount': 1.0,\n",
              "  'SpeedCamCount': 0.0,\n",
              "  'avgTemp': 1.0,\n",
              "  'prcp': 1.0,\n",
              "  'wind': 1.0}}"
            ]
          },
          "metadata": {
            "tags": []
          },
          "execution_count": 64
        }
      ]
    },
    {
      "cell_type": "code",
      "metadata": {
        "id": "9903YAQceVVt",
        "colab_type": "code",
        "colab": {}
      },
      "source": [
        "#Top 10 numeric features and encoded categorical features\n",
        "best_rf = narcotics[['geohash', 'Primary_Type', 'Year', 'Month', 'WEEKDAY', 'Holiday',\n",
        "                     'Time', 'crimescount','Avg_Student_Attendance_Rate', 'Avg_Teacher_Attendance_Rate', 'Mobility_Rate_Pct', 'NearestPoliceDist', 'NearestRedCamDist',\n",
        "                      'RedCamCount', 'SchoolCount', 'avgTemp', 'prcp','wind']]"
      ],
      "execution_count": 0,
      "outputs": []
    },
    {
      "cell_type": "code",
      "metadata": {
        "id": "McdlI6w0f6dr",
        "colab_type": "code",
        "outputId": "f9bb2338-9849-459d-a734-5d5283f2a40d",
        "colab": {
          "base_uri": "https://localhost:8080/",
          "height": 247
        }
      },
      "source": [
        "best_rf_dummies = pd.get_dummies(best_rf)\n",
        "best_rf_dummies.head() #86 columns"
      ],
      "execution_count": 66,
      "outputs": [
        {
          "output_type": "execute_result",
          "data": {
            "text/html": [
              "<div>\n",
              "<style scoped>\n",
              "    .dataframe tbody tr th:only-of-type {\n",
              "        vertical-align: middle;\n",
              "    }\n",
              "\n",
              "    .dataframe tbody tr th {\n",
              "        vertical-align: top;\n",
              "    }\n",
              "\n",
              "    .dataframe thead th {\n",
              "        text-align: right;\n",
              "    }\n",
              "</style>\n",
              "<table border=\"1\" class=\"dataframe\">\n",
              "  <thead>\n",
              "    <tr style=\"text-align: right;\">\n",
              "      <th></th>\n",
              "      <th>crimescount</th>\n",
              "      <th>Avg_Student_Attendance_Rate</th>\n",
              "      <th>Avg_Teacher_Attendance_Rate</th>\n",
              "      <th>Mobility_Rate_Pct</th>\n",
              "      <th>NearestPoliceDist</th>\n",
              "      <th>NearestRedCamDist</th>\n",
              "      <th>RedCamCount</th>\n",
              "      <th>SchoolCount</th>\n",
              "      <th>avgTemp</th>\n",
              "      <th>prcp</th>\n",
              "      <th>wind</th>\n",
              "      <th>geohash_dp3sy</th>\n",
              "      <th>geohash_dp3sz</th>\n",
              "      <th>geohash_dp3t5</th>\n",
              "      <th>geohash_dp3t7</th>\n",
              "      <th>geohash_dp3td</th>\n",
              "      <th>geohash_dp3te</th>\n",
              "      <th>geohash_dp3tf</th>\n",
              "      <th>geohash_dp3tg</th>\n",
              "      <th>geohash_dp3th</th>\n",
              "      <th>geohash_dp3tj</th>\n",
              "      <th>geohash_dp3tk</th>\n",
              "      <th>geohash_dp3tm</th>\n",
              "      <th>geohash_dp3tn</th>\n",
              "      <th>geohash_dp3tp</th>\n",
              "      <th>geohash_dp3tq</th>\n",
              "      <th>geohash_dp3tr</th>\n",
              "      <th>geohash_dp3ts</th>\n",
              "      <th>geohash_dp3tt</th>\n",
              "      <th>geohash_dp3tu</th>\n",
              "      <th>geohash_dp3tv</th>\n",
              "      <th>geohash_dp3tw</th>\n",
              "      <th>geohash_dp3tx</th>\n",
              "      <th>geohash_dp3ty</th>\n",
              "      <th>geohash_dp3v0</th>\n",
              "      <th>geohash_dp3v2</th>\n",
              "      <th>geohash_dp3w4</th>\n",
              "      <th>geohash_dp3w5</th>\n",
              "      <th>geohash_dp3w6</th>\n",
              "      <th>geohash_dp3w7</th>\n",
              "      <th>...</th>\n",
              "      <th>geohash_dp3wh</th>\n",
              "      <th>geohash_dp3wj</th>\n",
              "      <th>geohash_dp3wk</th>\n",
              "      <th>geohash_dp3wm</th>\n",
              "      <th>geohash_dp3wn</th>\n",
              "      <th>geohash_dp3wq</th>\n",
              "      <th>geohash_dp3ws</th>\n",
              "      <th>geohash_dp3wt</th>\n",
              "      <th>geohash_dp3wu</th>\n",
              "      <th>geohash_dp3wv</th>\n",
              "      <th>geohash_dp3x1</th>\n",
              "      <th>geohash_dp3xh</th>\n",
              "      <th>Primary_Type_ASSAULT</th>\n",
              "      <th>Primary_Type_HOMICIDE</th>\n",
              "      <th>Primary_Type_NARCOTICS</th>\n",
              "      <th>Primary_Type_VIOLATIONS</th>\n",
              "      <th>Year_2015</th>\n",
              "      <th>Year_2016</th>\n",
              "      <th>Year_2017</th>\n",
              "      <th>Year_2018</th>\n",
              "      <th>Month_1</th>\n",
              "      <th>Month_2</th>\n",
              "      <th>Month_3</th>\n",
              "      <th>Month_4</th>\n",
              "      <th>Month_5</th>\n",
              "      <th>Month_6</th>\n",
              "      <th>Month_7</th>\n",
              "      <th>Month_8</th>\n",
              "      <th>Month_9</th>\n",
              "      <th>Month_10</th>\n",
              "      <th>Month_11</th>\n",
              "      <th>Month_12</th>\n",
              "      <th>WEEKDAY_0</th>\n",
              "      <th>WEEKDAY_1</th>\n",
              "      <th>Holiday_False</th>\n",
              "      <th>Holiday_True</th>\n",
              "      <th>Time_afternoon</th>\n",
              "      <th>Time_evening</th>\n",
              "      <th>Time_morning</th>\n",
              "      <th>Time_night</th>\n",
              "    </tr>\n",
              "  </thead>\n",
              "  <tbody>\n",
              "    <tr>\n",
              "      <th>0</th>\n",
              "      <td>3</td>\n",
              "      <td>92.83</td>\n",
              "      <td>94.57</td>\n",
              "      <td>26.88</td>\n",
              "      <td>4.16</td>\n",
              "      <td>3.93</td>\n",
              "      <td>0.0</td>\n",
              "      <td>5.0</td>\n",
              "      <td>59.418065</td>\n",
              "      <td>33.283226</td>\n",
              "      <td>34.589677</td>\n",
              "      <td>1</td>\n",
              "      <td>0</td>\n",
              "      <td>0</td>\n",
              "      <td>0</td>\n",
              "      <td>0</td>\n",
              "      <td>0</td>\n",
              "      <td>0</td>\n",
              "      <td>0</td>\n",
              "      <td>0</td>\n",
              "      <td>0</td>\n",
              "      <td>0</td>\n",
              "      <td>0</td>\n",
              "      <td>0</td>\n",
              "      <td>0</td>\n",
              "      <td>0</td>\n",
              "      <td>0</td>\n",
              "      <td>0</td>\n",
              "      <td>0</td>\n",
              "      <td>0</td>\n",
              "      <td>0</td>\n",
              "      <td>0</td>\n",
              "      <td>0</td>\n",
              "      <td>0</td>\n",
              "      <td>0</td>\n",
              "      <td>0</td>\n",
              "      <td>0</td>\n",
              "      <td>0</td>\n",
              "      <td>0</td>\n",
              "      <td>0</td>\n",
              "      <td>...</td>\n",
              "      <td>0</td>\n",
              "      <td>0</td>\n",
              "      <td>0</td>\n",
              "      <td>0</td>\n",
              "      <td>0</td>\n",
              "      <td>0</td>\n",
              "      <td>0</td>\n",
              "      <td>0</td>\n",
              "      <td>0</td>\n",
              "      <td>0</td>\n",
              "      <td>0</td>\n",
              "      <td>0</td>\n",
              "      <td>1</td>\n",
              "      <td>0</td>\n",
              "      <td>0</td>\n",
              "      <td>0</td>\n",
              "      <td>1</td>\n",
              "      <td>0</td>\n",
              "      <td>0</td>\n",
              "      <td>0</td>\n",
              "      <td>1</td>\n",
              "      <td>0</td>\n",
              "      <td>0</td>\n",
              "      <td>0</td>\n",
              "      <td>0</td>\n",
              "      <td>0</td>\n",
              "      <td>0</td>\n",
              "      <td>0</td>\n",
              "      <td>0</td>\n",
              "      <td>0</td>\n",
              "      <td>0</td>\n",
              "      <td>0</td>\n",
              "      <td>1</td>\n",
              "      <td>0</td>\n",
              "      <td>1</td>\n",
              "      <td>0</td>\n",
              "      <td>1</td>\n",
              "      <td>0</td>\n",
              "      <td>0</td>\n",
              "      <td>0</td>\n",
              "    </tr>\n",
              "    <tr>\n",
              "      <th>1</th>\n",
              "      <td>3</td>\n",
              "      <td>92.83</td>\n",
              "      <td>94.57</td>\n",
              "      <td>26.88</td>\n",
              "      <td>4.16</td>\n",
              "      <td>3.93</td>\n",
              "      <td>0.0</td>\n",
              "      <td>5.0</td>\n",
              "      <td>59.418065</td>\n",
              "      <td>33.283226</td>\n",
              "      <td>34.589677</td>\n",
              "      <td>1</td>\n",
              "      <td>0</td>\n",
              "      <td>0</td>\n",
              "      <td>0</td>\n",
              "      <td>0</td>\n",
              "      <td>0</td>\n",
              "      <td>0</td>\n",
              "      <td>0</td>\n",
              "      <td>0</td>\n",
              "      <td>0</td>\n",
              "      <td>0</td>\n",
              "      <td>0</td>\n",
              "      <td>0</td>\n",
              "      <td>0</td>\n",
              "      <td>0</td>\n",
              "      <td>0</td>\n",
              "      <td>0</td>\n",
              "      <td>0</td>\n",
              "      <td>0</td>\n",
              "      <td>0</td>\n",
              "      <td>0</td>\n",
              "      <td>0</td>\n",
              "      <td>0</td>\n",
              "      <td>0</td>\n",
              "      <td>0</td>\n",
              "      <td>0</td>\n",
              "      <td>0</td>\n",
              "      <td>0</td>\n",
              "      <td>0</td>\n",
              "      <td>...</td>\n",
              "      <td>0</td>\n",
              "      <td>0</td>\n",
              "      <td>0</td>\n",
              "      <td>0</td>\n",
              "      <td>0</td>\n",
              "      <td>0</td>\n",
              "      <td>0</td>\n",
              "      <td>0</td>\n",
              "      <td>0</td>\n",
              "      <td>0</td>\n",
              "      <td>0</td>\n",
              "      <td>0</td>\n",
              "      <td>1</td>\n",
              "      <td>0</td>\n",
              "      <td>0</td>\n",
              "      <td>0</td>\n",
              "      <td>1</td>\n",
              "      <td>0</td>\n",
              "      <td>0</td>\n",
              "      <td>0</td>\n",
              "      <td>1</td>\n",
              "      <td>0</td>\n",
              "      <td>0</td>\n",
              "      <td>0</td>\n",
              "      <td>0</td>\n",
              "      <td>0</td>\n",
              "      <td>0</td>\n",
              "      <td>0</td>\n",
              "      <td>0</td>\n",
              "      <td>0</td>\n",
              "      <td>0</td>\n",
              "      <td>0</td>\n",
              "      <td>1</td>\n",
              "      <td>0</td>\n",
              "      <td>1</td>\n",
              "      <td>0</td>\n",
              "      <td>0</td>\n",
              "      <td>1</td>\n",
              "      <td>0</td>\n",
              "      <td>0</td>\n",
              "    </tr>\n",
              "    <tr>\n",
              "      <th>2</th>\n",
              "      <td>2</td>\n",
              "      <td>92.83</td>\n",
              "      <td>94.57</td>\n",
              "      <td>26.88</td>\n",
              "      <td>4.16</td>\n",
              "      <td>3.93</td>\n",
              "      <td>0.0</td>\n",
              "      <td>5.0</td>\n",
              "      <td>59.418065</td>\n",
              "      <td>33.283226</td>\n",
              "      <td>34.589677</td>\n",
              "      <td>1</td>\n",
              "      <td>0</td>\n",
              "      <td>0</td>\n",
              "      <td>0</td>\n",
              "      <td>0</td>\n",
              "      <td>0</td>\n",
              "      <td>0</td>\n",
              "      <td>0</td>\n",
              "      <td>0</td>\n",
              "      <td>0</td>\n",
              "      <td>0</td>\n",
              "      <td>0</td>\n",
              "      <td>0</td>\n",
              "      <td>0</td>\n",
              "      <td>0</td>\n",
              "      <td>0</td>\n",
              "      <td>0</td>\n",
              "      <td>0</td>\n",
              "      <td>0</td>\n",
              "      <td>0</td>\n",
              "      <td>0</td>\n",
              "      <td>0</td>\n",
              "      <td>0</td>\n",
              "      <td>0</td>\n",
              "      <td>0</td>\n",
              "      <td>0</td>\n",
              "      <td>0</td>\n",
              "      <td>0</td>\n",
              "      <td>0</td>\n",
              "      <td>...</td>\n",
              "      <td>0</td>\n",
              "      <td>0</td>\n",
              "      <td>0</td>\n",
              "      <td>0</td>\n",
              "      <td>0</td>\n",
              "      <td>0</td>\n",
              "      <td>0</td>\n",
              "      <td>0</td>\n",
              "      <td>0</td>\n",
              "      <td>0</td>\n",
              "      <td>0</td>\n",
              "      <td>0</td>\n",
              "      <td>1</td>\n",
              "      <td>0</td>\n",
              "      <td>0</td>\n",
              "      <td>0</td>\n",
              "      <td>1</td>\n",
              "      <td>0</td>\n",
              "      <td>0</td>\n",
              "      <td>0</td>\n",
              "      <td>1</td>\n",
              "      <td>0</td>\n",
              "      <td>0</td>\n",
              "      <td>0</td>\n",
              "      <td>0</td>\n",
              "      <td>0</td>\n",
              "      <td>0</td>\n",
              "      <td>0</td>\n",
              "      <td>0</td>\n",
              "      <td>0</td>\n",
              "      <td>0</td>\n",
              "      <td>0</td>\n",
              "      <td>1</td>\n",
              "      <td>0</td>\n",
              "      <td>1</td>\n",
              "      <td>0</td>\n",
              "      <td>0</td>\n",
              "      <td>0</td>\n",
              "      <td>1</td>\n",
              "      <td>0</td>\n",
              "    </tr>\n",
              "    <tr>\n",
              "      <th>3</th>\n",
              "      <td>2</td>\n",
              "      <td>92.83</td>\n",
              "      <td>94.57</td>\n",
              "      <td>26.88</td>\n",
              "      <td>4.16</td>\n",
              "      <td>3.93</td>\n",
              "      <td>0.0</td>\n",
              "      <td>5.0</td>\n",
              "      <td>59.418065</td>\n",
              "      <td>33.283226</td>\n",
              "      <td>34.589677</td>\n",
              "      <td>1</td>\n",
              "      <td>0</td>\n",
              "      <td>0</td>\n",
              "      <td>0</td>\n",
              "      <td>0</td>\n",
              "      <td>0</td>\n",
              "      <td>0</td>\n",
              "      <td>0</td>\n",
              "      <td>0</td>\n",
              "      <td>0</td>\n",
              "      <td>0</td>\n",
              "      <td>0</td>\n",
              "      <td>0</td>\n",
              "      <td>0</td>\n",
              "      <td>0</td>\n",
              "      <td>0</td>\n",
              "      <td>0</td>\n",
              "      <td>0</td>\n",
              "      <td>0</td>\n",
              "      <td>0</td>\n",
              "      <td>0</td>\n",
              "      <td>0</td>\n",
              "      <td>0</td>\n",
              "      <td>0</td>\n",
              "      <td>0</td>\n",
              "      <td>0</td>\n",
              "      <td>0</td>\n",
              "      <td>0</td>\n",
              "      <td>0</td>\n",
              "      <td>...</td>\n",
              "      <td>0</td>\n",
              "      <td>0</td>\n",
              "      <td>0</td>\n",
              "      <td>0</td>\n",
              "      <td>0</td>\n",
              "      <td>0</td>\n",
              "      <td>0</td>\n",
              "      <td>0</td>\n",
              "      <td>0</td>\n",
              "      <td>0</td>\n",
              "      <td>0</td>\n",
              "      <td>0</td>\n",
              "      <td>1</td>\n",
              "      <td>0</td>\n",
              "      <td>0</td>\n",
              "      <td>0</td>\n",
              "      <td>1</td>\n",
              "      <td>0</td>\n",
              "      <td>0</td>\n",
              "      <td>0</td>\n",
              "      <td>1</td>\n",
              "      <td>0</td>\n",
              "      <td>0</td>\n",
              "      <td>0</td>\n",
              "      <td>0</td>\n",
              "      <td>0</td>\n",
              "      <td>0</td>\n",
              "      <td>0</td>\n",
              "      <td>0</td>\n",
              "      <td>0</td>\n",
              "      <td>0</td>\n",
              "      <td>0</td>\n",
              "      <td>1</td>\n",
              "      <td>0</td>\n",
              "      <td>1</td>\n",
              "      <td>0</td>\n",
              "      <td>0</td>\n",
              "      <td>0</td>\n",
              "      <td>0</td>\n",
              "      <td>1</td>\n",
              "    </tr>\n",
              "    <tr>\n",
              "      <th>4</th>\n",
              "      <td>1</td>\n",
              "      <td>92.83</td>\n",
              "      <td>94.57</td>\n",
              "      <td>26.88</td>\n",
              "      <td>4.16</td>\n",
              "      <td>3.93</td>\n",
              "      <td>0.0</td>\n",
              "      <td>5.0</td>\n",
              "      <td>59.418065</td>\n",
              "      <td>33.283226</td>\n",
              "      <td>34.589677</td>\n",
              "      <td>1</td>\n",
              "      <td>0</td>\n",
              "      <td>0</td>\n",
              "      <td>0</td>\n",
              "      <td>0</td>\n",
              "      <td>0</td>\n",
              "      <td>0</td>\n",
              "      <td>0</td>\n",
              "      <td>0</td>\n",
              "      <td>0</td>\n",
              "      <td>0</td>\n",
              "      <td>0</td>\n",
              "      <td>0</td>\n",
              "      <td>0</td>\n",
              "      <td>0</td>\n",
              "      <td>0</td>\n",
              "      <td>0</td>\n",
              "      <td>0</td>\n",
              "      <td>0</td>\n",
              "      <td>0</td>\n",
              "      <td>0</td>\n",
              "      <td>0</td>\n",
              "      <td>0</td>\n",
              "      <td>0</td>\n",
              "      <td>0</td>\n",
              "      <td>0</td>\n",
              "      <td>0</td>\n",
              "      <td>0</td>\n",
              "      <td>0</td>\n",
              "      <td>...</td>\n",
              "      <td>0</td>\n",
              "      <td>0</td>\n",
              "      <td>0</td>\n",
              "      <td>0</td>\n",
              "      <td>0</td>\n",
              "      <td>0</td>\n",
              "      <td>0</td>\n",
              "      <td>0</td>\n",
              "      <td>0</td>\n",
              "      <td>0</td>\n",
              "      <td>0</td>\n",
              "      <td>0</td>\n",
              "      <td>1</td>\n",
              "      <td>0</td>\n",
              "      <td>0</td>\n",
              "      <td>0</td>\n",
              "      <td>1</td>\n",
              "      <td>0</td>\n",
              "      <td>0</td>\n",
              "      <td>0</td>\n",
              "      <td>1</td>\n",
              "      <td>0</td>\n",
              "      <td>0</td>\n",
              "      <td>0</td>\n",
              "      <td>0</td>\n",
              "      <td>0</td>\n",
              "      <td>0</td>\n",
              "      <td>0</td>\n",
              "      <td>0</td>\n",
              "      <td>0</td>\n",
              "      <td>0</td>\n",
              "      <td>0</td>\n",
              "      <td>0</td>\n",
              "      <td>1</td>\n",
              "      <td>1</td>\n",
              "      <td>0</td>\n",
              "      <td>0</td>\n",
              "      <td>1</td>\n",
              "      <td>0</td>\n",
              "      <td>0</td>\n",
              "    </tr>\n",
              "  </tbody>\n",
              "</table>\n",
              "<p>5 rows × 86 columns</p>\n",
              "</div>"
            ],
            "text/plain": [
              "   crimescount  Avg_Student_Attendance_Rate  ...  Time_morning  Time_night\n",
              "0            3                        92.83  ...             0           0\n",
              "1            3                        92.83  ...             0           0\n",
              "2            2                        92.83  ...             1           0\n",
              "3            2                        92.83  ...             0           1\n",
              "4            1                        92.83  ...             0           0\n",
              "\n",
              "[5 rows x 86 columns]"
            ]
          },
          "metadata": {
            "tags": []
          },
          "execution_count": 66
        }
      ]
    },
    {
      "cell_type": "code",
      "metadata": {
        "id": "eQEC32Spf6v6",
        "colab_type": "code",
        "colab": {}
      },
      "source": [
        "#list(best_rf_dummies.columns) (Big output cell)"
      ],
      "execution_count": 0,
      "outputs": []
    },
    {
      "cell_type": "code",
      "metadata": {
        "id": "YVhhwvycf6p5",
        "colab_type": "code",
        "colab": {}
      },
      "source": [
        "model_data = best_rf_dummies.values\n",
        "X = model_data[:,1:]\n",
        "Y = model_data[:,0]\n",
        "np.random.seed(80)\n",
        "X_train, X_test, Y_train, Y_test = train_test_split(X, Y, test_size=0.20, random_state=20)"
      ],
      "execution_count": 0,
      "outputs": []
    },
    {
      "cell_type": "code",
      "metadata": {
        "id": "Z5PgJD9dgus8",
        "colab_type": "code",
        "outputId": "cf1661ed-cd62-4f34-c1e5-f9f97fd96ed5",
        "colab": {
          "base_uri": "https://localhost:8080/",
          "height": 145
        }
      },
      "source": [
        "feat_labels = [\n",
        "  'Avg_Student_Attendance_Rate','Avg_Teacher_Attendance_Rate','Mobility_Rate_Pct','NearestPoliceDist','NearestRedCamDist',\n",
        " 'RedCamCount','SchoolCount','avgTemp','prcp','wind',\n",
        " 'geohash_dp3sy','geohash_dp3sz','geohash_dp3t5','geohash_dp3t7','geohash_dp3td','geohash_dp3te','geohash_dp3tf','geohash_dp3tg',\n",
        " 'geohash_dp3th','geohash_dp3tj','geohash_dp3tk','geohash_dp3tm','geohash_dp3tn','geohash_dp3tp','geohash_dp3tq','geohash_dp3tr',\n",
        " 'geohash_dp3ts','geohash_dp3tt','geohash_dp3tu','geohash_dp3tv','geohash_dp3tw','geohash_dp3tx','geohash_dp3ty','geohash_dp3v0',\n",
        " 'geohash_dp3v2','geohash_dp3w4','geohash_dp3w5','geohash_dp3w6','geohash_dp3w7','geohash_dp3w9','geohash_dp3wc','geohash_dp3wd',\n",
        " 'geohash_dp3we','geohash_dp3wf','geohash_dp3wg','geohash_dp3wh','geohash_dp3wj','geohash_dp3wk','geohash_dp3wm','geohash_dp3wn',\n",
        " 'geohash_dp3wq','geohash_dp3ws','geohash_dp3wt','geohash_dp3wu','geohash_dp3wv','geohash_dp3x1','geohash_dp3xh',\n",
        " 'Primary_Type_ASSAULT','Primary_Type_HOMICIDE','Primary_Type_NARCOTICS','Primary_Type_VIOLATIONS',\n",
        " 'Year_2015','Year_2016','Year_2017','Year_2018','Month_1','Month_2','Month_3','Month_4','Month_5','Month_6','Month_7','Month_8','Month_9','Month_10','Month_11','Month_12',\n",
        " 'WEEKDAY_0','WEEKDAY_1','Holiday_False','Holiday_True','Time_afternoon','Time_evening','Time_morning','Time_night']\n",
        "clf = RandomForestRegressor(n_estimators=10, random_state=20, n_jobs=-1)\n",
        "# Train the classifier\n",
        "clf.fit(X_train, Y_train)"
      ],
      "execution_count": 75,
      "outputs": [
        {
          "output_type": "execute_result",
          "data": {
            "text/plain": [
              "RandomForestRegressor(bootstrap=True, criterion='mse', max_depth=None,\n",
              "                      max_features='auto', max_leaf_nodes=None,\n",
              "                      min_impurity_decrease=0.0, min_impurity_split=None,\n",
              "                      min_samples_leaf=1, min_samples_split=2,\n",
              "                      min_weight_fraction_leaf=0.0, n_estimators=10, n_jobs=-1,\n",
              "                      oob_score=False, random_state=20, verbose=0,\n",
              "                      warm_start=False)"
            ]
          },
          "metadata": {
            "tags": []
          },
          "execution_count": 75
        }
      ]
    },
    {
      "cell_type": "code",
      "metadata": {
        "id": "X-5nsKC9a-kf",
        "colab_type": "code",
        "outputId": "78e61dfb-854c-40a3-97c8-df506c30e96c",
        "colab": {
          "base_uri": "https://localhost:8080/",
          "height": 108
        }
      },
      "source": [
        "#Training model accuracy\n",
        "trainac = clf.predict(X_train)\n",
        "print(\"Train accuracy details of Random Forest\")\n",
        "print(\"RMSE is\",np.sqrt(mean_squared_error(Y_train,trainac))) \n",
        "print(\"R2 \",r2_score(Y_train, trainac))\n",
        "print(\"MAE \", mean_absolute_error(Y_train, trainac))\n",
        "print(\"MSE \",mean_squared_error(Y_train,trainac))"
      ],
      "execution_count": 76,
      "outputs": [
        {
          "output_type": "stream",
          "text": [
            "Train accuracy details of Random Forest\n",
            "RMSE is 1.2007894084046582\n",
            "R2  0.9680927153998428\n",
            "MAE  0.6594406375688961\n",
            "MSE  1.441895203336809\n"
          ],
          "name": "stdout"
        }
      ]
    },
    {
      "cell_type": "code",
      "metadata": {
        "id": "ckL6REkWgvBD",
        "colab_type": "code",
        "outputId": "114a5c58-0f6b-49bc-c2ae-b79cdf0dec93",
        "colab": {
          "base_uri": "https://localhost:8080/",
          "height": 90
        }
      },
      "source": [
        "#Testing model accuracy\n",
        "y_pred = clf.predict(X_test)\n",
        "# View The Accuracy Of best features (20 Features) Model\n",
        "print(clf.score(X_test,Y_test))\n",
        "print('Mean Absolute Error:', metrics.mean_absolute_error(Y_test, y_pred))\n",
        "print('Mean Squared Error:', metrics.mean_squared_error(Y_test, y_pred))\n",
        "print('Root Mean Squared Error:', np.sqrt(metrics.mean_squared_error(Y_test, y_pred)))\n",
        "#0.8454092242539049"
      ],
      "execution_count": 77,
      "outputs": [
        {
          "output_type": "stream",
          "text": [
            "0.8454092242539049\n",
            "Mean Absolute Error: 1.7195590645017134\n",
            "Mean Squared Error: 8.54943244451065\n",
            "Root Mean Squared Error: 2.9239412518911267\n"
          ],
          "name": "stdout"
        }
      ]
    },
    {
      "cell_type": "code",
      "metadata": {
        "id": "sYVVYVbTgvFW",
        "colab_type": "code",
        "outputId": "42db99dc-ab0f-48a2-9041-2a4f8ad7f490",
        "colab": {
          "base_uri": "https://localhost:8080/",
          "height": 126
        }
      },
      "source": [
        "#XGBoost\n",
        "xgb = xgbo.XGBRegressor(n_estimators=100, learning_rate=0.1)\n",
        "xgb.fit(X_train,Y_train)\n",
        "predictions = xgb.predict(X_test)\n",
        "print(\"Variance Score is\", explained_variance_score(predictions,Y_test))\n",
        "print(\"R2 \",r2_score(Y_test, predictions))\n",
        "print(\"MAE \", mean_absolute_error(Y_test, predictions))\n",
        "print(\"MSE \",mean_squared_error(Y_test,predictions))\n",
        "print(\"RMSE is\",np.sqrt(mean_squared_error(Y_test,predictions))) "
      ],
      "execution_count": 78,
      "outputs": [
        {
          "output_type": "stream",
          "text": [
            "[19:14:29] WARNING: /workspace/src/objective/regression_obj.cu:152: reg:linear is now deprecated in favor of reg:squarederror.\n",
            "Variance Score is 0.16977560096546385\n",
            "R2  0.652870009848612\n",
            "MAE  2.2937913951896154\n",
            "MSE  19.197551638768466\n",
            "RMSE is 4.381501071410169\n"
          ],
          "name": "stdout"
        }
      ]
    },
    {
      "cell_type": "code",
      "metadata": {
        "id": "OCL6bNmwzNnS",
        "colab_type": "code",
        "outputId": "8a94ad9e-bd9e-4465-907e-b7f69d19bcf7",
        "colab": {
          "base_uri": "https://localhost:8080/",
          "height": 108
        }
      },
      "source": [
        "trainac = xgb.predict(X_train)\n",
        "print(\"Train accuracy details on the tuned - XGBoost\")\n",
        "print(\"RMSE is\",np.sqrt(mean_squared_error(Y_train,trainac))) \n",
        "print(\"R2 \",r2_score(Y_train, trainac))\n",
        "print(\"MAE \", mean_absolute_error(Y_train, trainac))\n",
        "print(\"MSE \",mean_squared_error(Y_train,trainac))"
      ],
      "execution_count": 79,
      "outputs": [
        {
          "output_type": "stream",
          "text": [
            "Train accuracy details on the tuned - XGBoost\n",
            "RMSE is 3.813195037679101\n",
            "R2  0.6782384188879149\n",
            "MAE  2.186053473983528\n",
            "MSE  14.540456395380522\n"
          ],
          "name": "stdout"
        }
      ]
    },
    {
      "cell_type": "code",
      "metadata": {
        "id": "QrpBpHI_2cBT",
        "colab_type": "code",
        "outputId": "b9b3a93e-a6bb-4523-c57b-084a8d246070",
        "colab": {
          "base_uri": "https://localhost:8080/",
          "height": 163
        }
      },
      "source": [
        "#Random Forest\n",
        "from sklearn.model_selection import cross_val_score\n",
        "kfold = model_selection.KFold(n_splits=3, random_state=200, shuffle=True)\n",
        "model_kfoldrand = RandomForestRegressor(n_estimators=10, random_state=20, n_jobs=-1)\n",
        "results_kfoldrand = model_selection.cross_val_score(model_kfoldrand, X, Y, cv=kfold)\n",
        "#scores = cross_val_score(clfrffive, X_trainkf, y_trainkf, cv=10, scoring='neg_mean_absolute_error')\n",
        "#print(scores)\n",
        "for train_index, test_index in kfold.split(X):\n",
        "    print(\"TRAIN:\", train_index, \"TEST:\", test_index)\n",
        "    X_trainkf, X_testkf = X[train_index], X[test_index]\n",
        "    y_trainkf, y_testkf = Y[train_index], Y[test_index]\n",
        "results_kfoldrand = model_selection.cross_val_score(model_kfoldrand, X, Y, cv=kfold)\n",
        "print(\"Accuracy: %.2f%%\" % (results_kfoldrand.mean()*100.0)) \n",
        "clfrfthree = model_kfoldrand.fit(X_trainkf, y_trainkf)\n",
        "kfoldrf = model_kfoldrand.predict(X_testkf)\n",
        "print(\"RMSE is\",np.sqrt(mean_squared_error(y_testkf,kfoldrf))) \n",
        "print(\"R2 \",r2_score(y_testkf, kfoldrf))\n",
        "print(\"MAE \", mean_absolute_error(y_testkf, kfoldrf))\n",
        "print(\"MSE \",mean_squared_error(y_testkf,kfoldrf))"
      ],
      "execution_count": 80,
      "outputs": [
        {
          "output_type": "stream",
          "text": [
            "TRAIN: [    0     2     3 ... 33561 33563 33564] TEST: [    1     6     8 ... 33553 33555 33562]\n",
            "TRAIN: [    1     2     3 ... 33561 33562 33564] TEST: [    0     7    11 ... 33556 33559 33563]\n",
            "TRAIN: [    0     1     6 ... 33559 33562 33563] TEST: [    2     3     4 ... 33560 33561 33564]\n",
            "Accuracy: 82.44%\n",
            "RMSE is 2.787811044225438\n",
            "R2  0.845574293410971\n",
            "MAE  1.7138451912763675\n",
            "MSE  7.771890418305327\n"
          ],
          "name": "stdout"
        }
      ]
    },
    {
      "cell_type": "code",
      "metadata": {
        "id": "TdWgn9Di2cBU",
        "colab_type": "code",
        "outputId": "8380019c-9d6f-4078-ca53-faa7b4f49e6b",
        "colab": {
          "base_uri": "https://localhost:8080/",
          "height": 235
        }
      },
      "source": [
        "#Random Forest\n",
        "kfold = model_selection.KFold(n_splits=5, random_state=200,shuffle=True)\n",
        "model_kfoldrand = RandomForestRegressor(n_estimators=10, random_state=20, n_jobs=-1)\n",
        "for train_index, test_index in kfold.split(X):\n",
        "    print(\"TRAIN:\", train_index, \"TEST:\", test_index)\n",
        "    X_trainkf, X_testkf = X[train_index], X[test_index]\n",
        "    y_trainkf, y_testkf = Y[train_index], Y[test_index]\n",
        "results_kfoldrand = model_selection.cross_val_score(model_kfoldrand, X, Y, cv=kfold)\n",
        "print(\"Accuracy: %.2f%%\" % (results_kfoldrand.mean()*100.0)) \n",
        "clfrffive = model_kfoldrand.fit(X_trainkf, y_trainkf)\n",
        "kfoldrf = model_kfoldrand.predict(X_testkf)\n",
        "print(\"RMSE is\",np.sqrt(mean_squared_error(y_testkf,kfoldrf))) \n",
        "print(\"R2 \",r2_score(y_testkf, kfoldrf))\n",
        "print(\"MAE \", mean_absolute_error(y_testkf, kfoldrf))\n",
        "print(\"MSE \",mean_squared_error(y_testkf,kfoldrf))"
      ],
      "execution_count": 81,
      "outputs": [
        {
          "output_type": "stream",
          "text": [
            "TRAIN: [    0     2     3 ... 33561 33563 33564] TEST: [    1     6     8 ... 33546 33551 33562]\n",
            "TRAIN: [    0     1     2 ... 33562 33563 33564] TEST: [    9    24    28 ... 33553 33555 33559]\n",
            "TRAIN: [    1     2     3 ... 33562 33563 33564] TEST: [    0     7    14 ... 33533 33540 33556]\n",
            "TRAIN: [    0     1     3 ... 33559 33561 33562] TEST: [    2    11    12 ... 33560 33563 33564]\n",
            "TRAIN: [    0     1     2 ... 33562 33563 33564] TEST: [    3     4     5 ... 33550 33558 33561]\n",
            "Accuracy: 83.27%\n",
            "[-1.06012658 -1.84787789 -1.98949721 -2.95947858 -3.40860335 -4.10696462\n",
            " -3.46167598 -3.66402235 -4.40566108 -1.36361266]\n",
            "RMSE is 2.7515492704033435\n",
            "R2  0.8451528849170843\n",
            "MAE  1.70463280202592\n",
            "MSE  7.571023387457172\n"
          ],
          "name": "stdout"
        }
      ]
    },
    {
      "cell_type": "code",
      "metadata": {
        "id": "uXU1diiC2cBV",
        "colab_type": "code",
        "outputId": "be3bafde-f05c-41ee-d5d9-107598a69cd0",
        "colab": {
          "base_uri": "https://localhost:8080/",
          "height": 318
        }
      },
      "source": [
        "#Random Forest\n",
        "kfold = model_selection.KFold(n_splits=10, random_state=200,shuffle=True)\n",
        "model_kfoldrand = RandomForestRegressor(n_estimators=10, random_state=20, n_jobs=-1)\n",
        "results_kfoldrand = model_selection.cross_val_score(model_kfoldrand, X, Y, cv=kfold)\n",
        "print(\"Accuracy: %.2f%%\" % (results_kfoldrand.mean()*100.0)) \n",
        "for train_index, test_index in kfold.split(X):\n",
        "    print(\"TRAIN:\", train_index, \"TEST:\", test_index)\n",
        "    X_trainkf, X_testkf = X[train_index], X[test_index]\n",
        "    y_trainkf, y_testkf = Y[train_index], Y[test_index]\n",
        "clfrften = model_kfoldrand.fit(X_trainkf, y_trainkf)\n",
        "print(\"Residual sum of squares: %.2f\"\n",
        "    % np.mean((model_kfoldrand.predict(X_testkf) - y_testkf) ** 2))\n",
        "#Explained variance score: 1 is perfect prediction\n",
        "print('Explained Variance score: %.2f' % model_kfoldrand.score(X_testkf, y_testkf))\n",
        "kfoldrf = model_kfoldrand.predict(X_testkf)\n",
        "print(\"RMSE is\",np.sqrt(mean_squared_error(y_testkf,kfoldrf))) \n",
        "print(\"R2 \",r2_score(y_testkf, kfoldrf))\n",
        "print(\"MAE \", mean_absolute_error(y_testkf, kfoldrf))\n",
        "print(\"MSE \",mean_squared_error(y_testkf,kfoldrf))"
      ],
      "execution_count": 0,
      "outputs": [
        {
          "output_type": "stream",
          "text": [
            "Accuracy: 83.63%\n",
            "TRAIN: [    0     1     2 ... 33562 33563 33564] TEST: [   16    21    45 ... 33521 33537 33544]\n",
            "TRAIN: [    0     2     3 ... 33561 33563 33564] TEST: [    1     6     8 ... 33546 33551 33562]\n",
            "TRAIN: [    0     1     2 ... 33562 33563 33564] TEST: [    9    24    28 ... 33531 33553 33555]\n",
            "TRAIN: [    0     1     2 ... 33562 33563 33564] TEST: [   33    35    36 ... 33545 33552 33559]\n",
            "TRAIN: [    0     1     2 ... 33562 33563 33564] TEST: [   20    26    32 ... 33510 33523 33530]\n",
            "TRAIN: [    1     2     3 ... 33562 33563 33564] TEST: [    0     7    14 ... 33533 33540 33556]\n",
            "TRAIN: [    0     1     3 ... 33560 33561 33562] TEST: [    2    11    25 ... 33557 33563 33564]\n",
            "TRAIN: [    0     1     2 ... 33562 33563 33564] TEST: [   12    15    22 ... 33548 33554 33560]\n",
            "TRAIN: [    0     1     2 ... 33562 33563 33564] TEST: [    4    23    42 ... 33543 33547 33558]\n",
            "TRAIN: [    0     1     2 ... 33562 33563 33564] TEST: [    3     5    17 ... 33549 33550 33561]\n",
            "Residual sum of squares: 7.88\n",
            "Explained Variance score: 0.85\n",
            "RMSE is 2.8078305496787332\n",
            "R2  0.8534330341579456\n",
            "MAE  1.7173122765196662\n",
            "MSE  7.883912395709178\n"
          ],
          "name": "stdout"
        }
      ]
    },
    {
      "cell_type": "code",
      "metadata": {
        "id": "T5jIz-9H2cBX",
        "colab_type": "code",
        "outputId": "6d285855-fb89-4f4e-9a37-731ba7fa291a",
        "colab": {
          "base_uri": "https://localhost:8080/",
          "height": 508
        }
      },
      "source": [
        "#Random Forest\n",
        "kfold = model_selection.KFold(n_splits=20, random_state=200,shuffle=True)\n",
        "model_kfoldrand = RandomForestRegressor(n_estimators=10, random_state=20, n_jobs=-1)\n",
        "results_kfoldrand = model_selection.cross_val_score(model_kfoldrand, X, Y, cv=kfold)\n",
        "print(\"Accuracy: %.2f%%\" % (results_kfoldrand.mean()*100.0)) \n",
        "for train_index, test_index in kfold.split(X):\n",
        "    print(\"TRAIN:\", train_index, \"TEST:\", test_index)\n",
        "    X_trainkf, X_testkf = X[train_index], X[test_index]\n",
        "    y_trainkf, y_testkf = Y[train_index], Y[test_index]\n",
        "clfrftwenty = model_kfoldrand.fit(X_trainkf, y_trainkf)\n",
        "print(\"Residual sum of squares: %.2f\"\n",
        "    % np.mean((model_kfoldrand.predict(X_testkf) - y_testkf) ** 2))\n",
        "#Explained variance score: 1 is perfect prediction\n",
        "print('Explained Variance score: %.2f' % model_kfoldrand.score(X_testkf, y_testkf))\n",
        "kfoldrf = model_kfoldrand.predict(X_testkf)\n",
        "print(\"RMSE is\",np.sqrt(mean_squared_error(y_testkf,kfoldrf))) \n",
        "print(\"R2 \",r2_score(y_testkf, kfoldrf))\n",
        "print(\"MAE \", mean_absolute_error(y_testkf, kfoldrf))\n",
        "print(\"MSE \",mean_squared_error(y_testkf,kfoldrf))"
      ],
      "execution_count": 82,
      "outputs": [
        {
          "output_type": "stream",
          "text": [
            "Accuracy: 83.40%\n",
            "TRAIN: [    0     1     2 ... 33562 33563 33564] TEST: [   16    21    45 ... 33456 33487 33544]\n",
            "TRAIN: [    0     1     2 ... 33562 33563 33564] TEST: [   46    54    62 ... 33511 33521 33537]\n",
            "TRAIN: [    0     2     3 ... 33562 33563 33564] TEST: [    1     6    10 ... 33471 33546 33551]\n",
            "TRAIN: [    0     1     2 ... 33561 33563 33564] TEST: [    8    13    19 ... 33520 33541 33562]\n",
            "TRAIN: [    0     1     2 ... 33562 33563 33564] TEST: [   24    30    31 ... 33515 33553 33555]\n",
            "TRAIN: [    0     1     2 ... 33562 33563 33564] TEST: [    9    28    29 ... 33507 33525 33531]\n",
            "TRAIN: [    0     1     2 ... 33562 33563 33564] TEST: [   36    86    87 ... 33504 33534 33552]\n",
            "TRAIN: [    0     1     2 ... 33562 33563 33564] TEST: [   33    35    75 ... 33542 33545 33559]\n",
            "TRAIN: [    0     1     2 ... 33562 33563 33564] TEST: [   20    32    55 ... 33453 33455 33510]\n",
            "TRAIN: [    0     1     2 ... 33562 33563 33564] TEST: [   26    48    65 ... 33509 33523 33530]\n",
            "TRAIN: [    1     2     3 ... 33562 33563 33564] TEST: [    0    47    58 ... 33524 33533 33540]\n",
            "TRAIN: [    0     1     2 ... 33562 33563 33564] TEST: [    7    14    34 ... 33513 33528 33556]\n",
            "TRAIN: [    0     1     2 ... 33561 33562 33564] TEST: [   11    25    27 ... 33501 33502 33563]\n",
            "TRAIN: [    0     1     3 ... 33561 33562 33563] TEST: [    2    52    60 ... 33490 33557 33564]\n",
            "TRAIN: [    0     1     2 ... 33562 33563 33564] TEST: [   12    69   106 ... 33451 33529 33554]\n",
            "TRAIN: [    0     1     2 ... 33562 33563 33564] TEST: [   15    22   105 ... 33527 33548 33560]\n",
            "TRAIN: [    0     1     2 ... 33562 33563 33564] TEST: [    4    42    56 ... 33539 33547 33558]\n",
            "TRAIN: [    0     1     2 ... 33562 33563 33564] TEST: [   23    43    59 ... 33522 33536 33543]\n",
            "TRAIN: [    0     1     2 ... 33562 33563 33564] TEST: [    3    49   151 ... 33532 33549 33561]\n",
            "TRAIN: [    0     1     2 ... 33562 33563 33564] TEST: [    5    17    18 ... 33493 33514 33550]\n",
            "Residual sum of squares: 8.02\n",
            "Explained Variance score: 0.85\n",
            "RMSE is 2.8313806400699733\n",
            "R2  0.8524281583822475\n",
            "MAE  1.715196662693683\n",
            "MSE  8.016716328963051\n"
          ],
          "name": "stdout"
        }
      ]
    },
    {
      "cell_type": "code",
      "metadata": {
        "id": "oFyVvYcp2cBZ",
        "colab_type": "code",
        "outputId": "abe7a8c1-8994-4da7-b13c-005c8599bc5e",
        "colab": {
          "base_uri": "https://localhost:8080/",
          "height": 690
        }
      },
      "source": [
        "#Random Forest\n",
        "kfold = model_selection.KFold(n_splits=30, random_state=200,shuffle=True)\n",
        "model_kfoldrand = RandomForestRegressor(n_estimators=10, random_state=20, n_jobs=-1)\n",
        "results_kfoldrand = model_selection.cross_val_score(model_kfoldrand, X, Y, cv=kfold)\n",
        "print(\"Accuracy: %.2f%%\" % (results_kfoldrand.mean()*100.0)) \n",
        "for train_index, test_index in kfold.split(X):\n",
        "    print(\"TRAIN:\", train_index, \"TEST:\", test_index)\n",
        "    X_trainkf, X_testkf = X[train_index], X[test_index]\n",
        "    y_trainkf, y_testkf = Y[train_index], Y[test_index]\n",
        "clfrfthirty = model_kfoldrand.fit(X_trainkf, y_trainkf)\n",
        "print(\"Residual sum of squares: %.2f\"\n",
        "    % np.mean((model_kfoldrand.predict(X_testkf) - y_testkf) ** 2))\n",
        "#Explained variance score: 1 is perfect prediction\n",
        "print('Explained Variance score: %.2f' % model_kfoldrand.score(X_testkf, y_testkf))\n",
        "kfoldrf = model_kfoldrand.predict(X_testkf)\n",
        "print(\"RMSE is\",np.sqrt(mean_squared_error(y_testkf,kfoldrf))) \n",
        "print(\"R2 \",r2_score(y_testkf, kfoldrf))\n",
        "print(\"MAE \", mean_absolute_error(y_testkf, kfoldrf))\n",
        "print(\"MSE \",mean_squared_error(y_testkf,kfoldrf))"
      ],
      "execution_count": 83,
      "outputs": [
        {
          "output_type": "stream",
          "text": [
            "Accuracy: 83.39%\n",
            "TRAIN: [    0     1     2 ... 33562 33563 33564] TEST: [   16    21    84 ... 33431 33456 33487]\n",
            "TRAIN: [    0     1     2 ... 33562 33563 33564] TEST: [   45    46    90 ... 33445 33521 33544]\n",
            "TRAIN: [    0     1     2 ... 33562 33563 33564] TEST: [   54    62   121 ... 33473 33511 33537]\n",
            "TRAIN: [    0     2     3 ... 33562 33563 33564] TEST: [    1     6    10 ... 33471 33546 33551]\n",
            "TRAIN: [    0     1     2 ... 33562 33563 33564] TEST: [   13    19    53 ... 33484 33491 33541]\n",
            "TRAIN: [    0     1     2 ... 33561 33563 33564] TEST: [    8    95   120 ... 33518 33520 33562]\n",
            "TRAIN: [    0     1     2 ... 33562 33563 33564] TEST: [   31    64    97 ... 33515 33553 33555]\n",
            "TRAIN: [    0     1     2 ... 33562 33563 33564] TEST: [   24    29    30 ... 33500 33503 33507]\n",
            "TRAIN: [    0     1     2 ... 33562 33563 33564] TEST: [    9    28    89 ... 33489 33525 33531]\n",
            "TRAIN: [    0     1     2 ... 33562 33563 33564] TEST: [   86    87   156 ... 33504 33534 33552]\n",
            "TRAIN: [    0     1     2 ... 33562 33563 33564] TEST: [   36   119   125 ... 33426 33432 33559]\n",
            "TRAIN: [    0     1     2 ... 33562 33563 33564] TEST: [   33    35    75 ... 33538 33542 33545]\n",
            "TRAIN: [    0     1     2 ... 33562 33563 33564] TEST: [   20    32    55 ... 33384 33455 33510]\n",
            "TRAIN: [    0     1     2 ... 33562 33563 33564] TEST: [   26    65    66 ... 33443 33453 33499]\n",
            "TRAIN: [    0     1     2 ... 33562 33563 33564] TEST: [   48    78    81 ... 33509 33523 33530]\n",
            "TRAIN: [    0     1     2 ... 33562 33563 33564] TEST: [   58    67    72 ... 33524 33533 33540]\n",
            "TRAIN: [    1     2     3 ... 33562 33563 33564] TEST: [    0    38    39 ... 33478 33488 33528]\n",
            "TRAIN: [    0     1     2 ... 33562 33563 33564] TEST: [    7    14    34 ... 33469 33513 33556]\n",
            "TRAIN: [    0     1     2 ... 33562 33563 33564] TEST: [   25    27    70 ... 33459 33483 33502]\n",
            "TRAIN: [    0     1     2 ... 33561 33562 33564] TEST: [   11    61    74 ... 33490 33501 33563]\n",
            "TRAIN: [    0     1     3 ... 33561 33562 33563] TEST: [    2    52    60 ... 33474 33557 33564]\n",
            "TRAIN: [    0     1     2 ... 33562 33563 33564] TEST: [   12    69   106 ... 33451 33529 33554]\n",
            "TRAIN: [    0     1     2 ... 33562 33563 33564] TEST: [  116   192   193 ... 33429 33430 33560]\n",
            "TRAIN: [    0     1     2 ... 33562 33563 33564] TEST: [   15    22   105 ... 33516 33527 33548]\n",
            "TRAIN: [    0     1     2 ... 33562 33563 33564] TEST: [    4    56    71 ... 33526 33539 33558]\n",
            "TRAIN: [    0     1     2 ... 33562 33563 33564] TEST: [   42    59   102 ... 33536 33543 33547]\n",
            "TRAIN: [    0     1     2 ... 33562 33563 33564] TEST: [   23    43    63 ... 33495 33505 33522]\n",
            "TRAIN: [    0     1     2 ... 33562 33563 33564] TEST: [    3    49   151 ... 33388 33418 33532]\n",
            "TRAIN: [    0     1     2 ... 33562 33563 33564] TEST: [    5    40    96 ... 33514 33549 33561]\n",
            "TRAIN: [    0     1     2 ... 33562 33563 33564] TEST: [   17    18    37 ... 33454 33493 33550]\n",
            "Residual sum of squares: 7.19\n",
            "Explained Variance score: 0.87\n",
            "RMSE is 2.6819228543677323\n",
            "R2  0.8662462360678944\n",
            "MAE  1.633005366726297\n",
            "MSE  7.192710196779964\n"
          ],
          "name": "stdout"
        }
      ]
    },
    {
      "cell_type": "code",
      "metadata": {
        "id": "iW4_5MkN2cBb",
        "colab_type": "code",
        "outputId": "38c09d21-dc1a-4c38-8b87-f1cbed46eaaa",
        "colab": {
          "base_uri": "https://localhost:8080/",
          "height": 272
        }
      },
      "source": [
        "#kfold on xgboost\n",
        "from sklearn.model_selection import cross_val_score\n",
        "kfold = model_selection.KFold(n_splits=3, random_state=200,shuffle=True)\n",
        "model_kfoldxgb = xgbo.XGBRegressor(n_estimators=100, learning_rate=0.1)\n",
        "results_kfoldxgb = cross_val_score(model_kfoldxgb, X, Y, cv=kfold)\n",
        "print(\"Accuracy: %.2f%%\" % (results_kfoldxgb.mean()*100.0)) \n",
        "for train_index, test_index in kfold.split(X):\n",
        "    print(\"TRAIN:\", train_index, \"TEST:\", test_index)\n",
        "    X_trainkf, X_testkf = X[train_index], X[test_index]\n",
        "    y_trainkf, y_testkf = Y[train_index], Y[test_index]\n",
        "clfxgb = model_kfoldxgb.fit(X_trainkf, y_trainkf)\n",
        "print(\"Residual sum of squares: %.2f\"\n",
        "    % np.mean((model_kfoldxgb.predict(X_testkf) - y_testkf) ** 2))\n",
        "#Explained variance score: 1 is perfect prediction\n",
        "print('Variance score: %.2f' % model_kfoldxgb.score(X_testkf, y_testkf))\n",
        "kfoldxgb = model_kfoldxgb.predict(X_testkf)\n",
        "print(\"RMSE is\",np.sqrt(mean_squared_error(y_testkf,kfoldxgb))) \n",
        "print(\"R2 \",r2_score(y_testkf, kfoldxgb))\n",
        "print(\"MAE \", mean_absolute_error(y_testkf, kfoldxgb))\n",
        "print(\"MSE \",mean_squared_error(y_testkf,kfoldxgb))"
      ],
      "execution_count": 84,
      "outputs": [
        {
          "output_type": "stream",
          "text": [
            "[19:24:21] WARNING: /workspace/src/objective/regression_obj.cu:152: reg:linear is now deprecated in favor of reg:squarederror.\n",
            "[19:24:25] WARNING: /workspace/src/objective/regression_obj.cu:152: reg:linear is now deprecated in favor of reg:squarederror.\n",
            "[19:24:29] WARNING: /workspace/src/objective/regression_obj.cu:152: reg:linear is now deprecated in favor of reg:squarederror.\n",
            "Accuracy: 67.28%\n",
            "TRAIN: [    0     2     3 ... 33561 33563 33564] TEST: [    1     6     8 ... 33553 33555 33562]\n",
            "TRAIN: [    1     2     3 ... 33561 33562 33564] TEST: [    0     7    11 ... 33556 33559 33563]\n",
            "TRAIN: [    0     1     6 ... 33559 33562 33563] TEST: [    2     3     4 ... 33560 33561 33564]\n",
            "[19:24:33] WARNING: /workspace/src/objective/regression_obj.cu:152: reg:linear is now deprecated in favor of reg:squarederror.\n",
            "Residual sum of squares: 15.57\n",
            "Variance score: 0.69\n",
            "RMSE is 3.94544625474632\n",
            "R2  0.6906962452066595\n",
            "MAE  2.2362412352768875\n",
            "MSE  15.566546149091764\n"
          ],
          "name": "stdout"
        }
      ]
    },
    {
      "cell_type": "code",
      "metadata": {
        "id": "LaAZsZKF2cBf",
        "colab_type": "code",
        "outputId": "29504abc-3e75-42e7-8ad9-9d07d9f21b8c",
        "colab": {
          "base_uri": "https://localhost:8080/",
          "height": 345
        }
      },
      "source": [
        "#kfold on xgboost\n",
        "from sklearn.model_selection import cross_val_score\n",
        "kfold = model_selection.KFold(n_splits=5, random_state=200,shuffle=True)\n",
        "model_kfoldxgb = xgbo.XGBRegressor(n_estimators=100, learning_rate=0.1)\n",
        "results_kfoldxgb = cross_val_score(model_kfoldxgb, X, Y, cv=kfold)\n",
        "print(\"Accuracy: %.2f%%\" % (results_kfoldxgb.mean()*100.0)) \n",
        "for train_index, test_index in kfold.split(X):\n",
        "    print(\"TRAIN:\", train_index, \"TEST:\", test_index)\n",
        "    X_trainkf, X_testkf = X[train_index], X[test_index]\n",
        "    y_trainkf, y_testkf = Y[train_index], Y[test_index]\n",
        "clfxgb = model_kfoldxgb.fit(X_trainkf, y_trainkf)\n",
        "print(\"Residual sum of squares: %.2f\"\n",
        "    % np.mean((model_kfoldxgb.predict(X_testkf) - y_testkf) ** 2))\n",
        "#Explained variance score: 1 is perfect prediction\n",
        "print('Variance score: %.2f' % model_kfoldxgb.score(X_testkf, y_testkf))\n",
        "kfoldxgb = model_kfoldxgb.predict(X_testkf)\n",
        "print(\"RMSE is\",np.sqrt(mean_squared_error(y_testkf,kfoldxgb))) \n",
        "print(\"R2 \",r2_score(y_testkf, kfoldxgb))\n",
        "print(\"MAE \", mean_absolute_error(y_testkf, kfoldxgb))\n",
        "print(\"MSE \",mean_squared_error(y_testkf,kfoldxgb))"
      ],
      "execution_count": 86,
      "outputs": [
        {
          "output_type": "stream",
          "text": [
            "[19:36:07] WARNING: /workspace/src/objective/regression_obj.cu:152: reg:linear is now deprecated in favor of reg:squarederror.\n",
            "[19:36:11] WARNING: /workspace/src/objective/regression_obj.cu:152: reg:linear is now deprecated in favor of reg:squarederror.\n",
            "[19:36:16] WARNING: /workspace/src/objective/regression_obj.cu:152: reg:linear is now deprecated in favor of reg:squarederror.\n",
            "[19:36:21] WARNING: /workspace/src/objective/regression_obj.cu:152: reg:linear is now deprecated in favor of reg:squarederror.\n",
            "[19:36:25] WARNING: /workspace/src/objective/regression_obj.cu:152: reg:linear is now deprecated in favor of reg:squarederror.\n",
            "Accuracy: 67.14%\n",
            "TRAIN: [    0     2     3 ... 33561 33563 33564] TEST: [    1     6     8 ... 33546 33551 33562]\n",
            "TRAIN: [    0     1     2 ... 33562 33563 33564] TEST: [    9    24    28 ... 33553 33555 33559]\n",
            "TRAIN: [    1     2     3 ... 33562 33563 33564] TEST: [    0     7    14 ... 33533 33540 33556]\n",
            "TRAIN: [    0     1     3 ... 33559 33561 33562] TEST: [    2    11    12 ... 33560 33563 33564]\n",
            "TRAIN: [    0     1     2 ... 33562 33563 33564] TEST: [    3     4     5 ... 33550 33558 33561]\n",
            "[19:36:30] WARNING: /workspace/src/objective/regression_obj.cu:152: reg:linear is now deprecated in favor of reg:squarederror.\n",
            "Residual sum of squares: 16.23\n",
            "Variance score: 0.67\n",
            "RMSE is 4.0282869361658245\n",
            "R2  0.6681136991064646\n",
            "MAE  2.2582817912572333\n",
            "MSE  16.227095640084247\n"
          ],
          "name": "stdout"
        }
      ]
    },
    {
      "cell_type": "code",
      "metadata": {
        "id": "iz9v5sOR2cBg",
        "colab_type": "code",
        "outputId": "f73b7a0c-8a07-41c8-e025-94e4cd9a8206",
        "colab": {
          "base_uri": "https://localhost:8080/",
          "height": 526
        }
      },
      "source": [
        "#kfold on xgboost\n",
        "from sklearn.model_selection import cross_val_score\n",
        "kfold = model_selection.KFold(n_splits=10, random_state=200,shuffle=True)\n",
        "model_kfoldxgb = xgbo.XGBRegressor(n_estimators=100, learning_rate=0.1)\n",
        "results_kfoldxgb = cross_val_score(model_kfoldxgb, X, Y, cv=kfold)\n",
        "print(\"Accuracy: %.2f%%\" % (results_kfoldxgb.mean()*100.0)) \n",
        "for train_index, test_index in kfold.split(X):\n",
        "    print(\"TRAIN:\", train_index, \"TEST:\", test_index)\n",
        "    X_trainkf, X_testkf = X[train_index], X[test_index]\n",
        "    y_trainkf, y_testkf = Y[train_index], Y[test_index]\n",
        "clfxgb = model_kfoldxgb.fit(X_trainkf, y_trainkf)\n",
        "print(\"Residual sum of squares: %.2f\"\n",
        "    % np.mean((model_kfoldxgb.predict(X_testkf) - y_testkf) ** 2))\n",
        "#Explained variance score: 1 is perfect prediction\n",
        "print('Variance score: %.2f' % model_kfoldxgb.score(X_testkf, y_testkf))\n",
        "kfoldxgb = model_kfoldxgb.predict(X_testkf)\n",
        "print(\"RMSE is\",np.sqrt(mean_squared_error(y_testkf,kfoldxgb))) \n",
        "print(\"R2 \",r2_score(y_testkf, kfoldxgb))\n",
        "print(\"MAE \", mean_absolute_error(y_testkf, kfoldxgb))\n",
        "print(\"MSE \",mean_squared_error(y_testkf,kfoldxgb))"
      ],
      "execution_count": 87,
      "outputs": [
        {
          "output_type": "stream",
          "text": [
            "[19:38:08] WARNING: /workspace/src/objective/regression_obj.cu:152: reg:linear is now deprecated in favor of reg:squarederror.\n",
            "[19:38:14] WARNING: /workspace/src/objective/regression_obj.cu:152: reg:linear is now deprecated in favor of reg:squarederror.\n",
            "[19:38:19] WARNING: /workspace/src/objective/regression_obj.cu:152: reg:linear is now deprecated in favor of reg:squarederror.\n",
            "[19:38:24] WARNING: /workspace/src/objective/regression_obj.cu:152: reg:linear is now deprecated in favor of reg:squarederror.\n",
            "[19:38:29] WARNING: /workspace/src/objective/regression_obj.cu:152: reg:linear is now deprecated in favor of reg:squarederror.\n",
            "[19:38:34] WARNING: /workspace/src/objective/regression_obj.cu:152: reg:linear is now deprecated in favor of reg:squarederror.\n",
            "[19:38:40] WARNING: /workspace/src/objective/regression_obj.cu:152: reg:linear is now deprecated in favor of reg:squarederror.\n",
            "[19:38:45] WARNING: /workspace/src/objective/regression_obj.cu:152: reg:linear is now deprecated in favor of reg:squarederror.\n",
            "[19:38:50] WARNING: /workspace/src/objective/regression_obj.cu:152: reg:linear is now deprecated in favor of reg:squarederror.\n",
            "[19:38:55] WARNING: /workspace/src/objective/regression_obj.cu:152: reg:linear is now deprecated in favor of reg:squarederror.\n",
            "Accuracy: 67.57%\n",
            "TRAIN: [    0     1     2 ... 33562 33563 33564] TEST: [   16    21    45 ... 33521 33537 33544]\n",
            "TRAIN: [    0     2     3 ... 33561 33563 33564] TEST: [    1     6     8 ... 33546 33551 33562]\n",
            "TRAIN: [    0     1     2 ... 33562 33563 33564] TEST: [    9    24    28 ... 33531 33553 33555]\n",
            "TRAIN: [    0     1     2 ... 33562 33563 33564] TEST: [   33    35    36 ... 33545 33552 33559]\n",
            "TRAIN: [    0     1     2 ... 33562 33563 33564] TEST: [   20    26    32 ... 33510 33523 33530]\n",
            "TRAIN: [    1     2     3 ... 33562 33563 33564] TEST: [    0     7    14 ... 33533 33540 33556]\n",
            "TRAIN: [    0     1     3 ... 33560 33561 33562] TEST: [    2    11    25 ... 33557 33563 33564]\n",
            "TRAIN: [    0     1     2 ... 33562 33563 33564] TEST: [   12    15    22 ... 33548 33554 33560]\n",
            "TRAIN: [    0     1     2 ... 33562 33563 33564] TEST: [    4    23    42 ... 33543 33547 33558]\n",
            "TRAIN: [    0     1     2 ... 33562 33563 33564] TEST: [    3     5    17 ... 33549 33550 33561]\n",
            "[19:39:00] WARNING: /workspace/src/objective/regression_obj.cu:152: reg:linear is now deprecated in favor of reg:squarederror.\n",
            "Residual sum of squares: 17.57\n",
            "Variance score: 0.67\n",
            "RMSE is 4.1911972553415096\n",
            "R2  0.6734343437344146\n",
            "MAE  2.2603972428284043\n",
            "MSE  17.5661344331822\n"
          ],
          "name": "stdout"
        }
      ]
    },
    {
      "cell_type": "code",
      "metadata": {
        "id": "gKtgTo0z2cBj",
        "colab_type": "code",
        "outputId": "4cb51fce-f56a-440d-98b1-12b2ddb41d06",
        "colab": {
          "base_uri": "https://localhost:8080/",
          "height": 890
        }
      },
      "source": [
        "#kfold on xgboost\n",
        "from sklearn.model_selection import cross_val_score\n",
        "kfold = model_selection.KFold(n_splits=20, random_state=200,shuffle=True)\n",
        "model_kfoldxgb = xgbo.XGBRegressor(n_estimators=100, learning_rate=0.1)\n",
        "results_kfoldxgb = cross_val_score(model_kfoldxgb, X, Y, cv=kfold)\n",
        "print(\"Accuracy: %.2f%%\" % (results_kfoldxgb.mean()*100.0)) \n",
        "for train_index, test_index in kfold.split(X):\n",
        "    print(\"TRAIN:\", train_index, \"TEST:\", test_index)\n",
        "    X_trainkf, X_testkf = X[train_index], X[test_index]\n",
        "    y_trainkf, y_testkf = Y[train_index], Y[test_index]\n",
        "clfxgb = model_kfoldxgb.fit(X_trainkf, y_trainkf)\n",
        "print(\"Residual sum of squares: %.2f\"\n",
        "    % np.mean((model_kfoldxgb.predict(X_testkf) - y_testkf) ** 2))\n",
        "print('Variance score: %.2f' % model_kfoldxgb.score(X_testkf, y_testkf))\n",
        "kfoldxgb = model_kfoldxgb.predict(X_testkf)\n",
        "print(\"RMSE is\",np.sqrt(mean_squared_error(y_testkf,kfoldxgb))) \n",
        "print(\"R2 \",r2_score(y_testkf, kfoldxgb))\n",
        "print(\"MAE \", mean_absolute_error(y_testkf, kfoldxgb))\n",
        "print(\"MSE \",mean_squared_error(y_testkf,kfoldxgb))"
      ],
      "execution_count": 88,
      "outputs": [
        {
          "output_type": "stream",
          "text": [
            "[19:39:36] WARNING: /workspace/src/objective/regression_obj.cu:152: reg:linear is now deprecated in favor of reg:squarederror.\n",
            "[19:39:41] WARNING: /workspace/src/objective/regression_obj.cu:152: reg:linear is now deprecated in favor of reg:squarederror.\n",
            "[19:39:47] WARNING: /workspace/src/objective/regression_obj.cu:152: reg:linear is now deprecated in favor of reg:squarederror.\n",
            "[19:39:52] WARNING: /workspace/src/objective/regression_obj.cu:152: reg:linear is now deprecated in favor of reg:squarederror.\n",
            "[19:39:57] WARNING: /workspace/src/objective/regression_obj.cu:152: reg:linear is now deprecated in favor of reg:squarederror.\n",
            "[19:40:03] WARNING: /workspace/src/objective/regression_obj.cu:152: reg:linear is now deprecated in favor of reg:squarederror.\n",
            "[19:40:08] WARNING: /workspace/src/objective/regression_obj.cu:152: reg:linear is now deprecated in favor of reg:squarederror.\n",
            "[19:40:13] WARNING: /workspace/src/objective/regression_obj.cu:152: reg:linear is now deprecated in favor of reg:squarederror.\n",
            "[19:40:19] WARNING: /workspace/src/objective/regression_obj.cu:152: reg:linear is now deprecated in favor of reg:squarederror.\n",
            "[19:40:24] WARNING: /workspace/src/objective/regression_obj.cu:152: reg:linear is now deprecated in favor of reg:squarederror.\n",
            "[19:40:29] WARNING: /workspace/src/objective/regression_obj.cu:152: reg:linear is now deprecated in favor of reg:squarederror.\n",
            "[19:40:35] WARNING: /workspace/src/objective/regression_obj.cu:152: reg:linear is now deprecated in favor of reg:squarederror.\n",
            "[19:40:40] WARNING: /workspace/src/objective/regression_obj.cu:152: reg:linear is now deprecated in favor of reg:squarederror.\n",
            "[19:40:46] WARNING: /workspace/src/objective/regression_obj.cu:152: reg:linear is now deprecated in favor of reg:squarederror.\n",
            "[19:40:51] WARNING: /workspace/src/objective/regression_obj.cu:152: reg:linear is now deprecated in favor of reg:squarederror.\n",
            "[19:40:56] WARNING: /workspace/src/objective/regression_obj.cu:152: reg:linear is now deprecated in favor of reg:squarederror.\n",
            "[19:41:02] WARNING: /workspace/src/objective/regression_obj.cu:152: reg:linear is now deprecated in favor of reg:squarederror.\n",
            "[19:41:07] WARNING: /workspace/src/objective/regression_obj.cu:152: reg:linear is now deprecated in favor of reg:squarederror.\n",
            "[19:41:12] WARNING: /workspace/src/objective/regression_obj.cu:152: reg:linear is now deprecated in favor of reg:squarederror.\n",
            "[19:41:18] WARNING: /workspace/src/objective/regression_obj.cu:152: reg:linear is now deprecated in favor of reg:squarederror.\n",
            "Accuracy: 67.19%\n",
            "TRAIN: [    0     1     2 ... 33562 33563 33564] TEST: [   16    21    45 ... 33456 33487 33544]\n",
            "TRAIN: [    0     1     2 ... 33562 33563 33564] TEST: [   46    54    62 ... 33511 33521 33537]\n",
            "TRAIN: [    0     2     3 ... 33562 33563 33564] TEST: [    1     6    10 ... 33471 33546 33551]\n",
            "TRAIN: [    0     1     2 ... 33561 33563 33564] TEST: [    8    13    19 ... 33520 33541 33562]\n",
            "TRAIN: [    0     1     2 ... 33562 33563 33564] TEST: [   24    30    31 ... 33515 33553 33555]\n",
            "TRAIN: [    0     1     2 ... 33562 33563 33564] TEST: [    9    28    29 ... 33507 33525 33531]\n",
            "TRAIN: [    0     1     2 ... 33562 33563 33564] TEST: [   36    86    87 ... 33504 33534 33552]\n",
            "TRAIN: [    0     1     2 ... 33562 33563 33564] TEST: [   33    35    75 ... 33542 33545 33559]\n",
            "TRAIN: [    0     1     2 ... 33562 33563 33564] TEST: [   20    32    55 ... 33453 33455 33510]\n",
            "TRAIN: [    0     1     2 ... 33562 33563 33564] TEST: [   26    48    65 ... 33509 33523 33530]\n",
            "TRAIN: [    1     2     3 ... 33562 33563 33564] TEST: [    0    47    58 ... 33524 33533 33540]\n",
            "TRAIN: [    0     1     2 ... 33562 33563 33564] TEST: [    7    14    34 ... 33513 33528 33556]\n",
            "TRAIN: [    0     1     2 ... 33561 33562 33564] TEST: [   11    25    27 ... 33501 33502 33563]\n",
            "TRAIN: [    0     1     3 ... 33561 33562 33563] TEST: [    2    52    60 ... 33490 33557 33564]\n",
            "TRAIN: [    0     1     2 ... 33562 33563 33564] TEST: [   12    69   106 ... 33451 33529 33554]\n",
            "TRAIN: [    0     1     2 ... 33562 33563 33564] TEST: [   15    22   105 ... 33527 33548 33560]\n",
            "TRAIN: [    0     1     2 ... 33562 33563 33564] TEST: [    4    42    56 ... 33539 33547 33558]\n",
            "TRAIN: [    0     1     2 ... 33562 33563 33564] TEST: [   23    43    59 ... 33522 33536 33543]\n",
            "TRAIN: [    0     1     2 ... 33562 33563 33564] TEST: [    3    49   151 ... 33532 33549 33561]\n",
            "TRAIN: [    0     1     2 ... 33562 33563 33564] TEST: [    5    17    18 ... 33493 33514 33550]\n",
            "[19:41:23] WARNING: /workspace/src/objective/regression_obj.cu:152: reg:linear is now deprecated in favor of reg:squarederror.\n",
            "Residual sum of squares: 17.42\n",
            "Variance score: 0.68\n",
            "RMSE is 4.173257438341258\n",
            "R2  0.6794045658330785\n",
            "MAE  2.216545565548898\n",
            "MSE  17.416077646670637\n"
          ],
          "name": "stdout"
        }
      ]
    },
    {
      "cell_type": "code",
      "metadata": {
        "id": "_NXnpGi52cBl",
        "colab_type": "code",
        "outputId": "040bb8c9-a684-4733-e634-6be459021f2f",
        "colab": {
          "base_uri": "https://localhost:8080/",
          "height": 1000
        }
      },
      "source": [
        "#kfold on xgboost\n",
        "from sklearn.model_selection import cross_val_score\n",
        "kfold = model_selection.KFold(n_splits=30, random_state=200,shuffle=True)\n",
        "model_kfoldxgb = xgbo.XGBRegressor(n_estimators=100, learning_rate=0.1)\n",
        "results_kfoldxgb = cross_val_score(model_kfoldxgb, X, Y, cv=kfold)\n",
        "print(\"Accuracy: %.2f%%\" % (results_kfoldxgb.mean()*100.0)) \n",
        "for train_index, test_index in kfold.split(X):\n",
        "    print(\"TRAIN:\", train_index, \"TEST:\", test_index)\n",
        "    X_trainkf, X_testkf = X[train_index], X[test_index]\n",
        "    y_trainkf, y_testkf = Y[train_index], Y[test_index]\n",
        "clfxgb = model_kfoldxgb.fit(X_trainkf, y_trainkf)\n",
        "print(\"Residual sum of squares: %.2f\"\n",
        "    % np.mean((model_kfoldxgb.predict(X_testkf) - y_testkf) ** 2))\n",
        "#Explained variance score: 1 is perfect prediction\n",
        "print('Variance score: %.2f' % model_kfoldxgb.score(X_testkf, y_testkf))\n",
        "kfoldxgb = model_kfoldxgb.predict(X_testkf)\n",
        "print(\"RMSE is\",np.sqrt(mean_squared_error(y_testkf,kfoldxgb))) \n",
        "print(\"R2 \",r2_score(y_testkf, kfoldxgb))\n",
        "print(\"MAE \", mean_absolute_error(y_testkf, kfoldxgb))\n",
        "print(\"MSE \",mean_squared_error(y_testkf,kfoldxgb))"
      ],
      "execution_count": 0,
      "outputs": [
        {
          "output_type": "stream",
          "text": [
            "[20:20:27] WARNING: /workspace/src/objective/regression_obj.cu:152: reg:linear is now deprecated in favor of reg:squarederror.\n",
            "[20:20:33] WARNING: /workspace/src/objective/regression_obj.cu:152: reg:linear is now deprecated in favor of reg:squarederror.\n",
            "[20:20:38] WARNING: /workspace/src/objective/regression_obj.cu:152: reg:linear is now deprecated in favor of reg:squarederror.\n",
            "[20:20:44] WARNING: /workspace/src/objective/regression_obj.cu:152: reg:linear is now deprecated in favor of reg:squarederror.\n",
            "[20:20:50] WARNING: /workspace/src/objective/regression_obj.cu:152: reg:linear is now deprecated in favor of reg:squarederror.\n",
            "[20:20:56] WARNING: /workspace/src/objective/regression_obj.cu:152: reg:linear is now deprecated in favor of reg:squarederror.\n",
            "[20:21:02] WARNING: /workspace/src/objective/regression_obj.cu:152: reg:linear is now deprecated in favor of reg:squarederror.\n",
            "[20:21:08] WARNING: /workspace/src/objective/regression_obj.cu:152: reg:linear is now deprecated in favor of reg:squarederror.\n",
            "[20:21:14] WARNING: /workspace/src/objective/regression_obj.cu:152: reg:linear is now deprecated in favor of reg:squarederror.\n",
            "[20:21:19] WARNING: /workspace/src/objective/regression_obj.cu:152: reg:linear is now deprecated in favor of reg:squarederror.\n",
            "[20:21:25] WARNING: /workspace/src/objective/regression_obj.cu:152: reg:linear is now deprecated in favor of reg:squarederror.\n",
            "[20:21:31] WARNING: /workspace/src/objective/regression_obj.cu:152: reg:linear is now deprecated in favor of reg:squarederror.\n",
            "[20:21:37] WARNING: /workspace/src/objective/regression_obj.cu:152: reg:linear is now deprecated in favor of reg:squarederror.\n",
            "[20:21:43] WARNING: /workspace/src/objective/regression_obj.cu:152: reg:linear is now deprecated in favor of reg:squarederror.\n",
            "[20:21:49] WARNING: /workspace/src/objective/regression_obj.cu:152: reg:linear is now deprecated in favor of reg:squarederror.\n",
            "[20:21:54] WARNING: /workspace/src/objective/regression_obj.cu:152: reg:linear is now deprecated in favor of reg:squarederror.\n",
            "[20:22:00] WARNING: /workspace/src/objective/regression_obj.cu:152: reg:linear is now deprecated in favor of reg:squarederror.\n",
            "[20:22:06] WARNING: /workspace/src/objective/regression_obj.cu:152: reg:linear is now deprecated in favor of reg:squarederror.\n",
            "[20:22:12] WARNING: /workspace/src/objective/regression_obj.cu:152: reg:linear is now deprecated in favor of reg:squarederror.\n",
            "[20:22:18] WARNING: /workspace/src/objective/regression_obj.cu:152: reg:linear is now deprecated in favor of reg:squarederror.\n",
            "[20:22:23] WARNING: /workspace/src/objective/regression_obj.cu:152: reg:linear is now deprecated in favor of reg:squarederror.\n",
            "[20:22:29] WARNING: /workspace/src/objective/regression_obj.cu:152: reg:linear is now deprecated in favor of reg:squarederror.\n",
            "[20:22:35] WARNING: /workspace/src/objective/regression_obj.cu:152: reg:linear is now deprecated in favor of reg:squarederror.\n",
            "[20:22:41] WARNING: /workspace/src/objective/regression_obj.cu:152: reg:linear is now deprecated in favor of reg:squarederror.\n",
            "[20:22:47] WARNING: /workspace/src/objective/regression_obj.cu:152: reg:linear is now deprecated in favor of reg:squarederror.\n",
            "[20:22:53] WARNING: /workspace/src/objective/regression_obj.cu:152: reg:linear is now deprecated in favor of reg:squarederror.\n",
            "[20:22:58] WARNING: /workspace/src/objective/regression_obj.cu:152: reg:linear is now deprecated in favor of reg:squarederror.\n",
            "[20:23:04] WARNING: /workspace/src/objective/regression_obj.cu:152: reg:linear is now deprecated in favor of reg:squarederror.\n",
            "[20:23:10] WARNING: /workspace/src/objective/regression_obj.cu:152: reg:linear is now deprecated in favor of reg:squarederror.\n",
            "[20:23:16] WARNING: /workspace/src/objective/regression_obj.cu:152: reg:linear is now deprecated in favor of reg:squarederror.\n",
            "Accuracy: 67.58%\n",
            "TRAIN: [    0     1     2 ... 33562 33563 33564] TEST: [   16    21    84 ... 33431 33456 33487]\n",
            "TRAIN: [    0     1     2 ... 33562 33563 33564] TEST: [   45    46    90 ... 33445 33521 33544]\n",
            "TRAIN: [    0     1     2 ... 33562 33563 33564] TEST: [   54    62   121 ... 33473 33511 33537]\n",
            "TRAIN: [    0     2     3 ... 33562 33563 33564] TEST: [    1     6    10 ... 33471 33546 33551]\n",
            "TRAIN: [    0     1     2 ... 33562 33563 33564] TEST: [   13    19    53 ... 33484 33491 33541]\n",
            "TRAIN: [    0     1     2 ... 33561 33563 33564] TEST: [    8    95   120 ... 33518 33520 33562]\n",
            "TRAIN: [    0     1     2 ... 33562 33563 33564] TEST: [   31    64    97 ... 33515 33553 33555]\n",
            "TRAIN: [    0     1     2 ... 33562 33563 33564] TEST: [   24    29    30 ... 33500 33503 33507]\n",
            "TRAIN: [    0     1     2 ... 33562 33563 33564] TEST: [    9    28    89 ... 33489 33525 33531]\n",
            "TRAIN: [    0     1     2 ... 33562 33563 33564] TEST: [   86    87   156 ... 33504 33534 33552]\n",
            "TRAIN: [    0     1     2 ... 33562 33563 33564] TEST: [   36   119   125 ... 33426 33432 33559]\n",
            "TRAIN: [    0     1     2 ... 33562 33563 33564] TEST: [   33    35    75 ... 33538 33542 33545]\n",
            "TRAIN: [    0     1     2 ... 33562 33563 33564] TEST: [   20    32    55 ... 33384 33455 33510]\n",
            "TRAIN: [    0     1     2 ... 33562 33563 33564] TEST: [   26    65    66 ... 33443 33453 33499]\n",
            "TRAIN: [    0     1     2 ... 33562 33563 33564] TEST: [   48    78    81 ... 33509 33523 33530]\n",
            "TRAIN: [    0     1     2 ... 33562 33563 33564] TEST: [   58    67    72 ... 33524 33533 33540]\n",
            "TRAIN: [    1     2     3 ... 33562 33563 33564] TEST: [    0    38    39 ... 33478 33488 33528]\n",
            "TRAIN: [    0     1     2 ... 33562 33563 33564] TEST: [    7    14    34 ... 33469 33513 33556]\n",
            "TRAIN: [    0     1     2 ... 33562 33563 33564] TEST: [   25    27    70 ... 33459 33483 33502]\n",
            "TRAIN: [    0     1     2 ... 33561 33562 33564] TEST: [   11    61    74 ... 33490 33501 33563]\n",
            "TRAIN: [    0     1     3 ... 33561 33562 33563] TEST: [    2    52    60 ... 33474 33557 33564]\n",
            "TRAIN: [    0     1     2 ... 33562 33563 33564] TEST: [   12    69   106 ... 33451 33529 33554]\n",
            "TRAIN: [    0     1     2 ... 33562 33563 33564] TEST: [  116   192   193 ... 33429 33430 33560]\n",
            "TRAIN: [    0     1     2 ... 33562 33563 33564] TEST: [   15    22   105 ... 33516 33527 33548]\n",
            "TRAIN: [    0     1     2 ... 33562 33563 33564] TEST: [    4    56    71 ... 33526 33539 33558]\n",
            "TRAIN: [    0     1     2 ... 33562 33563 33564] TEST: [   42    59   102 ... 33536 33543 33547]\n",
            "TRAIN: [    0     1     2 ... 33562 33563 33564] TEST: [   23    43    63 ... 33495 33505 33522]\n",
            "TRAIN: [    0     1     2 ... 33562 33563 33564] TEST: [    3    49   151 ... 33388 33418 33532]\n",
            "TRAIN: [    0     1     2 ... 33562 33563 33564] TEST: [    5    40    96 ... 33514 33549 33561]\n",
            "TRAIN: [    0     1     2 ... 33562 33563 33564] TEST: [   17    18    37 ... 33454 33493 33550]\n",
            "[20:23:22] WARNING: /workspace/src/objective/regression_obj.cu:152: reg:linear is now deprecated in favor of reg:squarederror.\n",
            "Residual sum of squares: 19.14\n",
            "Variance score: 0.64\n",
            "RMSE is 4.375374058058268\n",
            "R2  0.6440050601837508\n",
            "MAE  2.222652922589365\n",
            "MSE  19.143898147929278\n"
          ],
          "name": "stdout"
        }
      ]
    },
    {
      "cell_type": "code",
      "metadata": {
        "id": "fRbfM9X-2cBo",
        "colab_type": "code",
        "outputId": "310b8ea2-e2aa-4315-f342-90af883e185b",
        "colab": {
          "base_uri": "https://localhost:8080/",
          "height": 54
        }
      },
      "source": [
        "#Hyper parameters for Random Forest\n",
        "from sklearn.model_selection import RandomizedSearchCV\n",
        "# Number of trees in random forest\n",
        "n_estimators = [int(x) for x in np.linspace(start = 10, stop = 500, num = 5)]\n",
        "# Number of features to consider at every split\n",
        "max_features = ['auto', 'sqrt']\n",
        "# Maximum number of levels in tree\n",
        "max_depth = [int(x) for x in np.linspace(10, 50, num = 5)]\n",
        "max_depth.append(None)\n",
        "# Minimum number of samples required to split a node\n",
        "min_samples_split = [2, 5, 10]\n",
        "# Minimum number of samples required at each leaf node\n",
        "min_samples_leaf = [1, 2, 4]\n",
        "# Method of selecting samples for training each tree\n",
        "bootstrap = [True, False]\n",
        "# Create the random grid\n",
        "random_grid = {'n_estimators': n_estimators,\n",
        "               'max_features': max_features,\n",
        "               'max_depth': max_depth,\n",
        "               'min_samples_split': min_samples_split,\n",
        "               'min_samples_leaf': min_samples_leaf,\n",
        "               'bootstrap': bootstrap}\n",
        "print(random_grid)\n",
        "#{'n_estimators': [10, 132, 255, 377, 500], 'max_features': ['auto', 'sqrt'], 'max_depth': [10, 20, 30, 40, 50, None], 'min_samples_split': [2, 5, 10], 'min_samples_leaf': [1, 2, 4], 'bootstrap': [True, False]}\n",
        "#https://towardsdatascience.com/hyperparameter-tuning-the-random-forest-in-python-using-scikit-learn-28d2aa77dd74"
      ],
      "execution_count": 0,
      "outputs": [
        {
          "output_type": "stream",
          "text": [
            "{'n_estimators': [10, 132, 255, 377, 500], 'max_features': ['auto', 'sqrt'], 'max_depth': [10, 20, 30, 40, 50, None], 'min_samples_split': [2, 5, 10], 'min_samples_leaf': [1, 2, 4], 'bootstrap': [True, False]}\n"
          ],
          "name": "stdout"
        }
      ]
    },
    {
      "cell_type": "code",
      "metadata": {
        "id": "jTR5ovE72cBp",
        "colab_type": "code",
        "outputId": "a4477823-f140-4d9e-9690-732535b92ca7",
        "colab": {
          "base_uri": "https://localhost:8080/",
          "height": 141
        }
      },
      "source": [
        "# Use the random grid to search for best hyperparameters\n",
        "# First create the base model to tune\n",
        "import datetime\n",
        "print(datetime.datetime.now())\n",
        "rf = RandomForestRegressor()\n",
        "# Random search of parameters, using 10 fold cross validation, \n",
        "# search across 1000 different combinations, and use all available cores\n",
        "rf_random = RandomizedSearchCV(estimator = rf, param_distributions = random_grid, n_iter = 100, cv = 3, verbose=2, random_state=20, n_jobs = -1)\n",
        "# Fit the random search model\n",
        "rf_random.fit(X_train, Y_train)\n",
        "\n",
        "print(datetime.datetime.now())"
      ],
      "execution_count": 0,
      "outputs": [
        {
          "output_type": "stream",
          "text": [
            "2019-12-07 19:31:41.518156\n",
            "Fitting 3 folds for each of 100 candidates, totalling 300 fits\n"
          ],
          "name": "stdout"
        },
        {
          "output_type": "stream",
          "text": [
            "[Parallel(n_jobs=-1)]: Using backend LokyBackend with 2 concurrent workers.\n",
            "[Parallel(n_jobs=-1)]: Done  37 tasks      | elapsed:  6.1min\n",
            "[Parallel(n_jobs=-1)]: Done 158 tasks      | elapsed: 32.7min\n",
            "[Parallel(n_jobs=-1)]: Done 300 out of 300 | elapsed: 74.0min finished\n"
          ],
          "name": "stderr"
        },
        {
          "output_type": "stream",
          "text": [
            "2019-12-07 20:46:34.280382\n"
          ],
          "name": "stdout"
        }
      ]
    },
    {
      "cell_type": "markdown",
      "metadata": {
        "id": "e9UTMjj2Zf9s",
        "colab_type": "text"
      },
      "source": [
        "2019-12-07 19:31:41.518156\n",
        "Fitting 3 folds for each of 100 candidates, totalling 300 fits\n",
        "[Parallel(n_jobs=-1)]: Using backend LokyBackend with 2 concurrent workers.\n",
        "[Parallel(n_jobs=-1)]: Done  37 tasks      | elapsed:  6.1min\n",
        "[Parallel(n_jobs=-1)]: Done 158 tasks      | elapsed: 32.7min\n",
        "[Parallel(n_jobs=-1)]: Done 300 out of 300 | elapsed: 74.0min finished\n",
        "2019-12-07 20:46:34.280382\n"
      ]
    },
    {
      "cell_type": "code",
      "metadata": {
        "id": "roqWg-Eg2cBx",
        "colab_type": "code",
        "outputId": "eea7e564-ff27-4c35-dae8-2b29d6b69f4e",
        "colab": {
          "base_uri": "https://localhost:8080/",
          "height": 123
        }
      },
      "source": [
        "rf_random.best_params_\n",
        "#'bootstrap': True,\n",
        "#'max_depth': 50,\n",
        "#'max_features': 'auto',\n",
        "#'min_samples_leaf': 4,\n",
        "#'min_samples_split': 5,\n",
        "#'n_estimators': 377}"
      ],
      "execution_count": 0,
      "outputs": [
        {
          "output_type": "execute_result",
          "data": {
            "text/plain": [
              "{'bootstrap': True,\n",
              " 'max_depth': 50,\n",
              " 'max_features': 'auto',\n",
              " 'min_samples_leaf': 4,\n",
              " 'min_samples_split': 5,\n",
              " 'n_estimators': 377}"
            ]
          },
          "metadata": {
            "tags": []
          },
          "execution_count": 40
        }
      ]
    },
    {
      "cell_type": "code",
      "metadata": {
        "id": "v27xIKtWsU6c",
        "colab_type": "code",
        "outputId": "0aec57b5-069e-4641-844f-1a2bbabcc051",
        "colab": {
          "base_uri": "https://localhost:8080/",
          "height": 141
        }
      },
      "source": [
        "tuned_model = RandomForestRegressor(bootstrap= True,\n",
        " max_depth= 50,\n",
        " max_features= 'auto',\n",
        " min_samples_leaf= 4,\n",
        " min_samples_split= 5,\n",
        " n_estimators= 377, random_state = 20,n_jobs=-1)\n",
        "tuned_model.fit(X_train, Y_train)"
      ],
      "execution_count": 0,
      "outputs": [
        {
          "output_type": "execute_result",
          "data": {
            "text/plain": [
              "RandomForestRegressor(bootstrap=True, criterion='mse', max_depth=50,\n",
              "                      max_features='auto', max_leaf_nodes=None,\n",
              "                      min_impurity_decrease=0.0, min_impurity_split=None,\n",
              "                      min_samples_leaf=4, min_samples_split=5,\n",
              "                      min_weight_fraction_leaf=0.0, n_estimators=377, n_jobs=-1,\n",
              "                      oob_score=False, random_state=20, verbose=0,\n",
              "                      warm_start=False)"
            ]
          },
          "metadata": {
            "tags": []
          },
          "execution_count": 26
        }
      ]
    },
    {
      "cell_type": "code",
      "metadata": {
        "id": "0iv62BgZvr51",
        "colab_type": "code",
        "outputId": "6af7aeb2-5750-4ba6-e054-3ed5e2406ba2",
        "colab": {
          "base_uri": "https://localhost:8080/",
          "height": 105
        }
      },
      "source": [
        "trainac = tuned_model.predict(X_train)\n",
        "print(\"Train accuracy details on the tuned of Random Forest\")\n",
        "print(\"RMSE is\",np.sqrt(mean_squared_error(Y_train,trainac))) \n",
        "print(\"R2 \",r2_score(Y_train, trainac))\n",
        "print(\"MAE \", mean_absolute_error(Y_train, trainac))\n",
        "print(\"MSE \",mean_squared_error(Y_train,trainac))"
      ],
      "execution_count": 0,
      "outputs": [
        {
          "output_type": "stream",
          "text": [
            "Train accuracy details on the tuned of Random Forest\n",
            "RMSE is 1.8780983922507553\n",
            "R2  0.9219464193475598\n",
            "MAE  1.1070530050366831\n",
            "MSE  3.5272535709748714\n"
          ],
          "name": "stdout"
        }
      ]
    },
    {
      "cell_type": "code",
      "metadata": {
        "id": "JjqAv9U6sq_r",
        "colab_type": "code",
        "outputId": "f8656b99-b80a-461a-ef17-d1837edc6d39",
        "colab": {
          "base_uri": "https://localhost:8080/",
          "height": 87
        }
      },
      "source": [
        "y_pred = tuned_model.predict(X_test)\n",
        "# View The Accuracy Of best features (86 Features) Model with tuned parameters\n",
        "tuned_model.score(X_test,Y_test)\n",
        "print(\"RMSE is\",np.sqrt(mean_squared_error(Y_test,y_pred))) \n",
        "print(\"R2 \",r2_score(Y_test, y_pred))\n",
        "print(\"MAE \", mean_absolute_error(Y_test, y_pred))\n",
        "print(\"MSE \",mean_squared_error(Y_test,y_pred))"
      ],
      "execution_count": 0,
      "outputs": [
        {
          "output_type": "stream",
          "text": [
            "RMSE is 2.83173523418538\n",
            "R2  0.8550054826232595\n",
            "MAE  1.6438805638187284\n",
            "MSE  8.018724436526929\n"
          ],
          "name": "stdout"
        }
      ]
    },
    {
      "cell_type": "code",
      "metadata": {
        "id": "zmTB3kRqs6xP",
        "colab_type": "code",
        "outputId": "16ae9081-8d0a-4e05-c64a-7a5478f17292",
        "colab": {
          "base_uri": "https://localhost:8080/",
          "height": 318
        }
      },
      "source": [
        "#Apply tuned parameters on 10 fold split data \n",
        "#Random Forest\n",
        "kfold = model_selection.KFold(n_splits=10, random_state=200,shuffle=True)\n",
        "model_kfoldrand = RandomForestRegressor(bootstrap= True,\n",
        " max_depth= 50,\n",
        " max_features= 'auto',\n",
        " min_samples_leaf=4,\n",
        " min_samples_split= 5,\n",
        " n_estimators= 377, random_state = 20,n_jobs=-1)\n",
        "results_kfoldrand = model_selection.cross_val_score(model_kfoldrand, X, Y, cv=kfold)\n",
        "print(\"Accuracy: %.2f%%\" % (results_kfoldrand.mean()*100.0)) \n",
        "for train_index, test_index in kfold.split(X):\n",
        "    print(\"TRAIN:\", train_index, \"TEST:\", test_index)\n",
        "    X_trainkf, X_testkf = X[train_index], X[test_index]\n",
        "    y_trainkf, y_testkf = Y[train_index], Y[test_index]\n",
        "clfrf = model_kfoldrand.fit(X_trainkf, y_trainkf)\n",
        "#print('Coefficients: \\n', model_kfoldreg.coef_)\n",
        "print(\"Residual sum of squares: %.2f\"\n",
        "    % np.mean((model_kfoldrand.predict(X_testkf) - y_testkf) ** 2))\n",
        "#Explained variance score: 1 is perfect prediction\n",
        "print('Explained Variance score: %.2f' % model_kfoldrand.score(X_testkf, y_testkf))\n",
        "kfoldrf = model_kfoldrand.predict(X_testkf)\n",
        "print(\"RMSE is\",np.sqrt(mean_squared_error(y_testkf,kfoldrf))) \n",
        "print(\"R2 \",r2_score(y_testkf, kfoldrf))\n",
        "print(\"MAE \", mean_absolute_error(y_testkf, kfoldrf))\n",
        "print(\"MSE \",mean_squared_error(y_testkf,kfoldrf))"
      ],
      "execution_count": 0,
      "outputs": [
        {
          "output_type": "stream",
          "text": [
            "Accuracy: 85.03%\n",
            "TRAIN: [    0     1     2 ... 33562 33563 33564] TEST: [   16    21    45 ... 33521 33537 33544]\n",
            "TRAIN: [    0     2     3 ... 33561 33563 33564] TEST: [    1     6     8 ... 33546 33551 33562]\n",
            "TRAIN: [    0     1     2 ... 33562 33563 33564] TEST: [    9    24    28 ... 33531 33553 33555]\n",
            "TRAIN: [    0     1     2 ... 33562 33563 33564] TEST: [   33    35    36 ... 33545 33552 33559]\n",
            "TRAIN: [    0     1     2 ... 33562 33563 33564] TEST: [   20    26    32 ... 33510 33523 33530]\n",
            "TRAIN: [    1     2     3 ... 33562 33563 33564] TEST: [    0     7    14 ... 33533 33540 33556]\n",
            "TRAIN: [    0     1     3 ... 33560 33561 33562] TEST: [    2    11    25 ... 33557 33563 33564]\n",
            "TRAIN: [    0     1     2 ... 33562 33563 33564] TEST: [   12    15    22 ... 33548 33554 33560]\n",
            "TRAIN: [    0     1     2 ... 33562 33563 33564] TEST: [    4    23    42 ... 33543 33547 33558]\n",
            "TRAIN: [    0     1     2 ... 33562 33563 33564] TEST: [    3     5    17 ... 33549 33550 33561]\n",
            "Residual sum of squares: 7.07\n",
            "Explained Variance score: 0.87\n",
            "RMSE is 2.659213707180281\n",
            "R2  0.8685378323494658\n",
            "MAE  1.6180198311067675\n",
            "MSE  7.071417540455492\n"
          ],
          "name": "stdout"
        }
      ]
    },
    {
      "cell_type": "code",
      "metadata": {
        "id": "7-Pqnm-VaKZE",
        "colab_type": "code",
        "outputId": "1da1b94c-9475-4375-fee0-251cca4bc3f1",
        "colab": {
          "base_uri": "https://localhost:8080/",
          "height": 105
        }
      },
      "source": [
        "trainac = model_kfoldrand.predict(X_trainkf)\n",
        "print(\"Train accuracy details on the tuned - 10 fold model of Random Forest\")\n",
        "print(\"RMSE is\",np.sqrt(mean_squared_error(y_trainkf,trainac))) \n",
        "print(\"R2 \",r2_score(y_trainkf, trainac))\n",
        "print(\"MAE \", mean_absolute_error(y_trainkf, trainac))\n",
        "print(\"MSE \",mean_squared_error(y_trainkf,trainac))"
      ],
      "execution_count": 0,
      "outputs": [
        {
          "output_type": "stream",
          "text": [
            "Train accuracy details on the tuned - 10 fold model of Random Forest\n",
            "RMSE is 1.893709628198723\n",
            "R2  0.9228568143850592\n",
            "MAE  1.1131282834689484\n",
            "MSE  3.5861361559325458\n"
          ],
          "name": "stdout"
        }
      ]
    },
    {
      "cell_type": "code",
      "metadata": {
        "id": "bmUCC71e2cBy",
        "colab_type": "code",
        "colab": {}
      },
      "source": [
        "#Hyper parameters for XGBoost"
      ],
      "execution_count": 0,
      "outputs": []
    },
    {
      "cell_type": "code",
      "metadata": {
        "id": "F3h3fGvQ2cBz",
        "colab_type": "code",
        "colab": {}
      },
      "source": [
        "# A parameter grid for XGBoost\n",
        "params = {\n",
        "        'learning_rate':[0.02,0.05,0.08,0.10],\n",
        "        'n_estimators':[20,50,100,150,200],\n",
        "        'min_child_weight': [1, 5, 10],\n",
        "        'gamma': [0,0.5, 1, 1.5, 2],\n",
        "        'subsample': [0.6, 0.75 ,0.8, 1.0],\n",
        "        'colsample_bytree': [0.6, 0.8, 1.0],\n",
        "        'max_depth': [3, 4, 5,7,8]\n",
        "        }\n",
        "xgb = xgbo.XGBRegressor()"
      ],
      "execution_count": 0,
      "outputs": []
    },
    {
      "cell_type": "code",
      "metadata": {
        "id": "GUE4XCXt2cB1",
        "colab_type": "code",
        "outputId": "d8567b78-0024-4e69-d9eb-e34ae0da0f67",
        "colab": {
          "base_uri": "https://localhost:8080/",
          "height": 212
        }
      },
      "source": [
        "xgbkf = model_selection.KFold(n_splits=10, random_state=200,shuffle=True)\n",
        "random_search = RandomizedSearchCV(xgb, param_distributions=params, n_iter=100, n_jobs=-1, cv=xgbkf.split(X,Y), verbose=3, random_state=20)\n",
        "\n",
        "print(datetime.datetime.now())\n",
        "random_search.fit(X, Y)\n",
        "print(datetime.datetime.now())"
      ],
      "execution_count": 0,
      "outputs": [
        {
          "output_type": "stream",
          "text": [
            "2019-12-06 22:31:13.759389\n",
            "Fitting 10 folds for each of 100 candidates, totalling 1000 fits\n"
          ],
          "name": "stdout"
        },
        {
          "output_type": "stream",
          "text": [
            "[Parallel(n_jobs=-1)]: Using backend LokyBackend with 2 concurrent workers.\n",
            "[Parallel(n_jobs=-1)]: Done  28 tasks      | elapsed:  2.5min\n",
            "[Parallel(n_jobs=-1)]: Done 124 tasks      | elapsed:  9.5min\n",
            "[Parallel(n_jobs=-1)]: Done 284 tasks      | elapsed: 32.2min\n",
            "[Parallel(n_jobs=-1)]: Done 508 tasks      | elapsed: 53.5min\n",
            "[Parallel(n_jobs=-1)]: Done 796 tasks      | elapsed: 82.8min\n",
            "[Parallel(n_jobs=-1)]: Done 1000 out of 1000 | elapsed: 113.6min finished\n"
          ],
          "name": "stderr"
        },
        {
          "output_type": "stream",
          "text": [
            "[00:24:49] WARNING: /workspace/src/objective/regression_obj.cu:152: reg:linear is now deprecated in favor of reg:squarederror.\n",
            "2019-12-07 00:25:26.363527\n"
          ],
          "name": "stdout"
        }
      ]
    },
    {
      "cell_type": "markdown",
      "metadata": {
        "id": "yprCsgOiZnHU",
        "colab_type": "text"
      },
      "source": [
        "2019-12-06 22:31:13.759389\n",
        "Fitting 10 folds for each of 100 candidates, totalling 1000 fits\n",
        "[Parallel(n_jobs=-1)]: Using backend LokyBackend with 2 concurrent workers.\n",
        "[Parallel(n_jobs=-1)]: Done  28 tasks      | elapsed:  2.5min\n",
        "[Parallel(n_jobs=-1)]: Done 124 tasks      | elapsed:  9.5min\n",
        "[Parallel(n_jobs=-1)]: Done 284 tasks      | elapsed: 32.2min\n",
        "[Parallel(n_jobs=-1)]: Done 508 tasks      | elapsed: 53.5min\n",
        "[Parallel(n_jobs=-1)]: Done 796 tasks      | elapsed: 82.8min\n",
        "[Parallel(n_jobs=-1)]: Done 1000 out of 1000 | elapsed: 113.6min finished\n",
        "[00:24:49] WARNING: /workspace/src/objective/regression_obj.cu:152: reg:linear is now deprecated in favor of reg:squarederror.\n",
        "2019-12-07 00:25:26.363527"
      ]
    },
    {
      "cell_type": "code",
      "metadata": {
        "id": "0mhnrJGuFFIc",
        "colab_type": "code",
        "outputId": "30f392ff-fc3d-41d6-c71c-d956085bc20b",
        "colab": {
          "base_uri": "https://localhost:8080/",
          "height": 141
        }
      },
      "source": [
        "random_search.best_params_\n",
        "#{'colsample_bytree': 1.0,\n",
        "# 'gamma': 1.5,\n",
        "# 'learning_rate': 0.05,\n",
        "# 'max_depth': 8,\n",
        "# 'min_child_weight': 10,\n",
        "# 'n_estimators': 200,\n",
        "# 'subsample': 0.75}"
      ],
      "execution_count": 0,
      "outputs": [
        {
          "output_type": "execute_result",
          "data": {
            "text/plain": [
              "{'colsample_bytree': 1.0,\n",
              " 'gamma': 1.5,\n",
              " 'learning_rate': 0.05,\n",
              " 'max_depth': 8,\n",
              " 'min_child_weight': 10,\n",
              " 'n_estimators': 200,\n",
              " 'subsample': 0.75}"
            ]
          },
          "metadata": {
            "tags": []
          },
          "execution_count": 133
        }
      ]
    },
    {
      "cell_type": "code",
      "metadata": {
        "id": "JbgvaG-OGEJv",
        "colab_type": "code",
        "outputId": "4be00613-b2f4-4830-bc79-0fd0ed648bfb",
        "colab": {
          "base_uri": "https://localhost:8080/",
          "height": 158
        }
      },
      "source": [
        "#Tuned model for XGB\n",
        "tuned_modelxgb = xgbo.XGBRegressor(bootstrap= True,\n",
        " colsample_bytree= 1.0,\n",
        " gamma= 1.5,\n",
        " learning_rate= 0.05,\n",
        " max_depth= 8,\n",
        " min_child_weight= 10,\n",
        " n_estimators = 200,\n",
        " subsample= 0.75, random_state = 20,n_jobs=-1)\n",
        "tuned_modelxgb.fit(X_train, Y_train)"
      ],
      "execution_count": 0,
      "outputs": [
        {
          "output_type": "stream",
          "text": [
            "[09:15:46] WARNING: /workspace/src/objective/regression_obj.cu:152: reg:linear is now deprecated in favor of reg:squarederror.\n"
          ],
          "name": "stdout"
        },
        {
          "output_type": "execute_result",
          "data": {
            "text/plain": [
              "XGBRegressor(base_score=0.5, booster='gbtree', bootstrap=True,\n",
              "             colsample_bylevel=1, colsample_bynode=1, colsample_bytree=1.0,\n",
              "             gamma=1.5, importance_type='gain', learning_rate=0.05,\n",
              "             max_delta_step=0, max_depth=8, min_child_weight=10, missing=None,\n",
              "             n_estimators=200, n_jobs=-1, nthread=None, objective='reg:linear',\n",
              "             random_state=20, reg_alpha=0, reg_lambda=1, scale_pos_weight=1,\n",
              "             seed=None, silent=None, subsample=0.75, verbosity=1)"
            ]
          },
          "metadata": {
            "tags": []
          },
          "execution_count": 32
        }
      ]
    },
    {
      "cell_type": "code",
      "metadata": {
        "id": "0nVJW-8Oye2d",
        "colab_type": "code",
        "outputId": "3ad96bcf-1d26-4982-edfd-bc30cf4fba78",
        "colab": {
          "base_uri": "https://localhost:8080/",
          "height": 105
        }
      },
      "source": [
        "trainac = tuned_modelxgb.predict(X_train)\n",
        "print(\"Train accuracy details on the tuned - XGBoost\")\n",
        "print(\"RMSE is\",np.sqrt(mean_squared_error(Y_train,trainac))) \n",
        "print(\"R2 \",r2_score(Y_train, trainac))\n",
        "print(\"MAE \", mean_absolute_error(Y_train, trainac))\n",
        "print(\"MSE \",mean_squared_error(Y_train,trainac))"
      ],
      "execution_count": 0,
      "outputs": [
        {
          "output_type": "stream",
          "text": [
            "Train accuracy details on the tuned - XGBoost\n",
            "RMSE is 1.9932334055963115\n",
            "R2  0.9120830803611312\n",
            "MAE  1.2780173285945453\n",
            "MSE  3.97297940918507\n"
          ],
          "name": "stdout"
        }
      ]
    },
    {
      "cell_type": "code",
      "metadata": {
        "id": "hBJMrvRVHCLe",
        "colab_type": "code",
        "outputId": "7a05f59a-d416-424a-b010-82de7b7763ec",
        "colab": {
          "base_uri": "https://localhost:8080/",
          "height": 34
        }
      },
      "source": [
        "y_pred = tuned_modelxgb.predict(X_test)\n",
        "# View The Accuracy Of best features (86 Features) Model with tuned parameters\n",
        "tuned_modelxgb.score(X_test,Y_test)"
      ],
      "execution_count": 0,
      "outputs": [
        {
          "output_type": "execute_result",
          "data": {
            "text/plain": [
              "0.8646380985030335"
            ]
          },
          "metadata": {
            "tags": []
          },
          "execution_count": 34
        }
      ]
    },
    {
      "cell_type": "code",
      "metadata": {
        "id": "Tl9y5fjgGxOb",
        "colab_type": "code",
        "outputId": "9d486943-f0aa-45b5-de51-fe6764039aab",
        "colab": {
          "base_uri": "https://localhost:8080/",
          "height": 87
        }
      },
      "source": [
        "print(\"RMSE is\",np.sqrt(mean_squared_error(Y_test,y_pred))) \n",
        "print(\"R2 \",r2_score(Y_test, y_pred))\n",
        "print(\"MAE \", mean_absolute_error(Y_test, y_pred))\n",
        "print(\"MSE \",mean_squared_error(Y_test,y_pred))"
      ],
      "execution_count": 0,
      "outputs": [
        {
          "output_type": "stream",
          "text": [
            "RMSE is 2.736056601372569\n",
            "R2  0.8646380985030335\n",
            "MAE  1.6101232169105277\n",
            "MSE  7.4860057259144135\n"
          ],
          "name": "stdout"
        }
      ]
    },
    {
      "cell_type": "code",
      "metadata": {
        "id": "JGvv2PfXGfFu",
        "colab_type": "code",
        "outputId": "86e8af14-5423-4d91-f676-3015d8ea4a03",
        "colab": {
          "base_uri": "https://localhost:8080/",
          "height": 514
        }
      },
      "source": [
        "#kfold on xgboost tuned\n",
        "from sklearn.model_selection import cross_val_score\n",
        "kfold = model_selection.KFold(n_splits=10, random_state=200,shuffle=True)\n",
        "model_kfoldxgb = xgbo.XGBRegressor(bootstrap= True,\n",
        " colsample_bytree= 1.0,\n",
        " gamma= 1.5,\n",
        " learning_rate= 0.05,\n",
        " max_depth= 8,\n",
        " min_child_weight= 10,\n",
        " n_estimators = 200,\n",
        " subsample= 0.75, random_state = 20,n_jobs=-1)\n",
        "results_kfoldxgb = cross_val_score(model_kfoldxgb, X, Y, cv=kfold)\n",
        "print(\"Accuracy: %.2f%%\" % (results_kfoldxgb.mean()*100.0)) \n",
        "for train_index, test_index in kfold.split(X):\n",
        "    print(\"TRAIN:\", train_index, \"TEST:\", test_index)\n",
        "    X_trainkf, X_testkf = X[train_index], X[test_index]\n",
        "    y_trainkf, y_testkf = Y[train_index], Y[test_index]\n",
        "clfxgb = model_kfoldxgb.fit(X_trainkf, y_trainkf)\n",
        "print(\"Residual sum of squares: %.2f\"\n",
        "    % np.mean((model_kfoldxgb.predict(X_testkf) - y_testkf) ** 2))\n",
        "#Explained variance score: 1 is perfect prediction\n",
        "print('Variance score: %.2f' % model_kfoldxgb.score(X_testkf, y_testkf))\n",
        "kfoldxgb = model_kfoldxgb.predict(X_testkf)\n",
        "print(\"RMSE is\",np.sqrt(mean_squared_error(y_testkf,kfoldxgb))) \n",
        "print(\"R2 \",r2_score(y_testkf, kfoldxgb))\n",
        "print(\"MAE \", mean_absolute_error(y_testkf, kfoldxgb))\n",
        "print(\"MSE \",mean_squared_error(y_testkf,kfoldxgb))"
      ],
      "execution_count": 0,
      "outputs": [
        {
          "output_type": "stream",
          "text": [
            "[09:16:59] WARNING: /workspace/src/objective/regression_obj.cu:152: reg:linear is now deprecated in favor of reg:squarederror.\n",
            "[09:17:27] WARNING: /workspace/src/objective/regression_obj.cu:152: reg:linear is now deprecated in favor of reg:squarederror.\n",
            "[09:17:55] WARNING: /workspace/src/objective/regression_obj.cu:152: reg:linear is now deprecated in favor of reg:squarederror.\n",
            "[09:18:22] WARNING: /workspace/src/objective/regression_obj.cu:152: reg:linear is now deprecated in favor of reg:squarederror.\n",
            "[09:18:50] WARNING: /workspace/src/objective/regression_obj.cu:152: reg:linear is now deprecated in favor of reg:squarederror.\n",
            "[09:19:17] WARNING: /workspace/src/objective/regression_obj.cu:152: reg:linear is now deprecated in favor of reg:squarederror.\n",
            "[09:19:45] WARNING: /workspace/src/objective/regression_obj.cu:152: reg:linear is now deprecated in favor of reg:squarederror.\n",
            "[09:20:12] WARNING: /workspace/src/objective/regression_obj.cu:152: reg:linear is now deprecated in favor of reg:squarederror.\n",
            "[09:20:40] WARNING: /workspace/src/objective/regression_obj.cu:152: reg:linear is now deprecated in favor of reg:squarederror.\n",
            "[09:21:08] WARNING: /workspace/src/objective/regression_obj.cu:152: reg:linear is now deprecated in favor of reg:squarederror.\n",
            "Accuracy: 86.25%\n",
            "TRAIN: [    0     1     2 ... 33562 33563 33564] TEST: [   16    21    45 ... 33521 33537 33544]\n",
            "TRAIN: [    0     2     3 ... 33561 33563 33564] TEST: [    1     6     8 ... 33546 33551 33562]\n",
            "TRAIN: [    0     1     2 ... 33562 33563 33564] TEST: [    9    24    28 ... 33531 33553 33555]\n",
            "TRAIN: [    0     1     2 ... 33562 33563 33564] TEST: [   33    35    36 ... 33545 33552 33559]\n",
            "TRAIN: [    0     1     2 ... 33562 33563 33564] TEST: [   20    26    32 ... 33510 33523 33530]\n",
            "TRAIN: [    1     2     3 ... 33562 33563 33564] TEST: [    0     7    14 ... 33533 33540 33556]\n",
            "TRAIN: [    0     1     3 ... 33560 33561 33562] TEST: [    2    11    25 ... 33557 33563 33564]\n",
            "TRAIN: [    0     1     2 ... 33562 33563 33564] TEST: [   12    15    22 ... 33548 33554 33560]\n",
            "TRAIN: [    0     1     2 ... 33562 33563 33564] TEST: [    4    23    42 ... 33543 33547 33558]\n",
            "TRAIN: [    0     1     2 ... 33562 33563 33564] TEST: [    3     5    17 ... 33549 33550 33561]\n",
            "[09:21:35] WARNING: /workspace/src/objective/regression_obj.cu:152: reg:linear is now deprecated in favor of reg:squarederror.\n",
            "Residual sum of squares: 6.38\n",
            "Variance score: 0.88\n",
            "RMSE is 2.5256967673603388\n",
            "R2  0.8814076365428613\n",
            "MAE  1.5832698832358165\n",
            "MSE  6.379144160654466\n"
          ],
          "name": "stdout"
        }
      ]
    },
    {
      "cell_type": "code",
      "metadata": {
        "id": "iuT1gdr-G2Vt",
        "colab_type": "code",
        "outputId": "ba66ecf8-9590-4e90-f5c9-2569a10afec8",
        "colab": {
          "base_uri": "https://localhost:8080/",
          "height": 87
        }
      },
      "source": [
        "#Train accuracy\n",
        "trainac = model_kfoldxgb.predict(X_trainkf)\n",
        "print(\"RMSE is\",np.sqrt(mean_squared_error(y_trainkf,trainac))) \n",
        "print(\"R2 \",r2_score(y_trainkf, trainac))\n",
        "print(\"MAE \", mean_absolute_error(y_trainkf, trainac))\n",
        "print(\"MSE \",mean_squared_error(y_trainkf,trainac))"
      ],
      "execution_count": 0,
      "outputs": [
        {
          "output_type": "stream",
          "text": [
            "RMSE is 2.0627460768498187\n",
            "R2  0.9084702377897633\n",
            "MAE  1.3097718812508254\n",
            "MSE  4.2549213775593175\n"
          ],
          "name": "stdout"
        }
      ]
    }
  ]
}