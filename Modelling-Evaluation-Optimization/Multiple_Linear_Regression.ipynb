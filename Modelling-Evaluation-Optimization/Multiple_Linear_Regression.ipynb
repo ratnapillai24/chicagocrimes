{
  "nbformat": 4,
  "nbformat_minor": 0,
  "metadata": {
    "kernelspec": {
      "display_name": "Python 3",
      "language": "python",
      "name": "python3"
    },
    "language_info": {
      "codemirror_mode": {
        "name": "ipython",
        "version": 3
      },
      "file_extension": ".py",
      "mimetype": "text/x-python",
      "name": "python",
      "nbconvert_exporter": "python",
      "pygments_lexer": "ipython3",
      "version": "3.6.5"
    },
    "colab": {
      "name": "Multiple Linear Regression.ipynb",
      "provenance": [],
      "collapsed_sections": []
    }
  },
  "cells": [
    {
      "cell_type": "code",
      "metadata": {
        "colab_type": "code",
        "id": "q4V_sGImvQqD",
        "colab": {}
      },
      "source": [
        "# Multiple Linear Regression\n",
        "# Importing the libraries\n",
        "import numpy as np\n",
        "import matplotlib.pyplot as plt\n",
        "import pandas as pd\n",
        "from sklearn.model_selection import train_test_split\n",
        "from sklearn.preprocessing import  MinMaxScaler\n",
        "from sklearn import model_selection\n",
        "from sklearn.model_selection import KFold,cross_val_score\n",
        "from sklearn.metrics import mean_squared_error, r2_score\n",
        "import warnings\n",
        "warnings.filterwarnings(\"ignore\")"
      ],
      "execution_count": 0,
      "outputs": []
    },
    {
      "cell_type": "code",
      "metadata": {
        "id": "SQoDxfVEsLPw",
        "colab_type": "code",
        "outputId": "45c9820a-95f6-465d-f836-e0dd2ed3de97",
        "colab": {
          "resources": {
            "http://localhost:8080/nbextensions/google.colab/files.js": {
              "data": "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",
              "ok": true,
              "headers": [
                [
                  "content-type",
                  "application/javascript"
                ]
              ],
              "status": 200,
              "status_text": ""
            }
          },
          "base_uri": "https://localhost:8080/",
          "height": 74
        }
      },
      "source": [
        "from google.colab import files\n",
        "uploaded = files.upload()"
      ],
      "execution_count": 0,
      "outputs": [
        {
          "output_type": "display_data",
          "data": {
            "text/html": [
              "\n",
              "     <input type=\"file\" id=\"files-d9ef6a9a-ade1-4ba9-85f1-1d6a1f6d5cbb\" name=\"files[]\" multiple disabled />\n",
              "     <output id=\"result-d9ef6a9a-ade1-4ba9-85f1-1d6a1f6d5cbb\">\n",
              "      Upload widget is only available when the cell has been executed in the\n",
              "      current browser session. Please rerun this cell to enable.\n",
              "      </output>\n",
              "      <script src=\"/nbextensions/google.colab/files.js\"></script> "
            ],
            "text/plain": [
              "<IPython.core.display.HTML object>"
            ]
          },
          "metadata": {
            "tags": []
          }
        },
        {
          "output_type": "stream",
          "text": [
            "Saving CrimeMerged.csv to CrimeMerged.csv\n"
          ],
          "name": "stdout"
        }
      ]
    },
    {
      "cell_type": "code",
      "metadata": {
        "id": "9Q7_IBxusCRI",
        "colab_type": "code",
        "colab": {}
      },
      "source": [
        "#Read the file\n",
        "narcotics = pd.read_csv('CrimeMerged.csv')"
      ],
      "execution_count": 0,
      "outputs": []
    },
    {
      "cell_type": "code",
      "metadata": {
        "id": "KVLtg9G1sCRL",
        "colab_type": "code",
        "colab": {}
      },
      "source": [
        "#Based on feature selection carried out, select only those features\n",
        "best = narcotics[['geohash', 'Primary_Type', 'Year', 'Month', 'WEEKDAY', 'Holiday',\n",
        "                     'Time', 'crimescount','Avg_Student_Attendance_Rate', 'Avg_Teacher_Attendance_Rate', 'Mobility_Rate_Pct', 'NearestPoliceDist', 'NearestRedCamDist',\n",
        "                      'RedCamCount', 'SchoolCount', 'avgTemp', 'prcp','wind'\n",
        "]]"
      ],
      "execution_count": 0,
      "outputs": []
    },
    {
      "cell_type": "code",
      "metadata": {
        "id": "GhSg-i9VsCRO",
        "colab_type": "code",
        "colab": {}
      },
      "source": [
        "#Convert the categorical columns to objects before performing one hot encoding\n",
        "best.Month = best.Month.astype(object)\n",
        "best.geohash = best.geohash.astype(object)\n",
        "best.Year = best.Year.astype(object)\n",
        "best.WEEKDAY = best.WEEKDAY.astype(object)\n",
        "best.Holiday = best.Holiday.astype(object)\n",
        "best.Time = best.Time.astype(object)\n"
      ],
      "execution_count": 0,
      "outputs": []
    },
    {
      "cell_type": "code",
      "metadata": {
        "id": "zustxR41sCRS",
        "colab_type": "code",
        "outputId": "a81df223-c0e6-4a6f-af5b-6c229c2fda0b",
        "colab": {
          "base_uri": "https://localhost:8080/",
          "height": 224
        }
      },
      "source": [
        "best.head()"
      ],
      "execution_count": 0,
      "outputs": [
        {
          "output_type": "execute_result",
          "data": {
            "text/html": [
              "<div>\n",
              "<style scoped>\n",
              "    .dataframe tbody tr th:only-of-type {\n",
              "        vertical-align: middle;\n",
              "    }\n",
              "\n",
              "    .dataframe tbody tr th {\n",
              "        vertical-align: top;\n",
              "    }\n",
              "\n",
              "    .dataframe thead th {\n",
              "        text-align: right;\n",
              "    }\n",
              "</style>\n",
              "<table border=\"1\" class=\"dataframe\">\n",
              "  <thead>\n",
              "    <tr style=\"text-align: right;\">\n",
              "      <th></th>\n",
              "      <th>geohash</th>\n",
              "      <th>Primary_Type</th>\n",
              "      <th>Year</th>\n",
              "      <th>Month</th>\n",
              "      <th>WEEKDAY</th>\n",
              "      <th>Holiday</th>\n",
              "      <th>Time</th>\n",
              "      <th>crimescount</th>\n",
              "      <th>Avg_Student_Attendance_Rate</th>\n",
              "      <th>Avg_Teacher_Attendance_Rate</th>\n",
              "      <th>Mobility_Rate_Pct</th>\n",
              "      <th>NearestPoliceDist</th>\n",
              "      <th>NearestRedCamDist</th>\n",
              "      <th>RedCamCount</th>\n",
              "      <th>SchoolCount</th>\n",
              "      <th>avgTemp</th>\n",
              "      <th>prcp</th>\n",
              "      <th>wind</th>\n",
              "    </tr>\n",
              "  </thead>\n",
              "  <tbody>\n",
              "    <tr>\n",
              "      <th>0</th>\n",
              "      <td>dp3sy</td>\n",
              "      <td>ASSAULT</td>\n",
              "      <td>2015</td>\n",
              "      <td>1</td>\n",
              "      <td>0</td>\n",
              "      <td>False</td>\n",
              "      <td>afternoon</td>\n",
              "      <td>3</td>\n",
              "      <td>92.83</td>\n",
              "      <td>94.57</td>\n",
              "      <td>26.88</td>\n",
              "      <td>4.16</td>\n",
              "      <td>3.93</td>\n",
              "      <td>0.0</td>\n",
              "      <td>5.0</td>\n",
              "      <td>59.418065</td>\n",
              "      <td>33.283226</td>\n",
              "      <td>34.589677</td>\n",
              "    </tr>\n",
              "    <tr>\n",
              "      <th>1</th>\n",
              "      <td>dp3sy</td>\n",
              "      <td>ASSAULT</td>\n",
              "      <td>2015</td>\n",
              "      <td>1</td>\n",
              "      <td>0</td>\n",
              "      <td>False</td>\n",
              "      <td>evening</td>\n",
              "      <td>3</td>\n",
              "      <td>92.83</td>\n",
              "      <td>94.57</td>\n",
              "      <td>26.88</td>\n",
              "      <td>4.16</td>\n",
              "      <td>3.93</td>\n",
              "      <td>0.0</td>\n",
              "      <td>5.0</td>\n",
              "      <td>59.418065</td>\n",
              "      <td>33.283226</td>\n",
              "      <td>34.589677</td>\n",
              "    </tr>\n",
              "    <tr>\n",
              "      <th>2</th>\n",
              "      <td>dp3sy</td>\n",
              "      <td>ASSAULT</td>\n",
              "      <td>2015</td>\n",
              "      <td>1</td>\n",
              "      <td>0</td>\n",
              "      <td>False</td>\n",
              "      <td>morning</td>\n",
              "      <td>2</td>\n",
              "      <td>92.83</td>\n",
              "      <td>94.57</td>\n",
              "      <td>26.88</td>\n",
              "      <td>4.16</td>\n",
              "      <td>3.93</td>\n",
              "      <td>0.0</td>\n",
              "      <td>5.0</td>\n",
              "      <td>59.418065</td>\n",
              "      <td>33.283226</td>\n",
              "      <td>34.589677</td>\n",
              "    </tr>\n",
              "    <tr>\n",
              "      <th>3</th>\n",
              "      <td>dp3sy</td>\n",
              "      <td>ASSAULT</td>\n",
              "      <td>2015</td>\n",
              "      <td>1</td>\n",
              "      <td>0</td>\n",
              "      <td>False</td>\n",
              "      <td>night</td>\n",
              "      <td>2</td>\n",
              "      <td>92.83</td>\n",
              "      <td>94.57</td>\n",
              "      <td>26.88</td>\n",
              "      <td>4.16</td>\n",
              "      <td>3.93</td>\n",
              "      <td>0.0</td>\n",
              "      <td>5.0</td>\n",
              "      <td>59.418065</td>\n",
              "      <td>33.283226</td>\n",
              "      <td>34.589677</td>\n",
              "    </tr>\n",
              "    <tr>\n",
              "      <th>4</th>\n",
              "      <td>dp3sy</td>\n",
              "      <td>ASSAULT</td>\n",
              "      <td>2015</td>\n",
              "      <td>1</td>\n",
              "      <td>1</td>\n",
              "      <td>False</td>\n",
              "      <td>evening</td>\n",
              "      <td>1</td>\n",
              "      <td>92.83</td>\n",
              "      <td>94.57</td>\n",
              "      <td>26.88</td>\n",
              "      <td>4.16</td>\n",
              "      <td>3.93</td>\n",
              "      <td>0.0</td>\n",
              "      <td>5.0</td>\n",
              "      <td>59.418065</td>\n",
              "      <td>33.283226</td>\n",
              "      <td>34.589677</td>\n",
              "    </tr>\n",
              "  </tbody>\n",
              "</table>\n",
              "</div>"
            ],
            "text/plain": [
              "  geohash Primary_Type  Year  ...    avgTemp       prcp       wind\n",
              "0   dp3sy      ASSAULT  2015  ...  59.418065  33.283226  34.589677\n",
              "1   dp3sy      ASSAULT  2015  ...  59.418065  33.283226  34.589677\n",
              "2   dp3sy      ASSAULT  2015  ...  59.418065  33.283226  34.589677\n",
              "3   dp3sy      ASSAULT  2015  ...  59.418065  33.283226  34.589677\n",
              "4   dp3sy      ASSAULT  2015  ...  59.418065  33.283226  34.589677\n",
              "\n",
              "[5 rows x 18 columns]"
            ]
          },
          "metadata": {
            "tags": []
          },
          "execution_count": 9
        }
      ]
    },
    {
      "cell_type": "code",
      "metadata": {
        "id": "LLYtKunFsCRV",
        "colab_type": "code",
        "colab": {}
      },
      "source": [
        "#Scaling only on numerical columns\n",
        "numericols = ['float64','int64']\n",
        "numericbest = best.select_dtypes(include=numericols)\n",
        "from sklearn.preprocessing import StandardScaler,OneHotEncoder\n",
        "sc = MinMaxScaler()\n",
        "NUM = sc.fit_transform(numericbest)"
      ],
      "execution_count": 0,
      "outputs": []
    },
    {
      "cell_type": "code",
      "metadata": {
        "id": "zwfDcwqPsCRX",
        "colab_type": "code",
        "colab": {}
      },
      "source": [
        "#One hot encoding for only categorical columns\n",
        "ohe    = OneHotEncoder(sparse=False)\n",
        "cat =  best.select_dtypes('object')\n",
        "columns_to_encode = cat.columns\n",
        "encoded_columns =    ohe.fit_transform(cat[columns_to_encode])"
      ],
      "execution_count": 0,
      "outputs": []
    },
    {
      "cell_type": "code",
      "metadata": {
        "id": "KzZyyvY4sCRa",
        "colab_type": "code",
        "colab": {}
      },
      "source": [
        "#Merge both categorical and numerical features\n",
        "final_best = np.concatenate([NUM, encoded_columns], axis=1)"
      ],
      "execution_count": 0,
      "outputs": []
    },
    {
      "cell_type": "code",
      "metadata": {
        "id": "kRYM1hXrsCRc",
        "colab_type": "code",
        "outputId": "ea95414a-85d6-4f35-d42f-95b844e18cfe",
        "colab": {
          "base_uri": "https://localhost:8080/",
          "height": 34
        }
      },
      "source": [
        "#Convert to dataframe as the above transformation led to arrays\n",
        "final = pd.DataFrame(final_best)\n",
        "final.shape"
      ],
      "execution_count": 0,
      "outputs": [
        {
          "output_type": "execute_result",
          "data": {
            "text/plain": [
              "(33565, 86)"
            ]
          },
          "metadata": {
            "tags": []
          },
          "execution_count": 49
        }
      ]
    },
    {
      "cell_type": "code",
      "metadata": {
        "id": "rdA-YRFTsCRf",
        "colab_type": "code",
        "colab": {}
      },
      "source": [
        "bestdf_dummies = pd.get_dummies(best)\n",
        "final.columns = bestdf_dummies.columns"
      ],
      "execution_count": 0,
      "outputs": []
    },
    {
      "cell_type": "code",
      "metadata": {
        "id": "4-H8ncVfsCRh",
        "colab_type": "code",
        "colab": {}
      },
      "source": [
        "X = final.drop(columns='crimescount')\n",
        "y = final.crimescount"
      ],
      "execution_count": 0,
      "outputs": []
    },
    {
      "cell_type": "code",
      "metadata": {
        "id": "JxymGo-BsCRn",
        "colab_type": "code",
        "colab": {}
      },
      "source": [
        "# Splitting the dataset into the Training set and Test set\n",
        "from sklearn.model_selection import train_test_split\n",
        "X_train, X_test, y_train, y_test = train_test_split(X, y, test_size = 0.2, random_state = 20)"
      ],
      "execution_count": 0,
      "outputs": []
    },
    {
      "cell_type": "code",
      "metadata": {
        "id": "Ibl17FT2sCRq",
        "colab_type": "code",
        "outputId": "5611aa21-41d9-42a2-f3c7-44f5108308ee",
        "colab": {
          "base_uri": "https://localhost:8080/",
          "height": 85
        }
      },
      "source": [
        "# Fitting Multiple Linear Regression to the Training set\n",
        "from sklearn.linear_model import LinearRegression\n",
        "from sklearn.metrics import mean_squared_error, r2_score, mean_absolute_error\n",
        "regressor = LinearRegression()\n",
        "regressor.fit(X_train, y_train)\n",
        "# Predicting the Test set results\n",
        "y_pred = regressor.predict(X_test)\n",
        "from sklearn.metrics import r2_score\n",
        "#score=r2_score(y_test,y_pred)\n",
        "print(\"R2 \",r2_score(y_test,y_pred))\n",
        "print(\"MAE \", mean_absolute_error(y_test,y_pred))\n",
        "print(\"MSE \",mean_squared_error(y_test,y_pred))\n",
        "print(\"RMSE is\",np.sqrt(mean_squared_error(y_test,y_pred))) "
      ],
      "execution_count": 0,
      "outputs": [
        {
          "output_type": "stream",
          "text": [
            "R2  0.41036093095043813\n",
            "MAE  0.025250471872647166\n",
            "MSE  0.0019595689067099815\n",
            "RMSE is 0.04426701827218524\n"
          ],
          "name": "stdout"
        }
      ]
    },
    {
      "cell_type": "code",
      "metadata": {
        "id": "5AGnyMJhsCRu",
        "colab_type": "code",
        "outputId": "7f223cb9-75ff-422d-e6e9-aa7a85454ad9",
        "colab": {
          "base_uri": "https://localhost:8080/",
          "height": 51
        }
      },
      "source": [
        "y_pred"
      ],
      "execution_count": 0,
      "outputs": [
        {
          "output_type": "execute_result",
          "data": {
            "text/plain": [
              "array([0.00500488, 0.06762695, 0.03283691, ..., 0.0357666 , 0.03112793,\n",
              "       0.00439453])"
            ]
          },
          "metadata": {
            "tags": []
          },
          "execution_count": 56
        }
      ]
    },
    {
      "cell_type": "code",
      "metadata": {
        "id": "dMUqO24YsCRw",
        "colab_type": "code",
        "colab": {}
      },
      "source": [
        "residual = y_test-y_pred"
      ],
      "execution_count": 0,
      "outputs": []
    },
    {
      "cell_type": "code",
      "metadata": {
        "id": "JIUemDRfsCRz",
        "colab_type": "code",
        "outputId": "4b093f45-d499-4bf6-f64e-e34d350c00d0",
        "colab": {
          "base_uri": "https://localhost:8080/",
          "height": 221
        }
      },
      "source": [
        "residual"
      ],
      "execution_count": 0,
      "outputs": [
        {
          "output_type": "execute_result",
          "data": {
            "text/plain": [
              "21377   -0.005005\n",
              "13524    0.095164\n",
              "32836   -0.001829\n",
              "5997     0.001344\n",
              "32601    0.029358\n",
              "           ...   \n",
              "642     -0.000488\n",
              "28354   -0.021179\n",
              "3004    -0.012511\n",
              "6854     0.007632\n",
              "33495   -0.004395\n",
              "Name: crimescount, Length: 6713, dtype: float64"
            ]
          },
          "metadata": {
            "tags": []
          },
          "execution_count": 58
        }
      ]
    },
    {
      "cell_type": "code",
      "metadata": {
        "id": "EFIcuLS2sCR1",
        "colab_type": "code",
        "outputId": "5a8cd6a8-3e45-4105-9f4f-ec5e1736c226",
        "colab": {
          "base_uri": "https://localhost:8080/",
          "height": 361
        }
      },
      "source": [
        "fig, ax = plt.subplots(figsize=(10,5))\n",
        "_ = ax.scatter(residual, y_pred)\n",
        "# Set common labels\n",
        "ax.tick_params(axis=\"x\", labelsize=15)\n",
        "ax.tick_params(axis=\"y\", labelsize=15)\n",
        "ax.set_xlabel('Residuals', fontsize=15)\n",
        "ax.set_ylabel('Predictions', fontsize=15)\n",
        "\n",
        "#The residual vs predictions is clumped and the behaviour is not random, thus homoscedasticity assumption not satisfied"
      ],
      "execution_count": 0,
      "outputs": [
        {
          "output_type": "execute_result",
          "data": {
            "text/plain": [
              "Text(0, 0.5, 'Predictions')"
            ]
          },
          "metadata": {
            "tags": []
          },
          "execution_count": 59
        },
        {
          "output_type": "display_data",
          "data": {
            "image/png": "[encoded data removed]",
            "text/plain": [
              "<Figure size 720x360 with 1 Axes>"
            ]
          },
          "metadata": {
            "tags": []
          }
        }
      ]
    },
    {
      "cell_type": "code",
      "metadata": {
        "id": "xNk8EanwsCR3",
        "colab_type": "code",
        "outputId": "6c214d88-0d14-4ee8-a8b6-21eb9595a155",
        "colab": {
          "base_uri": "https://localhost:8080/",
          "height": 379
        }
      },
      "source": [
        "import scipy as sp\n",
        "fig, ax = plt.subplots(figsize=(10,5))\n",
        "_, (__, ___, r) = sp.stats.probplot(residual, plot=ax, fit=True)\n",
        "ax.tick_params(axis=\"x\", labelsize=15)\n",
        "ax.tick_params(axis=\"y\", labelsize=15)\n",
        "ax.set_title('Normal Probability Plot for Errors', fontsize=16)\n",
        "ax.set_xlabel('Observed Cumulative Probability', fontsize=16)\n",
        "ax.set_ylabel('Expected Cumulative Probability', fontsize=16)\n",
        "\n",
        "\n",
        "#The residuals are non-linear and hence linear regression not a suitable model"
      ],
      "execution_count": 0,
      "outputs": [
        {
          "output_type": "execute_result",
          "data": {
            "text/plain": [
              "Text(0, 0.5, 'Expected Cumulative Probability')"
            ]
          },
          "metadata": {
            "tags": []
          },
          "execution_count": 60
        },
        {
          "output_type": "display_data",
          "data": {
            "image/png": "[encoded data removed]",
            "text/plain": [
              "<Figure size 720x360 with 1 Axes>"
            ]
          },
          "metadata": {
            "tags": []
          }
        }
      ]
    },
    {
      "cell_type": "code",
      "metadata": {
        "id": "4c1NL9JRsCR5",
        "colab_type": "code",
        "outputId": "14fc1bad-0964-45b6-db66-c24bb5a39ebc",
        "colab": {
          "base_uri": "https://localhost:8080/",
          "height": 272
        }
      },
      "source": [
        "np.random.seed(80)\n",
        "X = final.drop(columns='crimescount').values\n",
        "Y = final.crimescount.values\n",
        "kfold = model_selection.KFold(n_splits=10, random_state=200, shuffle=True)\n",
        "lrkf = LinearRegression()\n",
        "results_kfoldlr = model_selection.cross_val_score(lrkf, X, Y, cv=kfold)\n",
        "for train_index, test_index in kfold.split(X):\n",
        "    print(\"TRAIN:\", train_index, \"TEST:\", test_index)\n",
        "    X_trainkf, X_testkf = X[train_index], X[test_index]\n",
        "    y_trainkf, y_testkf = Y[train_index], Y[test_index]\n",
        "results_kfoldrlr= model_selection.cross_val_score(lrkf, X, Y, cv=kfold)\n",
        "print(\"Accuracy: %.2f%%\" % (results_kfoldlr.mean()*100.0)) \n",
        "clfrfthree = lrkf.fit(X_trainkf, y_trainkf)\n",
        "kfoldlr = clfrfthree.predict(X_testkf)\n",
        "print(\"RMSE is\",np.sqrt(mean_squared_error(y_testkf,kfoldlr))) \n",
        "print(\"R2 \",r2_score(y_testkf, kfoldlr))\n",
        "print(\"MAE \", mean_absolute_error(y_testkf, kfoldlr))\n",
        "print(\"MSE \",mean_squared_error(y_testkf,kfoldlr))"
      ],
      "execution_count": 0,
      "outputs": [
        {
          "output_type": "stream",
          "text": [
            "TRAIN: [    0     1     2 ... 33562 33563 33564] TEST: [   16    21    45 ... 33521 33537 33544]\n",
            "TRAIN: [    0     2     3 ... 33561 33563 33564] TEST: [    1     6     8 ... 33546 33551 33562]\n",
            "TRAIN: [    0     1     2 ... 33562 33563 33564] TEST: [    9    24    28 ... 33531 33553 33555]\n",
            "TRAIN: [    0     1     2 ... 33562 33563 33564] TEST: [   33    35    36 ... 33545 33552 33559]\n",
            "TRAIN: [    0     1     2 ... 33562 33563 33564] TEST: [   20    26    32 ... 33510 33523 33530]\n",
            "TRAIN: [    1     2     3 ... 33562 33563 33564] TEST: [    0     7    14 ... 33533 33540 33556]\n",
            "TRAIN: [    0     1     3 ... 33560 33561 33562] TEST: [    2    11    25 ... 33557 33563 33564]\n",
            "TRAIN: [    0     1     2 ... 33562 33563 33564] TEST: [   12    15    22 ... 33548 33554 33560]\n",
            "TRAIN: [    0     1     2 ... 33562 33563 33564] TEST: [    4    23    42 ... 33543 33547 33558]\n",
            "TRAIN: [    0     1     2 ... 33562 33563 33564] TEST: [    3     5    17 ... 33549 33550 33561]\n",
            "Accuracy: 42.41%\n",
            "RMSE is 0.043204453595321414\n",
            "R2  0.4225282249856235\n",
            "MAE  0.02504437363916206\n",
            "MSE  0.0018666248104702813\n"
          ],
          "name": "stdout"
        }
      ]
    }
  ]
}